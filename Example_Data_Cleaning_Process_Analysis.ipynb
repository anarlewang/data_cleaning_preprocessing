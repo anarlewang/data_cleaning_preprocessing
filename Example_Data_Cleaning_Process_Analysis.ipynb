{
  "nbformat": 4,
  "nbformat_minor": 0,
  "metadata": {
    "colab": {
      "name": "Example_Data_Cleaning_Process_Analysis.ipynb",
      "provenance": []
    },
    "kernelspec": {
      "name": "python3",
      "display_name": "Python 3"
    },
    "language_info": {
      "name": "python"
    }
  },
  "cells": [
    {
      "cell_type": "markdown",
      "source": [
        "## Data Cleaning & Preprocessing: Currency Data\n",
        "Author: Jingyuan\\\n",
        "Date: 2022-06-05\\\n",
        "Data storage: GCP bucket\\\n",
        "Computational platform: GCP (Google Collab)"
      ],
      "metadata": {
        "id": "7SdO6Ch7_ge8"
      }
    },
    {
      "cell_type": "markdown",
      "source": [
        "### Import Python Libraries"
      ],
      "metadata": {
        "id": "8100x17iAK1l"
      }
    },
    {
      "cell_type": "markdown",
      "source": [
        "#### Update packages"
      ],
      "metadata": {
        "id": "p8PD0yKcLr50"
      }
    },
    {
      "cell_type": "code",
      "source": [
        "!pip3 install --upgrade pandas"
      ],
      "metadata": {
        "colab": {
          "base_uri": "https://localhost:8080/"
        },
        "id": "SAOAV-4sLVgP",
        "outputId": "2df27ede-abc3-4d9e-af45-7c4d31c97ac4"
      },
      "execution_count": 1,
      "outputs": [
        {
          "output_type": "stream",
          "name": "stdout",
          "text": [
            "Looking in indexes: https://pypi.org/simple, https://us-python.pkg.dev/colab-wheels/public/simple/\n",
            "Requirement already satisfied: pandas in /usr/local/lib/python3.7/dist-packages (1.3.5)\n",
            "Requirement already satisfied: numpy>=1.17.3 in /usr/local/lib/python3.7/dist-packages (from pandas) (1.21.6)\n",
            "Requirement already satisfied: pytz>=2017.3 in /usr/local/lib/python3.7/dist-packages (from pandas) (2022.1)\n",
            "Requirement already satisfied: python-dateutil>=2.7.3 in /usr/local/lib/python3.7/dist-packages (from pandas) (2.8.2)\n",
            "Requirement already satisfied: six>=1.5 in /usr/local/lib/python3.7/dist-packages (from python-dateutil>=2.7.3->pandas) (1.15.0)\n"
          ]
        }
      ]
    },
    {
      "cell_type": "code",
      "source": [
        "!pip3 install --upgrade numpy"
      ],
      "metadata": {
        "colab": {
          "base_uri": "https://localhost:8080/"
        },
        "id": "733ik4sULXYt",
        "outputId": "32c2cf70-3494-4826-82ac-46ba43c38ab3"
      },
      "execution_count": 2,
      "outputs": [
        {
          "output_type": "stream",
          "name": "stdout",
          "text": [
            "Looking in indexes: https://pypi.org/simple, https://us-python.pkg.dev/colab-wheels/public/simple/\n",
            "Requirement already satisfied: numpy in /usr/local/lib/python3.7/dist-packages (1.21.6)\n"
          ]
        }
      ]
    },
    {
      "cell_type": "markdown",
      "source": [
        "#### Import"
      ],
      "metadata": {
        "id": "1wBAFEHOLvOh"
      }
    },
    {
      "cell_type": "code",
      "source": [
        "import pandas as pd\n",
        "import numpy as np\n",
        "import os"
      ],
      "metadata": {
        "id": "QZpZ6uB7AKJw"
      },
      "execution_count": 3,
      "outputs": []
    },
    {
      "cell_type": "code",
      "source": [
        "os.getcwd()"
      ],
      "metadata": {
        "colab": {
          "base_uri": "https://localhost:8080/",
          "height": 35
        },
        "id": "GK_TJnxtDavZ",
        "outputId": "d811bdf5-f519-4ef8-99aa-e291d9cf00fa"
      },
      "execution_count": 4,
      "outputs": [
        {
          "output_type": "execute_result",
          "data": {
            "text/plain": [
              "'/content'"
            ],
            "application/vnd.google.colaboratory.intrinsic+json": {
              "type": "string"
            }
          },
          "metadata": {},
          "execution_count": 4
        }
      ]
    },
    {
      "cell_type": "markdown",
      "source": [
        "### Data Aquisation"
      ],
      "metadata": {
        "id": "5h6s9fMPADJx"
      }
    },
    {
      "cell_type": "code",
      "source": [
        "! curl -O https://storage.googleapis.com/data_bucket_mma/data/Example_Data.xlsx"
      ],
      "metadata": {
        "colab": {
          "base_uri": "https://localhost:8080/"
        },
        "id": "XwodS0DBFK8a",
        "outputId": "e7dd144e-7f17-497a-ff3e-0747851ba59e"
      },
      "execution_count": 5,
      "outputs": [
        {
          "output_type": "stream",
          "name": "stdout",
          "text": [
            "  % Total    % Received % Xferd  Average Speed   Time    Time     Time  Current\n",
            "                                 Dload  Upload   Total   Spent    Left  Speed\n",
            "\r  0     0    0     0    0     0      0      0 --:--:-- --:--:-- --:--:--     0\r100 33824  100 33824    0     0  1270k      0 --:--:-- --:--:-- --:--:-- 1321k\n"
          ]
        }
      ]
    },
    {
      "cell_type": "code",
      "source": [
        "from pathlib import Path\n",
        "file_path = Path(os.getcwd()+'/Example_Data.xlsx')\n",
        "file_extension = file_path.suffix.lower()[1:]"
      ],
      "metadata": {
        "id": "RIBhgQ72D9Q4"
      },
      "execution_count": 6,
      "outputs": []
    },
    {
      "cell_type": "code",
      "source": [
        "print(file_extension)"
      ],
      "metadata": {
        "colab": {
          "base_uri": "https://localhost:8080/"
        },
        "id": "PXNaOGk7D-Y5",
        "outputId": "a3cab226-5c93-4b91-afab-c269d0522f0a"
      },
      "execution_count": 7,
      "outputs": [
        {
          "output_type": "stream",
          "name": "stdout",
          "text": [
            "xlsx\n"
          ]
        }
      ]
    },
    {
      "cell_type": "code",
      "source": [
        "raw_data = pd.read_excel(file_path, sheet_name=None, engine='openpyxl')"
      ],
      "metadata": {
        "id": "9UqiodBM-7Bd"
      },
      "execution_count": 8,
      "outputs": []
    },
    {
      "cell_type": "code",
      "source": [
        "raw_data.keys()"
      ],
      "metadata": {
        "colab": {
          "base_uri": "https://localhost:8080/"
        },
        "id": "w9tXc7m7FaGQ",
        "outputId": "49e205b5-9fbe-4bf5-8cfb-9f6d2587d545"
      },
      "execution_count": 9,
      "outputs": [
        {
          "output_type": "execute_result",
          "data": {
            "text/plain": [
              "dict_keys(['Example_Data', 'Example_DB', 'Example_Answer'])"
            ]
          },
          "metadata": {},
          "execution_count": 9
        }
      ]
    },
    {
      "cell_type": "code",
      "source": [
        "Example_Answer = raw_data['Example_Answer']\n",
        "Example_DB = raw_data['Example_DB']\n",
        "Example_Data = raw_data['Example_Data']"
      ],
      "metadata": {
        "id": "9b797MjEB0yL"
      },
      "execution_count": 10,
      "outputs": []
    },
    {
      "cell_type": "code",
      "source": [
        "del raw_data"
      ],
      "metadata": {
        "id": "FVqI1R6yFHZs"
      },
      "execution_count": 11,
      "outputs": []
    },
    {
      "cell_type": "markdown",
      "source": [
        "### Data Cleaning and Preprocessing\n"
      ],
      "metadata": {
        "id": "SkLvyMNnF6ZR"
      }
    },
    {
      "cell_type": "code",
      "source": [
        "Example_Data.info()"
      ],
      "metadata": {
        "colab": {
          "base_uri": "https://localhost:8080/"
        },
        "id": "qgQLN_C1Fx10",
        "outputId": "c5750539-638b-41eb-8feb-eecace2b78e4"
      },
      "execution_count": 12,
      "outputs": [
        {
          "output_type": "stream",
          "name": "stdout",
          "text": [
            "<class 'pandas.core.frame.DataFrame'>\n",
            "RangeIndex: 112 entries, 0 to 111\n",
            "Data columns (total 11 columns):\n",
            " #   Column          Non-Null Count  Dtype \n",
            "---  ------          --------------  ----- \n",
            " 0   Company Info    112 non-null    object\n",
            " 1   Unnamed: 1      112 non-null    object\n",
            " 2   Unnamed: 2      112 non-null    object\n",
            " 3   Unnamed: 3      112 non-null    object\n",
            " 4   Unnamed: 4      112 non-null    object\n",
            " 5   Unnamed: 5      112 non-null    object\n",
            " 6   Company Metric  112 non-null    object\n",
            " 7   Unnamed: 7      60 non-null     object\n",
            " 8   Unnamed: 8      112 non-null    object\n",
            " 9   Unnamed: 9      112 non-null    object\n",
            " 10  Unnamed: 10     112 non-null    object\n",
            "dtypes: object(11)\n",
            "memory usage: 9.8+ KB\n"
          ]
        }
      ]
    },
    {
      "cell_type": "code",
      "source": [
        "new_header = Example_Data.iloc[0].values\n",
        "Example_Data = Example_Data.iloc[1:,:]\n",
        "Example_Data.columns = new_header\n",
        "Example_Data.head()"
      ],
      "metadata": {
        "colab": {
          "base_uri": "https://localhost:8080/",
          "height": 268
        },
        "id": "igYE728QGDzA",
        "outputId": "5e6227ea-214c-430c-fd20-5a58da61852f"
      },
      "execution_count": 13,
      "outputs": [
        {
          "output_type": "execute_result",
          "data": {
            "text/plain": [
              "  Company ID Company Name Fiscal Year   Industry SIC Code Trading Currency  \\\n",
              "1    4993687    A Company        2010  Machinery     6085              USD   \n",
              "2    4993687    A Company        2011  Machinery     6085              USD   \n",
              "3    4993687    A Company        2012  Machinery     6085              USD   \n",
              "4    4993687    A Company        2013  Machinery     6085              USD   \n",
              "5    4993687    A Company        2014  Machinery     6085               3$   \n",
              "\n",
              "   SP   CDS  APD ARD ADA  \n",
              "1  75   564  109  44   0  \n",
              "2  66   721  102  47   0  \n",
              "3  29  1048   97  45   0  \n",
              "4  56   914   96  40   0  \n",
              "5  55   950   91  34   0  "
            ],
            "text/html": [
              "\n",
              "  <div id=\"df-5ae27cd7-e3d4-467d-87f5-105c67350f4d\">\n",
              "    <div class=\"colab-df-container\">\n",
              "      <div>\n",
              "<style scoped>\n",
              "    .dataframe tbody tr th:only-of-type {\n",
              "        vertical-align: middle;\n",
              "    }\n",
              "\n",
              "    .dataframe tbody tr th {\n",
              "        vertical-align: top;\n",
              "    }\n",
              "\n",
              "    .dataframe thead th {\n",
              "        text-align: right;\n",
              "    }\n",
              "</style>\n",
              "<table border=\"1\" class=\"dataframe\">\n",
              "  <thead>\n",
              "    <tr style=\"text-align: right;\">\n",
              "      <th></th>\n",
              "      <th>Company ID</th>\n",
              "      <th>Company Name</th>\n",
              "      <th>Fiscal Year</th>\n",
              "      <th>Industry</th>\n",
              "      <th>SIC Code</th>\n",
              "      <th>Trading Currency</th>\n",
              "      <th>SP</th>\n",
              "      <th>CDS</th>\n",
              "      <th>APD</th>\n",
              "      <th>ARD</th>\n",
              "      <th>ADA</th>\n",
              "    </tr>\n",
              "  </thead>\n",
              "  <tbody>\n",
              "    <tr>\n",
              "      <th>1</th>\n",
              "      <td>4993687</td>\n",
              "      <td>A Company</td>\n",
              "      <td>2010</td>\n",
              "      <td>Machinery</td>\n",
              "      <td>6085</td>\n",
              "      <td>USD</td>\n",
              "      <td>75</td>\n",
              "      <td>564</td>\n",
              "      <td>109</td>\n",
              "      <td>44</td>\n",
              "      <td>0</td>\n",
              "    </tr>\n",
              "    <tr>\n",
              "      <th>2</th>\n",
              "      <td>4993687</td>\n",
              "      <td>A Company</td>\n",
              "      <td>2011</td>\n",
              "      <td>Machinery</td>\n",
              "      <td>6085</td>\n",
              "      <td>USD</td>\n",
              "      <td>66</td>\n",
              "      <td>721</td>\n",
              "      <td>102</td>\n",
              "      <td>47</td>\n",
              "      <td>0</td>\n",
              "    </tr>\n",
              "    <tr>\n",
              "      <th>3</th>\n",
              "      <td>4993687</td>\n",
              "      <td>A Company</td>\n",
              "      <td>2012</td>\n",
              "      <td>Machinery</td>\n",
              "      <td>6085</td>\n",
              "      <td>USD</td>\n",
              "      <td>29</td>\n",
              "      <td>1048</td>\n",
              "      <td>97</td>\n",
              "      <td>45</td>\n",
              "      <td>0</td>\n",
              "    </tr>\n",
              "    <tr>\n",
              "      <th>4</th>\n",
              "      <td>4993687</td>\n",
              "      <td>A Company</td>\n",
              "      <td>2013</td>\n",
              "      <td>Machinery</td>\n",
              "      <td>6085</td>\n",
              "      <td>USD</td>\n",
              "      <td>56</td>\n",
              "      <td>914</td>\n",
              "      <td>96</td>\n",
              "      <td>40</td>\n",
              "      <td>0</td>\n",
              "    </tr>\n",
              "    <tr>\n",
              "      <th>5</th>\n",
              "      <td>4993687</td>\n",
              "      <td>A Company</td>\n",
              "      <td>2014</td>\n",
              "      <td>Machinery</td>\n",
              "      <td>6085</td>\n",
              "      <td>3$</td>\n",
              "      <td>55</td>\n",
              "      <td>950</td>\n",
              "      <td>91</td>\n",
              "      <td>34</td>\n",
              "      <td>0</td>\n",
              "    </tr>\n",
              "  </tbody>\n",
              "</table>\n",
              "</div>\n",
              "      <button class=\"colab-df-convert\" onclick=\"convertToInteractive('df-5ae27cd7-e3d4-467d-87f5-105c67350f4d')\"\n",
              "              title=\"Convert this dataframe to an interactive table.\"\n",
              "              style=\"display:none;\">\n",
              "        \n",
              "  <svg xmlns=\"http://www.w3.org/2000/svg\" height=\"24px\"viewBox=\"0 0 24 24\"\n",
              "       width=\"24px\">\n",
              "    <path d=\"M0 0h24v24H0V0z\" fill=\"none\"/>\n",
              "    <path d=\"M18.56 5.44l.94 2.06.94-2.06 2.06-.94-2.06-.94-.94-2.06-.94 2.06-2.06.94zm-11 1L8.5 8.5l.94-2.06 2.06-.94-2.06-.94L8.5 2.5l-.94 2.06-2.06.94zm10 10l.94 2.06.94-2.06 2.06-.94-2.06-.94-.94-2.06-.94 2.06-2.06.94z\"/><path d=\"M17.41 7.96l-1.37-1.37c-.4-.4-.92-.59-1.43-.59-.52 0-1.04.2-1.43.59L10.3 9.45l-7.72 7.72c-.78.78-.78 2.05 0 2.83L4 21.41c.39.39.9.59 1.41.59.51 0 1.02-.2 1.41-.59l7.78-7.78 2.81-2.81c.8-.78.8-2.07 0-2.86zM5.41 20L4 18.59l7.72-7.72 1.47 1.35L5.41 20z\"/>\n",
              "  </svg>\n",
              "      </button>\n",
              "      \n",
              "  <style>\n",
              "    .colab-df-container {\n",
              "      display:flex;\n",
              "      flex-wrap:wrap;\n",
              "      gap: 12px;\n",
              "    }\n",
              "\n",
              "    .colab-df-convert {\n",
              "      background-color: #E8F0FE;\n",
              "      border: none;\n",
              "      border-radius: 50%;\n",
              "      cursor: pointer;\n",
              "      display: none;\n",
              "      fill: #1967D2;\n",
              "      height: 32px;\n",
              "      padding: 0 0 0 0;\n",
              "      width: 32px;\n",
              "    }\n",
              "\n",
              "    .colab-df-convert:hover {\n",
              "      background-color: #E2EBFA;\n",
              "      box-shadow: 0px 1px 2px rgba(60, 64, 67, 0.3), 0px 1px 3px 1px rgba(60, 64, 67, 0.15);\n",
              "      fill: #174EA6;\n",
              "    }\n",
              "\n",
              "    [theme=dark] .colab-df-convert {\n",
              "      background-color: #3B4455;\n",
              "      fill: #D2E3FC;\n",
              "    }\n",
              "\n",
              "    [theme=dark] .colab-df-convert:hover {\n",
              "      background-color: #434B5C;\n",
              "      box-shadow: 0px 1px 3px 1px rgba(0, 0, 0, 0.15);\n",
              "      filter: drop-shadow(0px 1px 2px rgba(0, 0, 0, 0.3));\n",
              "      fill: #FFFFFF;\n",
              "    }\n",
              "  </style>\n",
              "\n",
              "      <script>\n",
              "        const buttonEl =\n",
              "          document.querySelector('#df-5ae27cd7-e3d4-467d-87f5-105c67350f4d button.colab-df-convert');\n",
              "        buttonEl.style.display =\n",
              "          google.colab.kernel.accessAllowed ? 'block' : 'none';\n",
              "\n",
              "        async function convertToInteractive(key) {\n",
              "          const element = document.querySelector('#df-5ae27cd7-e3d4-467d-87f5-105c67350f4d');\n",
              "          const dataTable =\n",
              "            await google.colab.kernel.invokeFunction('convertToInteractive',\n",
              "                                                     [key], {});\n",
              "          if (!dataTable) return;\n",
              "\n",
              "          const docLinkHtml = 'Like what you see? Visit the ' +\n",
              "            '<a target=\"_blank\" href=https://colab.research.google.com/notebooks/data_table.ipynb>data table notebook</a>'\n",
              "            + ' to learn more about interactive tables.';\n",
              "          element.innerHTML = '';\n",
              "          dataTable['output_type'] = 'display_data';\n",
              "          await google.colab.output.renderOutput(dataTable, element);\n",
              "          const docLink = document.createElement('div');\n",
              "          docLink.innerHTML = docLinkHtml;\n",
              "          element.appendChild(docLink);\n",
              "        }\n",
              "      </script>\n",
              "    </div>\n",
              "  </div>\n",
              "  "
            ]
          },
          "metadata": {},
          "execution_count": 13
        }
      ]
    },
    {
      "cell_type": "code",
      "source": [
        "Example_Data.columns"
      ],
      "metadata": {
        "colab": {
          "base_uri": "https://localhost:8080/"
        },
        "id": "t9iZb4IeG5l3",
        "outputId": "764bc304-e23b-4ad7-9ce3-70c40b5d03f2"
      },
      "execution_count": 14,
      "outputs": [
        {
          "output_type": "execute_result",
          "data": {
            "text/plain": [
              "Index(['Company ID', 'Company Name', 'Fiscal Year', 'Industry', 'SIC Code',\n",
              "       'Trading Currency', 'SP', 'CDS', 'APD', 'ARD', 'ADA'],\n",
              "      dtype='object')"
            ]
          },
          "metadata": {},
          "execution_count": 14
        }
      ]
    },
    {
      "cell_type": "code",
      "source": [
        "Example_Data.dtypes"
      ],
      "metadata": {
        "colab": {
          "base_uri": "https://localhost:8080/"
        },
        "id": "5yTUPq8mH_ac",
        "outputId": "e8c97418-bae1-4c07-a035-4f4bdafc39b5"
      },
      "execution_count": 15,
      "outputs": [
        {
          "output_type": "execute_result",
          "data": {
            "text/plain": [
              "Company ID          object\n",
              "Company Name        object\n",
              "Fiscal Year         object\n",
              "Industry            object\n",
              "SIC Code            object\n",
              "Trading Currency    object\n",
              "SP                  object\n",
              "CDS                 object\n",
              "APD                 object\n",
              "ARD                 object\n",
              "ADA                 object\n",
              "dtype: object"
            ]
          },
          "metadata": {},
          "execution_count": 15
        }
      ]
    },
    {
      "cell_type": "code",
      "source": [
        "company_info = list(Example_Data.columns[:6])\n",
        "matric_info = list(Example_Data.columns[6:11])"
      ],
      "metadata": {
        "id": "NoeOfRH4Mul4"
      },
      "execution_count": 16,
      "outputs": []
    },
    {
      "cell_type": "markdown",
      "source": [
        "#### Fix data types\n",
        "Given that company information could be strings for later clean up, matrics should be integer columns."
      ],
      "metadata": {
        "id": "Pv5Qyax_IKEc"
      }
    },
    {
      "cell_type": "code",
      "source": [
        "np.all(Example_Data[matric_info].fillna(0).astype(\"str\").apply(lambda x: x.str.isdigit()))"
      ],
      "metadata": {
        "colab": {
          "base_uri": "https://localhost:8080/"
        },
        "id": "LpplKXoJaRqF",
        "outputId": "07d3071f-626a-4099-8866-e23c4dcbdc90"
      },
      "execution_count": 17,
      "outputs": [
        {
          "output_type": "execute_result",
          "data": {
            "text/plain": [
              "True"
            ]
          },
          "metadata": {},
          "execution_count": 17
        }
      ]
    },
    {
      "cell_type": "markdown",
      "source": [
        "We notice that matrics columns are numerical, but null values exist. Convert these 5 columns with integer type 'Int64'."
      ],
      "metadata": {
        "id": "utvzv3-cPioX"
      }
    },
    {
      "cell_type": "code",
      "source": [
        "Example_Data[matric_info] = Example_Data[matric_info].astype(\"Int64\")"
      ],
      "metadata": {
        "colab": {
          "base_uri": "https://localhost:8080/"
        },
        "id": "oPeuFNtqIGv1",
        "outputId": "0654c210-0694-4475-922b-f9fead0b47ef"
      },
      "execution_count": 18,
      "outputs": [
        {
          "output_type": "stream",
          "name": "stderr",
          "text": [
            "/usr/local/lib/python3.7/dist-packages/pandas/core/frame.py:3641: SettingWithCopyWarning: \n",
            "A value is trying to be set on a copy of a slice from a DataFrame.\n",
            "Try using .loc[row_indexer,col_indexer] = value instead\n",
            "\n",
            "See the caveats in the documentation: https://pandas.pydata.org/pandas-docs/stable/user_guide/indexing.html#returning-a-view-versus-a-copy\n",
            "  self[k1] = value[k2]\n"
          ]
        }
      ]
    },
    {
      "cell_type": "code",
      "source": [
        "Example_Data.dtypes"
      ],
      "metadata": {
        "colab": {
          "base_uri": "https://localhost:8080/"
        },
        "id": "PFthXqDYIj4E",
        "outputId": "c152a9c2-892e-4d42-8c14-722e347e7198"
      },
      "execution_count": 19,
      "outputs": [
        {
          "output_type": "execute_result",
          "data": {
            "text/plain": [
              "Company ID          object\n",
              "Company Name        object\n",
              "Fiscal Year         object\n",
              "Industry            object\n",
              "SIC Code            object\n",
              "Trading Currency    object\n",
              "SP                   Int64\n",
              "CDS                  Int64\n",
              "APD                  Int64\n",
              "ARD                  Int64\n",
              "ADA                  Int64\n",
              "dtype: object"
            ]
          },
          "metadata": {},
          "execution_count": 19
        }
      ]
    },
    {
      "cell_type": "code",
      "source": [
        "Example_Data.describe(include='all')"
      ],
      "metadata": {
        "colab": {
          "base_uri": "https://localhost:8080/",
          "height": 493
        },
        "id": "khC5ZUKtMCpH",
        "outputId": "2b96f256-354d-44be-9ede-9fb73764727f"
      },
      "execution_count": 20,
      "outputs": [
        {
          "output_type": "execute_result",
          "data": {
            "text/plain": [
              "        Company ID Company Name  Fiscal Year   Industry  SIC Code  \\\n",
              "count        111.0          111        111.0        111     111.0   \n",
              "unique        14.0           15         13.0          4      16.0   \n",
              "top      4991368.0    D Company       2012.0  Machinery    6085.0   \n",
              "freq          10.0           20         13.0         66      15.0   \n",
              "mean           NaN          NaN          NaN        NaN       NaN   \n",
              "std            NaN          NaN          NaN        NaN       NaN   \n",
              "min            NaN          NaN          NaN        NaN       NaN   \n",
              "25%            NaN          NaN          NaN        NaN       NaN   \n",
              "50%            NaN          NaN          NaN        NaN       NaN   \n",
              "75%            NaN          NaN          NaN        NaN       NaN   \n",
              "max            NaN          NaN          NaN        NaN       NaN   \n",
              "\n",
              "       Trading Currency          SP          CDS         APD         ARD  \\\n",
              "count               111  111.000000    59.000000  111.000000  111.000000   \n",
              "unique                3         NaN          NaN         NaN         NaN   \n",
              "top                 USD         NaN          NaN         NaN         NaN   \n",
              "freq                100         NaN          NaN         NaN         NaN   \n",
              "mean                NaN   92.144144   293.305085   86.900901   80.837838   \n",
              "std                 NaN   65.770655   292.946697   40.086034   41.616112   \n",
              "min                 NaN    0.000000    51.000000   37.000000   22.000000   \n",
              "25%                 NaN   44.500000   103.000000   65.000000   66.500000   \n",
              "50%                 NaN   68.000000   149.000000   84.000000   81.000000   \n",
              "75%                 NaN  123.000000   349.500000   98.000000   91.000000   \n",
              "max                 NaN  277.000000  1048.000000  396.000000  397.000000   \n",
              "\n",
              "               ADA  \n",
              "count   111.000000  \n",
              "unique         NaN  \n",
              "top            NaN  \n",
              "freq           NaN  \n",
              "mean      0.234234  \n",
              "std       0.571361  \n",
              "min       0.000000  \n",
              "25%       0.000000  \n",
              "50%       0.000000  \n",
              "75%       0.000000  \n",
              "max       2.000000  "
            ],
            "text/html": [
              "\n",
              "  <div id=\"df-74d5b82f-584b-4fa4-98b4-50228dc6e2da\">\n",
              "    <div class=\"colab-df-container\">\n",
              "      <div>\n",
              "<style scoped>\n",
              "    .dataframe tbody tr th:only-of-type {\n",
              "        vertical-align: middle;\n",
              "    }\n",
              "\n",
              "    .dataframe tbody tr th {\n",
              "        vertical-align: top;\n",
              "    }\n",
              "\n",
              "    .dataframe thead th {\n",
              "        text-align: right;\n",
              "    }\n",
              "</style>\n",
              "<table border=\"1\" class=\"dataframe\">\n",
              "  <thead>\n",
              "    <tr style=\"text-align: right;\">\n",
              "      <th></th>\n",
              "      <th>Company ID</th>\n",
              "      <th>Company Name</th>\n",
              "      <th>Fiscal Year</th>\n",
              "      <th>Industry</th>\n",
              "      <th>SIC Code</th>\n",
              "      <th>Trading Currency</th>\n",
              "      <th>SP</th>\n",
              "      <th>CDS</th>\n",
              "      <th>APD</th>\n",
              "      <th>ARD</th>\n",
              "      <th>ADA</th>\n",
              "    </tr>\n",
              "  </thead>\n",
              "  <tbody>\n",
              "    <tr>\n",
              "      <th>count</th>\n",
              "      <td>111.0</td>\n",
              "      <td>111</td>\n",
              "      <td>111.0</td>\n",
              "      <td>111</td>\n",
              "      <td>111.0</td>\n",
              "      <td>111</td>\n",
              "      <td>111.000000</td>\n",
              "      <td>59.000000</td>\n",
              "      <td>111.000000</td>\n",
              "      <td>111.000000</td>\n",
              "      <td>111.000000</td>\n",
              "    </tr>\n",
              "    <tr>\n",
              "      <th>unique</th>\n",
              "      <td>14.0</td>\n",
              "      <td>15</td>\n",
              "      <td>13.0</td>\n",
              "      <td>4</td>\n",
              "      <td>16.0</td>\n",
              "      <td>3</td>\n",
              "      <td>NaN</td>\n",
              "      <td>NaN</td>\n",
              "      <td>NaN</td>\n",
              "      <td>NaN</td>\n",
              "      <td>NaN</td>\n",
              "    </tr>\n",
              "    <tr>\n",
              "      <th>top</th>\n",
              "      <td>4991368.0</td>\n",
              "      <td>D Company</td>\n",
              "      <td>2012.0</td>\n",
              "      <td>Machinery</td>\n",
              "      <td>6085.0</td>\n",
              "      <td>USD</td>\n",
              "      <td>NaN</td>\n",
              "      <td>NaN</td>\n",
              "      <td>NaN</td>\n",
              "      <td>NaN</td>\n",
              "      <td>NaN</td>\n",
              "    </tr>\n",
              "    <tr>\n",
              "      <th>freq</th>\n",
              "      <td>10.0</td>\n",
              "      <td>20</td>\n",
              "      <td>13.0</td>\n",
              "      <td>66</td>\n",
              "      <td>15.0</td>\n",
              "      <td>100</td>\n",
              "      <td>NaN</td>\n",
              "      <td>NaN</td>\n",
              "      <td>NaN</td>\n",
              "      <td>NaN</td>\n",
              "      <td>NaN</td>\n",
              "    </tr>\n",
              "    <tr>\n",
              "      <th>mean</th>\n",
              "      <td>NaN</td>\n",
              "      <td>NaN</td>\n",
              "      <td>NaN</td>\n",
              "      <td>NaN</td>\n",
              "      <td>NaN</td>\n",
              "      <td>NaN</td>\n",
              "      <td>92.144144</td>\n",
              "      <td>293.305085</td>\n",
              "      <td>86.900901</td>\n",
              "      <td>80.837838</td>\n",
              "      <td>0.234234</td>\n",
              "    </tr>\n",
              "    <tr>\n",
              "      <th>std</th>\n",
              "      <td>NaN</td>\n",
              "      <td>NaN</td>\n",
              "      <td>NaN</td>\n",
              "      <td>NaN</td>\n",
              "      <td>NaN</td>\n",
              "      <td>NaN</td>\n",
              "      <td>65.770655</td>\n",
              "      <td>292.946697</td>\n",
              "      <td>40.086034</td>\n",
              "      <td>41.616112</td>\n",
              "      <td>0.571361</td>\n",
              "    </tr>\n",
              "    <tr>\n",
              "      <th>min</th>\n",
              "      <td>NaN</td>\n",
              "      <td>NaN</td>\n",
              "      <td>NaN</td>\n",
              "      <td>NaN</td>\n",
              "      <td>NaN</td>\n",
              "      <td>NaN</td>\n",
              "      <td>0.000000</td>\n",
              "      <td>51.000000</td>\n",
              "      <td>37.000000</td>\n",
              "      <td>22.000000</td>\n",
              "      <td>0.000000</td>\n",
              "    </tr>\n",
              "    <tr>\n",
              "      <th>25%</th>\n",
              "      <td>NaN</td>\n",
              "      <td>NaN</td>\n",
              "      <td>NaN</td>\n",
              "      <td>NaN</td>\n",
              "      <td>NaN</td>\n",
              "      <td>NaN</td>\n",
              "      <td>44.500000</td>\n",
              "      <td>103.000000</td>\n",
              "      <td>65.000000</td>\n",
              "      <td>66.500000</td>\n",
              "      <td>0.000000</td>\n",
              "    </tr>\n",
              "    <tr>\n",
              "      <th>50%</th>\n",
              "      <td>NaN</td>\n",
              "      <td>NaN</td>\n",
              "      <td>NaN</td>\n",
              "      <td>NaN</td>\n",
              "      <td>NaN</td>\n",
              "      <td>NaN</td>\n",
              "      <td>68.000000</td>\n",
              "      <td>149.000000</td>\n",
              "      <td>84.000000</td>\n",
              "      <td>81.000000</td>\n",
              "      <td>0.000000</td>\n",
              "    </tr>\n",
              "    <tr>\n",
              "      <th>75%</th>\n",
              "      <td>NaN</td>\n",
              "      <td>NaN</td>\n",
              "      <td>NaN</td>\n",
              "      <td>NaN</td>\n",
              "      <td>NaN</td>\n",
              "      <td>NaN</td>\n",
              "      <td>123.000000</td>\n",
              "      <td>349.500000</td>\n",
              "      <td>98.000000</td>\n",
              "      <td>91.000000</td>\n",
              "      <td>0.000000</td>\n",
              "    </tr>\n",
              "    <tr>\n",
              "      <th>max</th>\n",
              "      <td>NaN</td>\n",
              "      <td>NaN</td>\n",
              "      <td>NaN</td>\n",
              "      <td>NaN</td>\n",
              "      <td>NaN</td>\n",
              "      <td>NaN</td>\n",
              "      <td>277.000000</td>\n",
              "      <td>1048.000000</td>\n",
              "      <td>396.000000</td>\n",
              "      <td>397.000000</td>\n",
              "      <td>2.000000</td>\n",
              "    </tr>\n",
              "  </tbody>\n",
              "</table>\n",
              "</div>\n",
              "      <button class=\"colab-df-convert\" onclick=\"convertToInteractive('df-74d5b82f-584b-4fa4-98b4-50228dc6e2da')\"\n",
              "              title=\"Convert this dataframe to an interactive table.\"\n",
              "              style=\"display:none;\">\n",
              "        \n",
              "  <svg xmlns=\"http://www.w3.org/2000/svg\" height=\"24px\"viewBox=\"0 0 24 24\"\n",
              "       width=\"24px\">\n",
              "    <path d=\"M0 0h24v24H0V0z\" fill=\"none\"/>\n",
              "    <path d=\"M18.56 5.44l.94 2.06.94-2.06 2.06-.94-2.06-.94-.94-2.06-.94 2.06-2.06.94zm-11 1L8.5 8.5l.94-2.06 2.06-.94-2.06-.94L8.5 2.5l-.94 2.06-2.06.94zm10 10l.94 2.06.94-2.06 2.06-.94-2.06-.94-.94-2.06-.94 2.06-2.06.94z\"/><path d=\"M17.41 7.96l-1.37-1.37c-.4-.4-.92-.59-1.43-.59-.52 0-1.04.2-1.43.59L10.3 9.45l-7.72 7.72c-.78.78-.78 2.05 0 2.83L4 21.41c.39.39.9.59 1.41.59.51 0 1.02-.2 1.41-.59l7.78-7.78 2.81-2.81c.8-.78.8-2.07 0-2.86zM5.41 20L4 18.59l7.72-7.72 1.47 1.35L5.41 20z\"/>\n",
              "  </svg>\n",
              "      </button>\n",
              "      \n",
              "  <style>\n",
              "    .colab-df-container {\n",
              "      display:flex;\n",
              "      flex-wrap:wrap;\n",
              "      gap: 12px;\n",
              "    }\n",
              "\n",
              "    .colab-df-convert {\n",
              "      background-color: #E8F0FE;\n",
              "      border: none;\n",
              "      border-radius: 50%;\n",
              "      cursor: pointer;\n",
              "      display: none;\n",
              "      fill: #1967D2;\n",
              "      height: 32px;\n",
              "      padding: 0 0 0 0;\n",
              "      width: 32px;\n",
              "    }\n",
              "\n",
              "    .colab-df-convert:hover {\n",
              "      background-color: #E2EBFA;\n",
              "      box-shadow: 0px 1px 2px rgba(60, 64, 67, 0.3), 0px 1px 3px 1px rgba(60, 64, 67, 0.15);\n",
              "      fill: #174EA6;\n",
              "    }\n",
              "\n",
              "    [theme=dark] .colab-df-convert {\n",
              "      background-color: #3B4455;\n",
              "      fill: #D2E3FC;\n",
              "    }\n",
              "\n",
              "    [theme=dark] .colab-df-convert:hover {\n",
              "      background-color: #434B5C;\n",
              "      box-shadow: 0px 1px 3px 1px rgba(0, 0, 0, 0.15);\n",
              "      filter: drop-shadow(0px 1px 2px rgba(0, 0, 0, 0.3));\n",
              "      fill: #FFFFFF;\n",
              "    }\n",
              "  </style>\n",
              "\n",
              "      <script>\n",
              "        const buttonEl =\n",
              "          document.querySelector('#df-74d5b82f-584b-4fa4-98b4-50228dc6e2da button.colab-df-convert');\n",
              "        buttonEl.style.display =\n",
              "          google.colab.kernel.accessAllowed ? 'block' : 'none';\n",
              "\n",
              "        async function convertToInteractive(key) {\n",
              "          const element = document.querySelector('#df-74d5b82f-584b-4fa4-98b4-50228dc6e2da');\n",
              "          const dataTable =\n",
              "            await google.colab.kernel.invokeFunction('convertToInteractive',\n",
              "                                                     [key], {});\n",
              "          if (!dataTable) return;\n",
              "\n",
              "          const docLinkHtml = 'Like what you see? Visit the ' +\n",
              "            '<a target=\"_blank\" href=https://colab.research.google.com/notebooks/data_table.ipynb>data table notebook</a>'\n",
              "            + ' to learn more about interactive tables.';\n",
              "          element.innerHTML = '';\n",
              "          dataTable['output_type'] = 'display_data';\n",
              "          await google.colab.output.renderOutput(dataTable, element);\n",
              "          const docLink = document.createElement('div');\n",
              "          docLink.innerHTML = docLinkHtml;\n",
              "          element.appendChild(docLink);\n",
              "        }\n",
              "      </script>\n",
              "    </div>\n",
              "  </div>\n",
              "  "
            ]
          },
          "metadata": {},
          "execution_count": 20
        }
      ]
    },
    {
      "cell_type": "markdown",
      "source": [
        "#### Trim space for string columns"
      ],
      "metadata": {
        "id": "cR5VKin0YLVt"
      }
    },
    {
      "cell_type": "code",
      "source": [
        "Example_Data[company_info] = Example_Data[company_info].astype(\"str\").apply(lambda x: x.str.strip())"
      ],
      "metadata": {
        "colab": {
          "base_uri": "https://localhost:8080/"
        },
        "id": "6Y90AVFSYKrP",
        "outputId": "3a061b75-10c5-42f2-eba7-4028b87c5306"
      },
      "execution_count": 21,
      "outputs": [
        {
          "output_type": "stream",
          "name": "stderr",
          "text": [
            "/usr/local/lib/python3.7/dist-packages/pandas/core/frame.py:3641: SettingWithCopyWarning: \n",
            "A value is trying to be set on a copy of a slice from a DataFrame.\n",
            "Try using .loc[row_indexer,col_indexer] = value instead\n",
            "\n",
            "See the caveats in the documentation: https://pandas.pydata.org/pandas-docs/stable/user_guide/indexing.html#returning-a-view-versus-a-copy\n",
            "  self[k1] = value[k2]\n"
          ]
        }
      ]
    },
    {
      "cell_type": "code",
      "source": [
        "Example_Data.describe(include='all')"
      ],
      "metadata": {
        "colab": {
          "base_uri": "https://localhost:8080/",
          "height": 493
        },
        "id": "Tu6L9oc1ZTGR",
        "outputId": "ba1a2495-6353-4f77-ad97-dcb81243e6a6"
      },
      "execution_count": 22,
      "outputs": [
        {
          "output_type": "execute_result",
          "data": {
            "text/plain": [
              "       Company ID Company Name Fiscal Year   Industry SIC Code  \\\n",
              "count         111          111         111        111      111   \n",
              "unique         14           15          13          4       16   \n",
              "top       4991368    D Company        2012  Machinery     6085   \n",
              "freq           10           20          13         66       15   \n",
              "mean          NaN          NaN         NaN        NaN      NaN   \n",
              "std           NaN          NaN         NaN        NaN      NaN   \n",
              "min           NaN          NaN         NaN        NaN      NaN   \n",
              "25%           NaN          NaN         NaN        NaN      NaN   \n",
              "50%           NaN          NaN         NaN        NaN      NaN   \n",
              "75%           NaN          NaN         NaN        NaN      NaN   \n",
              "max           NaN          NaN         NaN        NaN      NaN   \n",
              "\n",
              "       Trading Currency          SP          CDS         APD         ARD  \\\n",
              "count               111  111.000000    59.000000  111.000000  111.000000   \n",
              "unique                3         NaN          NaN         NaN         NaN   \n",
              "top                 USD         NaN          NaN         NaN         NaN   \n",
              "freq                100         NaN          NaN         NaN         NaN   \n",
              "mean                NaN   92.144144   293.305085   86.900901   80.837838   \n",
              "std                 NaN   65.770655   292.946697   40.086034   41.616112   \n",
              "min                 NaN    0.000000    51.000000   37.000000   22.000000   \n",
              "25%                 NaN   44.500000   103.000000   65.000000   66.500000   \n",
              "50%                 NaN   68.000000   149.000000   84.000000   81.000000   \n",
              "75%                 NaN  123.000000   349.500000   98.000000   91.000000   \n",
              "max                 NaN  277.000000  1048.000000  396.000000  397.000000   \n",
              "\n",
              "               ADA  \n",
              "count   111.000000  \n",
              "unique         NaN  \n",
              "top            NaN  \n",
              "freq           NaN  \n",
              "mean      0.234234  \n",
              "std       0.571361  \n",
              "min       0.000000  \n",
              "25%       0.000000  \n",
              "50%       0.000000  \n",
              "75%       0.000000  \n",
              "max       2.000000  "
            ],
            "text/html": [
              "\n",
              "  <div id=\"df-7e6a559c-5e8f-43dc-9c80-aabee105b249\">\n",
              "    <div class=\"colab-df-container\">\n",
              "      <div>\n",
              "<style scoped>\n",
              "    .dataframe tbody tr th:only-of-type {\n",
              "        vertical-align: middle;\n",
              "    }\n",
              "\n",
              "    .dataframe tbody tr th {\n",
              "        vertical-align: top;\n",
              "    }\n",
              "\n",
              "    .dataframe thead th {\n",
              "        text-align: right;\n",
              "    }\n",
              "</style>\n",
              "<table border=\"1\" class=\"dataframe\">\n",
              "  <thead>\n",
              "    <tr style=\"text-align: right;\">\n",
              "      <th></th>\n",
              "      <th>Company ID</th>\n",
              "      <th>Company Name</th>\n",
              "      <th>Fiscal Year</th>\n",
              "      <th>Industry</th>\n",
              "      <th>SIC Code</th>\n",
              "      <th>Trading Currency</th>\n",
              "      <th>SP</th>\n",
              "      <th>CDS</th>\n",
              "      <th>APD</th>\n",
              "      <th>ARD</th>\n",
              "      <th>ADA</th>\n",
              "    </tr>\n",
              "  </thead>\n",
              "  <tbody>\n",
              "    <tr>\n",
              "      <th>count</th>\n",
              "      <td>111</td>\n",
              "      <td>111</td>\n",
              "      <td>111</td>\n",
              "      <td>111</td>\n",
              "      <td>111</td>\n",
              "      <td>111</td>\n",
              "      <td>111.000000</td>\n",
              "      <td>59.000000</td>\n",
              "      <td>111.000000</td>\n",
              "      <td>111.000000</td>\n",
              "      <td>111.000000</td>\n",
              "    </tr>\n",
              "    <tr>\n",
              "      <th>unique</th>\n",
              "      <td>14</td>\n",
              "      <td>15</td>\n",
              "      <td>13</td>\n",
              "      <td>4</td>\n",
              "      <td>16</td>\n",
              "      <td>3</td>\n",
              "      <td>NaN</td>\n",
              "      <td>NaN</td>\n",
              "      <td>NaN</td>\n",
              "      <td>NaN</td>\n",
              "      <td>NaN</td>\n",
              "    </tr>\n",
              "    <tr>\n",
              "      <th>top</th>\n",
              "      <td>4991368</td>\n",
              "      <td>D Company</td>\n",
              "      <td>2012</td>\n",
              "      <td>Machinery</td>\n",
              "      <td>6085</td>\n",
              "      <td>USD</td>\n",
              "      <td>NaN</td>\n",
              "      <td>NaN</td>\n",
              "      <td>NaN</td>\n",
              "      <td>NaN</td>\n",
              "      <td>NaN</td>\n",
              "    </tr>\n",
              "    <tr>\n",
              "      <th>freq</th>\n",
              "      <td>10</td>\n",
              "      <td>20</td>\n",
              "      <td>13</td>\n",
              "      <td>66</td>\n",
              "      <td>15</td>\n",
              "      <td>100</td>\n",
              "      <td>NaN</td>\n",
              "      <td>NaN</td>\n",
              "      <td>NaN</td>\n",
              "      <td>NaN</td>\n",
              "      <td>NaN</td>\n",
              "    </tr>\n",
              "    <tr>\n",
              "      <th>mean</th>\n",
              "      <td>NaN</td>\n",
              "      <td>NaN</td>\n",
              "      <td>NaN</td>\n",
              "      <td>NaN</td>\n",
              "      <td>NaN</td>\n",
              "      <td>NaN</td>\n",
              "      <td>92.144144</td>\n",
              "      <td>293.305085</td>\n",
              "      <td>86.900901</td>\n",
              "      <td>80.837838</td>\n",
              "      <td>0.234234</td>\n",
              "    </tr>\n",
              "    <tr>\n",
              "      <th>std</th>\n",
              "      <td>NaN</td>\n",
              "      <td>NaN</td>\n",
              "      <td>NaN</td>\n",
              "      <td>NaN</td>\n",
              "      <td>NaN</td>\n",
              "      <td>NaN</td>\n",
              "      <td>65.770655</td>\n",
              "      <td>292.946697</td>\n",
              "      <td>40.086034</td>\n",
              "      <td>41.616112</td>\n",
              "      <td>0.571361</td>\n",
              "    </tr>\n",
              "    <tr>\n",
              "      <th>min</th>\n",
              "      <td>NaN</td>\n",
              "      <td>NaN</td>\n",
              "      <td>NaN</td>\n",
              "      <td>NaN</td>\n",
              "      <td>NaN</td>\n",
              "      <td>NaN</td>\n",
              "      <td>0.000000</td>\n",
              "      <td>51.000000</td>\n",
              "      <td>37.000000</td>\n",
              "      <td>22.000000</td>\n",
              "      <td>0.000000</td>\n",
              "    </tr>\n",
              "    <tr>\n",
              "      <th>25%</th>\n",
              "      <td>NaN</td>\n",
              "      <td>NaN</td>\n",
              "      <td>NaN</td>\n",
              "      <td>NaN</td>\n",
              "      <td>NaN</td>\n",
              "      <td>NaN</td>\n",
              "      <td>44.500000</td>\n",
              "      <td>103.000000</td>\n",
              "      <td>65.000000</td>\n",
              "      <td>66.500000</td>\n",
              "      <td>0.000000</td>\n",
              "    </tr>\n",
              "    <tr>\n",
              "      <th>50%</th>\n",
              "      <td>NaN</td>\n",
              "      <td>NaN</td>\n",
              "      <td>NaN</td>\n",
              "      <td>NaN</td>\n",
              "      <td>NaN</td>\n",
              "      <td>NaN</td>\n",
              "      <td>68.000000</td>\n",
              "      <td>149.000000</td>\n",
              "      <td>84.000000</td>\n",
              "      <td>81.000000</td>\n",
              "      <td>0.000000</td>\n",
              "    </tr>\n",
              "    <tr>\n",
              "      <th>75%</th>\n",
              "      <td>NaN</td>\n",
              "      <td>NaN</td>\n",
              "      <td>NaN</td>\n",
              "      <td>NaN</td>\n",
              "      <td>NaN</td>\n",
              "      <td>NaN</td>\n",
              "      <td>123.000000</td>\n",
              "      <td>349.500000</td>\n",
              "      <td>98.000000</td>\n",
              "      <td>91.000000</td>\n",
              "      <td>0.000000</td>\n",
              "    </tr>\n",
              "    <tr>\n",
              "      <th>max</th>\n",
              "      <td>NaN</td>\n",
              "      <td>NaN</td>\n",
              "      <td>NaN</td>\n",
              "      <td>NaN</td>\n",
              "      <td>NaN</td>\n",
              "      <td>NaN</td>\n",
              "      <td>277.000000</td>\n",
              "      <td>1048.000000</td>\n",
              "      <td>396.000000</td>\n",
              "      <td>397.000000</td>\n",
              "      <td>2.000000</td>\n",
              "    </tr>\n",
              "  </tbody>\n",
              "</table>\n",
              "</div>\n",
              "      <button class=\"colab-df-convert\" onclick=\"convertToInteractive('df-7e6a559c-5e8f-43dc-9c80-aabee105b249')\"\n",
              "              title=\"Convert this dataframe to an interactive table.\"\n",
              "              style=\"display:none;\">\n",
              "        \n",
              "  <svg xmlns=\"http://www.w3.org/2000/svg\" height=\"24px\"viewBox=\"0 0 24 24\"\n",
              "       width=\"24px\">\n",
              "    <path d=\"M0 0h24v24H0V0z\" fill=\"none\"/>\n",
              "    <path d=\"M18.56 5.44l.94 2.06.94-2.06 2.06-.94-2.06-.94-.94-2.06-.94 2.06-2.06.94zm-11 1L8.5 8.5l.94-2.06 2.06-.94-2.06-.94L8.5 2.5l-.94 2.06-2.06.94zm10 10l.94 2.06.94-2.06 2.06-.94-2.06-.94-.94-2.06-.94 2.06-2.06.94z\"/><path d=\"M17.41 7.96l-1.37-1.37c-.4-.4-.92-.59-1.43-.59-.52 0-1.04.2-1.43.59L10.3 9.45l-7.72 7.72c-.78.78-.78 2.05 0 2.83L4 21.41c.39.39.9.59 1.41.59.51 0 1.02-.2 1.41-.59l7.78-7.78 2.81-2.81c.8-.78.8-2.07 0-2.86zM5.41 20L4 18.59l7.72-7.72 1.47 1.35L5.41 20z\"/>\n",
              "  </svg>\n",
              "      </button>\n",
              "      \n",
              "  <style>\n",
              "    .colab-df-container {\n",
              "      display:flex;\n",
              "      flex-wrap:wrap;\n",
              "      gap: 12px;\n",
              "    }\n",
              "\n",
              "    .colab-df-convert {\n",
              "      background-color: #E8F0FE;\n",
              "      border: none;\n",
              "      border-radius: 50%;\n",
              "      cursor: pointer;\n",
              "      display: none;\n",
              "      fill: #1967D2;\n",
              "      height: 32px;\n",
              "      padding: 0 0 0 0;\n",
              "      width: 32px;\n",
              "    }\n",
              "\n",
              "    .colab-df-convert:hover {\n",
              "      background-color: #E2EBFA;\n",
              "      box-shadow: 0px 1px 2px rgba(60, 64, 67, 0.3), 0px 1px 3px 1px rgba(60, 64, 67, 0.15);\n",
              "      fill: #174EA6;\n",
              "    }\n",
              "\n",
              "    [theme=dark] .colab-df-convert {\n",
              "      background-color: #3B4455;\n",
              "      fill: #D2E3FC;\n",
              "    }\n",
              "\n",
              "    [theme=dark] .colab-df-convert:hover {\n",
              "      background-color: #434B5C;\n",
              "      box-shadow: 0px 1px 3px 1px rgba(0, 0, 0, 0.15);\n",
              "      filter: drop-shadow(0px 1px 2px rgba(0, 0, 0, 0.3));\n",
              "      fill: #FFFFFF;\n",
              "    }\n",
              "  </style>\n",
              "\n",
              "      <script>\n",
              "        const buttonEl =\n",
              "          document.querySelector('#df-7e6a559c-5e8f-43dc-9c80-aabee105b249 button.colab-df-convert');\n",
              "        buttonEl.style.display =\n",
              "          google.colab.kernel.accessAllowed ? 'block' : 'none';\n",
              "\n",
              "        async function convertToInteractive(key) {\n",
              "          const element = document.querySelector('#df-7e6a559c-5e8f-43dc-9c80-aabee105b249');\n",
              "          const dataTable =\n",
              "            await google.colab.kernel.invokeFunction('convertToInteractive',\n",
              "                                                     [key], {});\n",
              "          if (!dataTable) return;\n",
              "\n",
              "          const docLinkHtml = 'Like what you see? Visit the ' +\n",
              "            '<a target=\"_blank\" href=https://colab.research.google.com/notebooks/data_table.ipynb>data table notebook</a>'\n",
              "            + ' to learn more about interactive tables.';\n",
              "          element.innerHTML = '';\n",
              "          dataTable['output_type'] = 'display_data';\n",
              "          await google.colab.output.renderOutput(dataTable, element);\n",
              "          const docLink = document.createElement('div');\n",
              "          docLink.innerHTML = docLinkHtml;\n",
              "          element.appendChild(docLink);\n",
              "        }\n",
              "      </script>\n",
              "    </div>\n",
              "  </div>\n",
              "  "
            ]
          },
          "metadata": {},
          "execution_count": 22
        }
      ]
    },
    {
      "cell_type": "markdown",
      "source": [
        "#### Company ID vs Company Name"
      ],
      "metadata": {
        "id": "h4f6eYHkWZdW"
      }
    },
    {
      "cell_type": "code",
      "source": [
        "print(\"# of unique company IDs:\", len(np.unique(Example_Data['Company ID'])))\n",
        "print(\"# of unique company:\", len(np.unique(Example_Data['Company Name'])))"
      ],
      "metadata": {
        "colab": {
          "base_uri": "https://localhost:8080/"
        },
        "id": "YTJerV0aMSGY",
        "outputId": "2a762380-95fa-4b66-f15e-12792f7e9f87"
      },
      "execution_count": 23,
      "outputs": [
        {
          "output_type": "stream",
          "name": "stdout",
          "text": [
            "# of unique company IDs: 14\n",
            "# of unique company: 15\n"
          ]
        }
      ]
    },
    {
      "cell_type": "markdown",
      "source": [
        "Company ID perspective"
      ],
      "metadata": {
        "id": "Ep7Dotbmc5_P"
      }
    },
    {
      "cell_type": "code",
      "source": [
        "company_id_name_count = (Example_Data\n",
        " .groupby(['Company ID','Company Name'])\n",
        " .size()\n",
        " .reset_index()[['Company ID','Company Name']]\n",
        " .sort_values(by='Company ID')\n",
        " .groupby('Company ID')\n",
        " .size())"
      ],
      "metadata": {
        "id": "MylgLdCbbA9m"
      },
      "execution_count": 24,
      "outputs": []
    },
    {
      "cell_type": "code",
      "source": [
        "ID_flg = company_id_name_count[np.where(company_id_name_count>1)[0]].reset_index()['Company ID'].values\n",
        "print(ID_flg)"
      ],
      "metadata": {
        "colab": {
          "base_uri": "https://localhost:8080/"
        },
        "id": "6CAIEBIReLJE",
        "outputId": "6f7b8043-5aaf-4f0a-80cf-1d551c3dc717"
      },
      "execution_count": 25,
      "outputs": [
        {
          "output_type": "stream",
          "name": "stdout",
          "text": [
            "['4976235' '4991368']\n"
          ]
        }
      ]
    },
    {
      "cell_type": "markdown",
      "source": [
        "ID '4976235' and '4991368' have more than 1 company name pointing at the same ID."
      ],
      "metadata": {
        "id": "Keo2ji51dJ4v"
      }
    },
    {
      "cell_type": "markdown",
      "source": [
        "Company name perspective"
      ],
      "metadata": {
        "id": "TB7__UKNc-H_"
      }
    },
    {
      "cell_type": "code",
      "source": [
        "company_name_id_count = (Example_Data\n",
        " .groupby(['Company ID','Company Name'])\n",
        " .size()\n",
        " .reset_index()[['Company ID','Company Name']]\n",
        " .sort_values(by='Company Name')\n",
        " .groupby('Company Name')\n",
        " .size())"
      ],
      "metadata": {
        "id": "gGjM_Otnb9vx"
      },
      "execution_count": 26,
      "outputs": []
    },
    {
      "cell_type": "code",
      "source": [
        "name_flg = company_name_id_count[np.where(company_name_id_count>1)[0]].reset_index()['Company Name'].values\n",
        "print(name_flg)"
      ],
      "metadata": {
        "colab": {
          "base_uri": "https://localhost:8080/"
        },
        "id": "EYFYXCN3dGsq",
        "outputId": "060427d7-be66-4f84-ff9d-b095582a6687"
      },
      "execution_count": 27,
      "outputs": [
        {
          "output_type": "stream",
          "name": "stdout",
          "text": [
            "['D Company']\n"
          ]
        }
      ]
    },
    {
      "cell_type": "markdown",
      "source": [
        "Take out problematic IDs and names, ensure the remaining company ID and names are correct."
      ],
      "metadata": {
        "id": "ufROPJjkfNTv"
      }
    },
    {
      "cell_type": "code",
      "source": [
        "company_id_name_lookup = (Example_Data\n",
        " .groupby(['Company ID','Company Name','Industry'])\n",
        " .size()\n",
        " .reset_index()[['Company ID','Company Name','Industry']])\n",
        "\n",
        "company_id_name_lookup_check = company_id_name_lookup[~(company_id_name_lookup['Company ID'].isin(ID_flg) | company_id_name_lookup['Company Name'].isin(name_flg))]\n",
        "company_id_name_lookup_flg = company_id_name_lookup[company_id_name_lookup['Company ID'].isin(ID_flg) | company_id_name_lookup['Company Name'].isin(name_flg)]"
      ],
      "metadata": {
        "id": "bu75PuKUe1U-"
      },
      "execution_count": 28,
      "outputs": []
    },
    {
      "cell_type": "code",
      "source": [
        "print(\"Original lookup shape:\",company_id_name_lookup.shape)\n",
        "print(\"Comany IDs & names for check shape:\",company_id_name_lookup_check.shape)\n",
        "print(\"Problematic Comany IDs & names shape:\",company_id_name_lookup_flg.shape)"
      ],
      "metadata": {
        "colab": {
          "base_uri": "https://localhost:8080/"
        },
        "id": "tcByIScogXFu",
        "outputId": "a38fd6fa-1b09-4d04-e5a8-397f42ebdc1c"
      },
      "execution_count": 29,
      "outputs": [
        {
          "output_type": "stream",
          "name": "stdout",
          "text": [
            "Original lookup shape: (16, 3)\n",
            "Comany IDs & names for check shape: (10, 3)\n",
            "Problematic Comany IDs & names shape: (6, 3)\n"
          ]
        }
      ]
    },
    {
      "cell_type": "markdown",
      "source": [
        "Introduce data from database for lookup reference. By using the company ID as key to find company names from db, check if names are consistent between new data and data in the database."
      ],
      "metadata": {
        "id": "IHc2TDjpg4hs"
      }
    },
    {
      "cell_type": "code",
      "source": [
        "db_company_id_name_lookup = Example_DB.groupby(['Company ID','Company Name','Industry']).size().reset_index()[['Company ID','Company Name','Industry']].astype(str)"
      ],
      "metadata": {
        "id": "nt86g6xlgeP7"
      },
      "execution_count": 30,
      "outputs": []
    },
    {
      "cell_type": "code",
      "source": [
        "db_company_id_name_lookup.sort_values(by=\"Company Name\")"
      ],
      "metadata": {
        "colab": {
          "base_uri": "https://localhost:8080/",
          "height": 426
        },
        "id": "xP5nLyd0poj3",
        "outputId": "bf6dadbd-9fb7-45ab-a2ef-f641f12cc1d9"
      },
      "execution_count": 31,
      "outputs": [
        {
          "output_type": "execute_result",
          "data": {
            "text/plain": [
              "   Company ID Company Name               Industry\n",
              "6     4993687    A Company              Machinery\n",
              "5     4989787    C Company              Machinery\n",
              "2      500295    D Company  Aerospace and Defense\n",
              "8     4994275    D Company              Machinery\n",
              "7     4994208    F Company              Machinery\n",
              "1      499609    G Company        Auto Components\n",
              "10    4997627    H Company              Machinery\n",
              "3     4977221    I Company      Building Products\n",
              "0      498856    J Company        Auto Components\n",
              "9     4996197    K Company              Machinery\n",
              "4     4986826    L Company        Auto Components\n",
              "11    5081187    M Company              Machinery"
            ],
            "text/html": [
              "\n",
              "  <div id=\"df-0819a3e2-c1d2-4229-b129-5f0615e7c9c0\">\n",
              "    <div class=\"colab-df-container\">\n",
              "      <div>\n",
              "<style scoped>\n",
              "    .dataframe tbody tr th:only-of-type {\n",
              "        vertical-align: middle;\n",
              "    }\n",
              "\n",
              "    .dataframe tbody tr th {\n",
              "        vertical-align: top;\n",
              "    }\n",
              "\n",
              "    .dataframe thead th {\n",
              "        text-align: right;\n",
              "    }\n",
              "</style>\n",
              "<table border=\"1\" class=\"dataframe\">\n",
              "  <thead>\n",
              "    <tr style=\"text-align: right;\">\n",
              "      <th></th>\n",
              "      <th>Company ID</th>\n",
              "      <th>Company Name</th>\n",
              "      <th>Industry</th>\n",
              "    </tr>\n",
              "  </thead>\n",
              "  <tbody>\n",
              "    <tr>\n",
              "      <th>6</th>\n",
              "      <td>4993687</td>\n",
              "      <td>A Company</td>\n",
              "      <td>Machinery</td>\n",
              "    </tr>\n",
              "    <tr>\n",
              "      <th>5</th>\n",
              "      <td>4989787</td>\n",
              "      <td>C Company</td>\n",
              "      <td>Machinery</td>\n",
              "    </tr>\n",
              "    <tr>\n",
              "      <th>2</th>\n",
              "      <td>500295</td>\n",
              "      <td>D Company</td>\n",
              "      <td>Aerospace and Defense</td>\n",
              "    </tr>\n",
              "    <tr>\n",
              "      <th>8</th>\n",
              "      <td>4994275</td>\n",
              "      <td>D Company</td>\n",
              "      <td>Machinery</td>\n",
              "    </tr>\n",
              "    <tr>\n",
              "      <th>7</th>\n",
              "      <td>4994208</td>\n",
              "      <td>F Company</td>\n",
              "      <td>Machinery</td>\n",
              "    </tr>\n",
              "    <tr>\n",
              "      <th>1</th>\n",
              "      <td>499609</td>\n",
              "      <td>G Company</td>\n",
              "      <td>Auto Components</td>\n",
              "    </tr>\n",
              "    <tr>\n",
              "      <th>10</th>\n",
              "      <td>4997627</td>\n",
              "      <td>H Company</td>\n",
              "      <td>Machinery</td>\n",
              "    </tr>\n",
              "    <tr>\n",
              "      <th>3</th>\n",
              "      <td>4977221</td>\n",
              "      <td>I Company</td>\n",
              "      <td>Building Products</td>\n",
              "    </tr>\n",
              "    <tr>\n",
              "      <th>0</th>\n",
              "      <td>498856</td>\n",
              "      <td>J Company</td>\n",
              "      <td>Auto Components</td>\n",
              "    </tr>\n",
              "    <tr>\n",
              "      <th>9</th>\n",
              "      <td>4996197</td>\n",
              "      <td>K Company</td>\n",
              "      <td>Machinery</td>\n",
              "    </tr>\n",
              "    <tr>\n",
              "      <th>4</th>\n",
              "      <td>4986826</td>\n",
              "      <td>L Company</td>\n",
              "      <td>Auto Components</td>\n",
              "    </tr>\n",
              "    <tr>\n",
              "      <th>11</th>\n",
              "      <td>5081187</td>\n",
              "      <td>M Company</td>\n",
              "      <td>Machinery</td>\n",
              "    </tr>\n",
              "  </tbody>\n",
              "</table>\n",
              "</div>\n",
              "      <button class=\"colab-df-convert\" onclick=\"convertToInteractive('df-0819a3e2-c1d2-4229-b129-5f0615e7c9c0')\"\n",
              "              title=\"Convert this dataframe to an interactive table.\"\n",
              "              style=\"display:none;\">\n",
              "        \n",
              "  <svg xmlns=\"http://www.w3.org/2000/svg\" height=\"24px\"viewBox=\"0 0 24 24\"\n",
              "       width=\"24px\">\n",
              "    <path d=\"M0 0h24v24H0V0z\" fill=\"none\"/>\n",
              "    <path d=\"M18.56 5.44l.94 2.06.94-2.06 2.06-.94-2.06-.94-.94-2.06-.94 2.06-2.06.94zm-11 1L8.5 8.5l.94-2.06 2.06-.94-2.06-.94L8.5 2.5l-.94 2.06-2.06.94zm10 10l.94 2.06.94-2.06 2.06-.94-2.06-.94-.94-2.06-.94 2.06-2.06.94z\"/><path d=\"M17.41 7.96l-1.37-1.37c-.4-.4-.92-.59-1.43-.59-.52 0-1.04.2-1.43.59L10.3 9.45l-7.72 7.72c-.78.78-.78 2.05 0 2.83L4 21.41c.39.39.9.59 1.41.59.51 0 1.02-.2 1.41-.59l7.78-7.78 2.81-2.81c.8-.78.8-2.07 0-2.86zM5.41 20L4 18.59l7.72-7.72 1.47 1.35L5.41 20z\"/>\n",
              "  </svg>\n",
              "      </button>\n",
              "      \n",
              "  <style>\n",
              "    .colab-df-container {\n",
              "      display:flex;\n",
              "      flex-wrap:wrap;\n",
              "      gap: 12px;\n",
              "    }\n",
              "\n",
              "    .colab-df-convert {\n",
              "      background-color: #E8F0FE;\n",
              "      border: none;\n",
              "      border-radius: 50%;\n",
              "      cursor: pointer;\n",
              "      display: none;\n",
              "      fill: #1967D2;\n",
              "      height: 32px;\n",
              "      padding: 0 0 0 0;\n",
              "      width: 32px;\n",
              "    }\n",
              "\n",
              "    .colab-df-convert:hover {\n",
              "      background-color: #E2EBFA;\n",
              "      box-shadow: 0px 1px 2px rgba(60, 64, 67, 0.3), 0px 1px 3px 1px rgba(60, 64, 67, 0.15);\n",
              "      fill: #174EA6;\n",
              "    }\n",
              "\n",
              "    [theme=dark] .colab-df-convert {\n",
              "      background-color: #3B4455;\n",
              "      fill: #D2E3FC;\n",
              "    }\n",
              "\n",
              "    [theme=dark] .colab-df-convert:hover {\n",
              "      background-color: #434B5C;\n",
              "      box-shadow: 0px 1px 3px 1px rgba(0, 0, 0, 0.15);\n",
              "      filter: drop-shadow(0px 1px 2px rgba(0, 0, 0, 0.3));\n",
              "      fill: #FFFFFF;\n",
              "    }\n",
              "  </style>\n",
              "\n",
              "      <script>\n",
              "        const buttonEl =\n",
              "          document.querySelector('#df-0819a3e2-c1d2-4229-b129-5f0615e7c9c0 button.colab-df-convert');\n",
              "        buttonEl.style.display =\n",
              "          google.colab.kernel.accessAllowed ? 'block' : 'none';\n",
              "\n",
              "        async function convertToInteractive(key) {\n",
              "          const element = document.querySelector('#df-0819a3e2-c1d2-4229-b129-5f0615e7c9c0');\n",
              "          const dataTable =\n",
              "            await google.colab.kernel.invokeFunction('convertToInteractive',\n",
              "                                                     [key], {});\n",
              "          if (!dataTable) return;\n",
              "\n",
              "          const docLinkHtml = 'Like what you see? Visit the ' +\n",
              "            '<a target=\"_blank\" href=https://colab.research.google.com/notebooks/data_table.ipynb>data table notebook</a>'\n",
              "            + ' to learn more about interactive tables.';\n",
              "          element.innerHTML = '';\n",
              "          dataTable['output_type'] = 'display_data';\n",
              "          await google.colab.output.renderOutput(dataTable, element);\n",
              "          const docLink = document.createElement('div');\n",
              "          docLink.innerHTML = docLinkHtml;\n",
              "          element.appendChild(docLink);\n",
              "        }\n",
              "      </script>\n",
              "    </div>\n",
              "  </div>\n",
              "  "
            ]
          },
          "metadata": {},
          "execution_count": 31
        }
      ]
    },
    {
      "cell_type": "markdown",
      "source": [
        "Note that D Company is corresponding to 2 IDs based on 2 industries."
      ],
      "metadata": {
        "id": "uJYnA4g1urkc"
      }
    },
    {
      "cell_type": "code",
      "source": [
        "check_data_lookup = pd.merge(company_id_name_lookup_check,db_company_id_name_lookup,on=['Company ID'],how=\"left\", suffixes=('_data', '_db'))\n",
        "check_data_lookup"
      ],
      "metadata": {
        "colab": {
          "base_uri": "https://localhost:8080/",
          "height": 363
        },
        "id": "k7ECPINFgKSQ",
        "outputId": "c26af6d2-2ab5-4174-83af-75353a95c9c1"
      },
      "execution_count": 32,
      "outputs": [
        {
          "output_type": "execute_result",
          "data": {
            "text/plain": [
              "  Company ID Company Name_data      Industry_data Company Name_db  \\\n",
              "0    4977221         I Company  Building Products       I Company   \n",
              "1    4986826         L Company    Auto Components       L Company   \n",
              "2     498856         J Company    Auto Components       J Company   \n",
              "3    4989787         C Company          Machinery       C Company   \n",
              "4    4993687         A Company          Machinery       A Company   \n",
              "5    4994208         F Company          Machinery       F Company   \n",
              "6     499609         G Company    Auto Components       G Company   \n",
              "7    4996197         K Company          Machinery       K Company   \n",
              "8    4997627         H Company          Machinery       H Company   \n",
              "9    5081187         M Company          Machinery       M Company   \n",
              "\n",
              "         Industry_db  \n",
              "0  Building Products  \n",
              "1    Auto Components  \n",
              "2    Auto Components  \n",
              "3          Machinery  \n",
              "4          Machinery  \n",
              "5          Machinery  \n",
              "6    Auto Components  \n",
              "7          Machinery  \n",
              "8          Machinery  \n",
              "9          Machinery  "
            ],
            "text/html": [
              "\n",
              "  <div id=\"df-3399874a-5176-455e-90bd-0e32c3fcd7ed\">\n",
              "    <div class=\"colab-df-container\">\n",
              "      <div>\n",
              "<style scoped>\n",
              "    .dataframe tbody tr th:only-of-type {\n",
              "        vertical-align: middle;\n",
              "    }\n",
              "\n",
              "    .dataframe tbody tr th {\n",
              "        vertical-align: top;\n",
              "    }\n",
              "\n",
              "    .dataframe thead th {\n",
              "        text-align: right;\n",
              "    }\n",
              "</style>\n",
              "<table border=\"1\" class=\"dataframe\">\n",
              "  <thead>\n",
              "    <tr style=\"text-align: right;\">\n",
              "      <th></th>\n",
              "      <th>Company ID</th>\n",
              "      <th>Company Name_data</th>\n",
              "      <th>Industry_data</th>\n",
              "      <th>Company Name_db</th>\n",
              "      <th>Industry_db</th>\n",
              "    </tr>\n",
              "  </thead>\n",
              "  <tbody>\n",
              "    <tr>\n",
              "      <th>0</th>\n",
              "      <td>4977221</td>\n",
              "      <td>I Company</td>\n",
              "      <td>Building Products</td>\n",
              "      <td>I Company</td>\n",
              "      <td>Building Products</td>\n",
              "    </tr>\n",
              "    <tr>\n",
              "      <th>1</th>\n",
              "      <td>4986826</td>\n",
              "      <td>L Company</td>\n",
              "      <td>Auto Components</td>\n",
              "      <td>L Company</td>\n",
              "      <td>Auto Components</td>\n",
              "    </tr>\n",
              "    <tr>\n",
              "      <th>2</th>\n",
              "      <td>498856</td>\n",
              "      <td>J Company</td>\n",
              "      <td>Auto Components</td>\n",
              "      <td>J Company</td>\n",
              "      <td>Auto Components</td>\n",
              "    </tr>\n",
              "    <tr>\n",
              "      <th>3</th>\n",
              "      <td>4989787</td>\n",
              "      <td>C Company</td>\n",
              "      <td>Machinery</td>\n",
              "      <td>C Company</td>\n",
              "      <td>Machinery</td>\n",
              "    </tr>\n",
              "    <tr>\n",
              "      <th>4</th>\n",
              "      <td>4993687</td>\n",
              "      <td>A Company</td>\n",
              "      <td>Machinery</td>\n",
              "      <td>A Company</td>\n",
              "      <td>Machinery</td>\n",
              "    </tr>\n",
              "    <tr>\n",
              "      <th>5</th>\n",
              "      <td>4994208</td>\n",
              "      <td>F Company</td>\n",
              "      <td>Machinery</td>\n",
              "      <td>F Company</td>\n",
              "      <td>Machinery</td>\n",
              "    </tr>\n",
              "    <tr>\n",
              "      <th>6</th>\n",
              "      <td>499609</td>\n",
              "      <td>G Company</td>\n",
              "      <td>Auto Components</td>\n",
              "      <td>G Company</td>\n",
              "      <td>Auto Components</td>\n",
              "    </tr>\n",
              "    <tr>\n",
              "      <th>7</th>\n",
              "      <td>4996197</td>\n",
              "      <td>K Company</td>\n",
              "      <td>Machinery</td>\n",
              "      <td>K Company</td>\n",
              "      <td>Machinery</td>\n",
              "    </tr>\n",
              "    <tr>\n",
              "      <th>8</th>\n",
              "      <td>4997627</td>\n",
              "      <td>H Company</td>\n",
              "      <td>Machinery</td>\n",
              "      <td>H Company</td>\n",
              "      <td>Machinery</td>\n",
              "    </tr>\n",
              "    <tr>\n",
              "      <th>9</th>\n",
              "      <td>5081187</td>\n",
              "      <td>M Company</td>\n",
              "      <td>Machinery</td>\n",
              "      <td>M Company</td>\n",
              "      <td>Machinery</td>\n",
              "    </tr>\n",
              "  </tbody>\n",
              "</table>\n",
              "</div>\n",
              "      <button class=\"colab-df-convert\" onclick=\"convertToInteractive('df-3399874a-5176-455e-90bd-0e32c3fcd7ed')\"\n",
              "              title=\"Convert this dataframe to an interactive table.\"\n",
              "              style=\"display:none;\">\n",
              "        \n",
              "  <svg xmlns=\"http://www.w3.org/2000/svg\" height=\"24px\"viewBox=\"0 0 24 24\"\n",
              "       width=\"24px\">\n",
              "    <path d=\"M0 0h24v24H0V0z\" fill=\"none\"/>\n",
              "    <path d=\"M18.56 5.44l.94 2.06.94-2.06 2.06-.94-2.06-.94-.94-2.06-.94 2.06-2.06.94zm-11 1L8.5 8.5l.94-2.06 2.06-.94-2.06-.94L8.5 2.5l-.94 2.06-2.06.94zm10 10l.94 2.06.94-2.06 2.06-.94-2.06-.94-.94-2.06-.94 2.06-2.06.94z\"/><path d=\"M17.41 7.96l-1.37-1.37c-.4-.4-.92-.59-1.43-.59-.52 0-1.04.2-1.43.59L10.3 9.45l-7.72 7.72c-.78.78-.78 2.05 0 2.83L4 21.41c.39.39.9.59 1.41.59.51 0 1.02-.2 1.41-.59l7.78-7.78 2.81-2.81c.8-.78.8-2.07 0-2.86zM5.41 20L4 18.59l7.72-7.72 1.47 1.35L5.41 20z\"/>\n",
              "  </svg>\n",
              "      </button>\n",
              "      \n",
              "  <style>\n",
              "    .colab-df-container {\n",
              "      display:flex;\n",
              "      flex-wrap:wrap;\n",
              "      gap: 12px;\n",
              "    }\n",
              "\n",
              "    .colab-df-convert {\n",
              "      background-color: #E8F0FE;\n",
              "      border: none;\n",
              "      border-radius: 50%;\n",
              "      cursor: pointer;\n",
              "      display: none;\n",
              "      fill: #1967D2;\n",
              "      height: 32px;\n",
              "      padding: 0 0 0 0;\n",
              "      width: 32px;\n",
              "    }\n",
              "\n",
              "    .colab-df-convert:hover {\n",
              "      background-color: #E2EBFA;\n",
              "      box-shadow: 0px 1px 2px rgba(60, 64, 67, 0.3), 0px 1px 3px 1px rgba(60, 64, 67, 0.15);\n",
              "      fill: #174EA6;\n",
              "    }\n",
              "\n",
              "    [theme=dark] .colab-df-convert {\n",
              "      background-color: #3B4455;\n",
              "      fill: #D2E3FC;\n",
              "    }\n",
              "\n",
              "    [theme=dark] .colab-df-convert:hover {\n",
              "      background-color: #434B5C;\n",
              "      box-shadow: 0px 1px 3px 1px rgba(0, 0, 0, 0.15);\n",
              "      filter: drop-shadow(0px 1px 2px rgba(0, 0, 0, 0.3));\n",
              "      fill: #FFFFFF;\n",
              "    }\n",
              "  </style>\n",
              "\n",
              "      <script>\n",
              "        const buttonEl =\n",
              "          document.querySelector('#df-3399874a-5176-455e-90bd-0e32c3fcd7ed button.colab-df-convert');\n",
              "        buttonEl.style.display =\n",
              "          google.colab.kernel.accessAllowed ? 'block' : 'none';\n",
              "\n",
              "        async function convertToInteractive(key) {\n",
              "          const element = document.querySelector('#df-3399874a-5176-455e-90bd-0e32c3fcd7ed');\n",
              "          const dataTable =\n",
              "            await google.colab.kernel.invokeFunction('convertToInteractive',\n",
              "                                                     [key], {});\n",
              "          if (!dataTable) return;\n",
              "\n",
              "          const docLinkHtml = 'Like what you see? Visit the ' +\n",
              "            '<a target=\"_blank\" href=https://colab.research.google.com/notebooks/data_table.ipynb>data table notebook</a>'\n",
              "            + ' to learn more about interactive tables.';\n",
              "          element.innerHTML = '';\n",
              "          dataTable['output_type'] = 'display_data';\n",
              "          await google.colab.output.renderOutput(dataTable, element);\n",
              "          const docLink = document.createElement('div');\n",
              "          docLink.innerHTML = docLinkHtml;\n",
              "          element.appendChild(docLink);\n",
              "        }\n",
              "      </script>\n",
              "    </div>\n",
              "  </div>\n",
              "  "
            ]
          },
          "metadata": {},
          "execution_count": 32
        }
      ]
    },
    {
      "cell_type": "code",
      "source": [
        "np.all([check_data_lookup['Company Name_data'] == check_data_lookup['Company Name_db']])"
      ],
      "metadata": {
        "colab": {
          "base_uri": "https://localhost:8080/"
        },
        "id": "vzbbmCEEhSBs",
        "outputId": "667f4bd6-0071-4533-b46a-32e75a0dcd3a"
      },
      "execution_count": 33,
      "outputs": [
        {
          "output_type": "execute_result",
          "data": {
            "text/plain": [
              "True"
            ]
          },
          "metadata": {},
          "execution_count": 33
        }
      ]
    },
    {
      "cell_type": "code",
      "source": [
        "np.all([check_data_lookup['Industry_data'] == check_data_lookup['Industry_db']])"
      ],
      "metadata": {
        "colab": {
          "base_uri": "https://localhost:8080/"
        },
        "id": "yOxBE0VRxTmt",
        "outputId": "164d9522-9b50-4441-ce7b-80a039bfbd76"
      },
      "execution_count": 34,
      "outputs": [
        {
          "output_type": "execute_result",
          "data": {
            "text/plain": [
              "True"
            ]
          },
          "metadata": {},
          "execution_count": 34
        }
      ]
    },
    {
      "cell_type": "markdown",
      "source": [
        "We can confirm that company IDs and names for data that did not signal problems are consistent with our desired data format."
      ],
      "metadata": {
        "id": "YCucFPZZjjj4"
      }
    },
    {
      "cell_type": "markdown",
      "source": [
        "Now fix the problems with partial data signals issues previous."
      ],
      "metadata": {
        "id": "wogq4MMMkLjq"
      }
    },
    {
      "cell_type": "markdown",
      "source": [
        "##### Issue 1: Multiple names to 1 ID"
      ],
      "metadata": {
        "id": "86c4vZXmoAfM"
      }
    },
    {
      "cell_type": "code",
      "source": [
        "ID_problem = company_id_name_lookup_flg[company_id_name_lookup_flg['Company ID'].isin(ID_flg)]\n",
        "name_problem = company_id_name_lookup_flg[company_id_name_lookup_flg['Company Name'].isin(name_flg)]"
      ],
      "metadata": {
        "id": "qkS_anteh0SK"
      },
      "execution_count": 35,
      "outputs": []
    },
    {
      "cell_type": "code",
      "source": [
        "pd.merge(ID_problem,db_company_id_name_lookup, on='Company ID',how=\"left\", suffixes=('_data', '_db'))"
      ],
      "metadata": {
        "colab": {
          "base_uri": "https://localhost:8080/",
          "height": 175
        },
        "id": "FwFq7pwmkwS1",
        "outputId": "fb273942-5e13-4502-d898-2d62a5c059b0"
      },
      "execution_count": 36,
      "outputs": [
        {
          "output_type": "execute_result",
          "data": {
            "text/plain": [
              "  Company ID Company Name_data    Industry_data Company Name_db Industry_db\n",
              "0    4976235         E Company        Machinery             NaN         NaN\n",
              "1    4976235      Evil Company        Machinery             NaN         NaN\n",
              "2    4991368         B Company  Auto Components             NaN         NaN\n",
              "3    4991368    Banana Company  Auto Components             NaN         NaN"
            ],
            "text/html": [
              "\n",
              "  <div id=\"df-1edfb393-30e4-40ac-b685-6c131c0a8b17\">\n",
              "    <div class=\"colab-df-container\">\n",
              "      <div>\n",
              "<style scoped>\n",
              "    .dataframe tbody tr th:only-of-type {\n",
              "        vertical-align: middle;\n",
              "    }\n",
              "\n",
              "    .dataframe tbody tr th {\n",
              "        vertical-align: top;\n",
              "    }\n",
              "\n",
              "    .dataframe thead th {\n",
              "        text-align: right;\n",
              "    }\n",
              "</style>\n",
              "<table border=\"1\" class=\"dataframe\">\n",
              "  <thead>\n",
              "    <tr style=\"text-align: right;\">\n",
              "      <th></th>\n",
              "      <th>Company ID</th>\n",
              "      <th>Company Name_data</th>\n",
              "      <th>Industry_data</th>\n",
              "      <th>Company Name_db</th>\n",
              "      <th>Industry_db</th>\n",
              "    </tr>\n",
              "  </thead>\n",
              "  <tbody>\n",
              "    <tr>\n",
              "      <th>0</th>\n",
              "      <td>4976235</td>\n",
              "      <td>E Company</td>\n",
              "      <td>Machinery</td>\n",
              "      <td>NaN</td>\n",
              "      <td>NaN</td>\n",
              "    </tr>\n",
              "    <tr>\n",
              "      <th>1</th>\n",
              "      <td>4976235</td>\n",
              "      <td>Evil Company</td>\n",
              "      <td>Machinery</td>\n",
              "      <td>NaN</td>\n",
              "      <td>NaN</td>\n",
              "    </tr>\n",
              "    <tr>\n",
              "      <th>2</th>\n",
              "      <td>4991368</td>\n",
              "      <td>B Company</td>\n",
              "      <td>Auto Components</td>\n",
              "      <td>NaN</td>\n",
              "      <td>NaN</td>\n",
              "    </tr>\n",
              "    <tr>\n",
              "      <th>3</th>\n",
              "      <td>4991368</td>\n",
              "      <td>Banana Company</td>\n",
              "      <td>Auto Components</td>\n",
              "      <td>NaN</td>\n",
              "      <td>NaN</td>\n",
              "    </tr>\n",
              "  </tbody>\n",
              "</table>\n",
              "</div>\n",
              "      <button class=\"colab-df-convert\" onclick=\"convertToInteractive('df-1edfb393-30e4-40ac-b685-6c131c0a8b17')\"\n",
              "              title=\"Convert this dataframe to an interactive table.\"\n",
              "              style=\"display:none;\">\n",
              "        \n",
              "  <svg xmlns=\"http://www.w3.org/2000/svg\" height=\"24px\"viewBox=\"0 0 24 24\"\n",
              "       width=\"24px\">\n",
              "    <path d=\"M0 0h24v24H0V0z\" fill=\"none\"/>\n",
              "    <path d=\"M18.56 5.44l.94 2.06.94-2.06 2.06-.94-2.06-.94-.94-2.06-.94 2.06-2.06.94zm-11 1L8.5 8.5l.94-2.06 2.06-.94-2.06-.94L8.5 2.5l-.94 2.06-2.06.94zm10 10l.94 2.06.94-2.06 2.06-.94-2.06-.94-.94-2.06-.94 2.06-2.06.94z\"/><path d=\"M17.41 7.96l-1.37-1.37c-.4-.4-.92-.59-1.43-.59-.52 0-1.04.2-1.43.59L10.3 9.45l-7.72 7.72c-.78.78-.78 2.05 0 2.83L4 21.41c.39.39.9.59 1.41.59.51 0 1.02-.2 1.41-.59l7.78-7.78 2.81-2.81c.8-.78.8-2.07 0-2.86zM5.41 20L4 18.59l7.72-7.72 1.47 1.35L5.41 20z\"/>\n",
              "  </svg>\n",
              "      </button>\n",
              "      \n",
              "  <style>\n",
              "    .colab-df-container {\n",
              "      display:flex;\n",
              "      flex-wrap:wrap;\n",
              "      gap: 12px;\n",
              "    }\n",
              "\n",
              "    .colab-df-convert {\n",
              "      background-color: #E8F0FE;\n",
              "      border: none;\n",
              "      border-radius: 50%;\n",
              "      cursor: pointer;\n",
              "      display: none;\n",
              "      fill: #1967D2;\n",
              "      height: 32px;\n",
              "      padding: 0 0 0 0;\n",
              "      width: 32px;\n",
              "    }\n",
              "\n",
              "    .colab-df-convert:hover {\n",
              "      background-color: #E2EBFA;\n",
              "      box-shadow: 0px 1px 2px rgba(60, 64, 67, 0.3), 0px 1px 3px 1px rgba(60, 64, 67, 0.15);\n",
              "      fill: #174EA6;\n",
              "    }\n",
              "\n",
              "    [theme=dark] .colab-df-convert {\n",
              "      background-color: #3B4455;\n",
              "      fill: #D2E3FC;\n",
              "    }\n",
              "\n",
              "    [theme=dark] .colab-df-convert:hover {\n",
              "      background-color: #434B5C;\n",
              "      box-shadow: 0px 1px 3px 1px rgba(0, 0, 0, 0.15);\n",
              "      filter: drop-shadow(0px 1px 2px rgba(0, 0, 0, 0.3));\n",
              "      fill: #FFFFFF;\n",
              "    }\n",
              "  </style>\n",
              "\n",
              "      <script>\n",
              "        const buttonEl =\n",
              "          document.querySelector('#df-1edfb393-30e4-40ac-b685-6c131c0a8b17 button.colab-df-convert');\n",
              "        buttonEl.style.display =\n",
              "          google.colab.kernel.accessAllowed ? 'block' : 'none';\n",
              "\n",
              "        async function convertToInteractive(key) {\n",
              "          const element = document.querySelector('#df-1edfb393-30e4-40ac-b685-6c131c0a8b17');\n",
              "          const dataTable =\n",
              "            await google.colab.kernel.invokeFunction('convertToInteractive',\n",
              "                                                     [key], {});\n",
              "          if (!dataTable) return;\n",
              "\n",
              "          const docLinkHtml = 'Like what you see? Visit the ' +\n",
              "            '<a target=\"_blank\" href=https://colab.research.google.com/notebooks/data_table.ipynb>data table notebook</a>'\n",
              "            + ' to learn more about interactive tables.';\n",
              "          element.innerHTML = '';\n",
              "          dataTable['output_type'] = 'display_data';\n",
              "          await google.colab.output.renderOutput(dataTable, element);\n",
              "          const docLink = document.createElement('div');\n",
              "          docLink.innerHTML = docLinkHtml;\n",
              "          element.appendChild(docLink);\n",
              "        }\n",
              "      </script>\n",
              "    </div>\n",
              "  </div>\n",
              "  "
            ]
          },
          "metadata": {},
          "execution_count": 36
        }
      ]
    },
    {
      "cell_type": "markdown",
      "source": [
        "Both ID could not be searched in database. In this case to make sure these records are new input, search based on company names."
      ],
      "metadata": {
        "id": "9mkK4eKWmFy6"
      }
    },
    {
      "cell_type": "code",
      "source": [
        "pd.merge(ID_problem,db_company_id_name_lookup, on='Company Name',how=\"left\", suffixes=('_data', '_db'))"
      ],
      "metadata": {
        "colab": {
          "base_uri": "https://localhost:8080/",
          "height": 175
        },
        "id": "MYR1YhLRl6M6",
        "outputId": "98894094-3550-4b2b-e2fb-77739a3285dd"
      },
      "execution_count": 37,
      "outputs": [
        {
          "output_type": "execute_result",
          "data": {
            "text/plain": [
              "  Company ID_data    Company Name    Industry_data Company ID_db Industry_db\n",
              "0         4976235       E Company        Machinery           NaN         NaN\n",
              "1         4976235    Evil Company        Machinery           NaN         NaN\n",
              "2         4991368       B Company  Auto Components           NaN         NaN\n",
              "3         4991368  Banana Company  Auto Components           NaN         NaN"
            ],
            "text/html": [
              "\n",
              "  <div id=\"df-766ebd63-6897-4aae-bb7f-b99cf342b8cd\">\n",
              "    <div class=\"colab-df-container\">\n",
              "      <div>\n",
              "<style scoped>\n",
              "    .dataframe tbody tr th:only-of-type {\n",
              "        vertical-align: middle;\n",
              "    }\n",
              "\n",
              "    .dataframe tbody tr th {\n",
              "        vertical-align: top;\n",
              "    }\n",
              "\n",
              "    .dataframe thead th {\n",
              "        text-align: right;\n",
              "    }\n",
              "</style>\n",
              "<table border=\"1\" class=\"dataframe\">\n",
              "  <thead>\n",
              "    <tr style=\"text-align: right;\">\n",
              "      <th></th>\n",
              "      <th>Company ID_data</th>\n",
              "      <th>Company Name</th>\n",
              "      <th>Industry_data</th>\n",
              "      <th>Company ID_db</th>\n",
              "      <th>Industry_db</th>\n",
              "    </tr>\n",
              "  </thead>\n",
              "  <tbody>\n",
              "    <tr>\n",
              "      <th>0</th>\n",
              "      <td>4976235</td>\n",
              "      <td>E Company</td>\n",
              "      <td>Machinery</td>\n",
              "      <td>NaN</td>\n",
              "      <td>NaN</td>\n",
              "    </tr>\n",
              "    <tr>\n",
              "      <th>1</th>\n",
              "      <td>4976235</td>\n",
              "      <td>Evil Company</td>\n",
              "      <td>Machinery</td>\n",
              "      <td>NaN</td>\n",
              "      <td>NaN</td>\n",
              "    </tr>\n",
              "    <tr>\n",
              "      <th>2</th>\n",
              "      <td>4991368</td>\n",
              "      <td>B Company</td>\n",
              "      <td>Auto Components</td>\n",
              "      <td>NaN</td>\n",
              "      <td>NaN</td>\n",
              "    </tr>\n",
              "    <tr>\n",
              "      <th>3</th>\n",
              "      <td>4991368</td>\n",
              "      <td>Banana Company</td>\n",
              "      <td>Auto Components</td>\n",
              "      <td>NaN</td>\n",
              "      <td>NaN</td>\n",
              "    </tr>\n",
              "  </tbody>\n",
              "</table>\n",
              "</div>\n",
              "      <button class=\"colab-df-convert\" onclick=\"convertToInteractive('df-766ebd63-6897-4aae-bb7f-b99cf342b8cd')\"\n",
              "              title=\"Convert this dataframe to an interactive table.\"\n",
              "              style=\"display:none;\">\n",
              "        \n",
              "  <svg xmlns=\"http://www.w3.org/2000/svg\" height=\"24px\"viewBox=\"0 0 24 24\"\n",
              "       width=\"24px\">\n",
              "    <path d=\"M0 0h24v24H0V0z\" fill=\"none\"/>\n",
              "    <path d=\"M18.56 5.44l.94 2.06.94-2.06 2.06-.94-2.06-.94-.94-2.06-.94 2.06-2.06.94zm-11 1L8.5 8.5l.94-2.06 2.06-.94-2.06-.94L8.5 2.5l-.94 2.06-2.06.94zm10 10l.94 2.06.94-2.06 2.06-.94-2.06-.94-.94-2.06-.94 2.06-2.06.94z\"/><path d=\"M17.41 7.96l-1.37-1.37c-.4-.4-.92-.59-1.43-.59-.52 0-1.04.2-1.43.59L10.3 9.45l-7.72 7.72c-.78.78-.78 2.05 0 2.83L4 21.41c.39.39.9.59 1.41.59.51 0 1.02-.2 1.41-.59l7.78-7.78 2.81-2.81c.8-.78.8-2.07 0-2.86zM5.41 20L4 18.59l7.72-7.72 1.47 1.35L5.41 20z\"/>\n",
              "  </svg>\n",
              "      </button>\n",
              "      \n",
              "  <style>\n",
              "    .colab-df-container {\n",
              "      display:flex;\n",
              "      flex-wrap:wrap;\n",
              "      gap: 12px;\n",
              "    }\n",
              "\n",
              "    .colab-df-convert {\n",
              "      background-color: #E8F0FE;\n",
              "      border: none;\n",
              "      border-radius: 50%;\n",
              "      cursor: pointer;\n",
              "      display: none;\n",
              "      fill: #1967D2;\n",
              "      height: 32px;\n",
              "      padding: 0 0 0 0;\n",
              "      width: 32px;\n",
              "    }\n",
              "\n",
              "    .colab-df-convert:hover {\n",
              "      background-color: #E2EBFA;\n",
              "      box-shadow: 0px 1px 2px rgba(60, 64, 67, 0.3), 0px 1px 3px 1px rgba(60, 64, 67, 0.15);\n",
              "      fill: #174EA6;\n",
              "    }\n",
              "\n",
              "    [theme=dark] .colab-df-convert {\n",
              "      background-color: #3B4455;\n",
              "      fill: #D2E3FC;\n",
              "    }\n",
              "\n",
              "    [theme=dark] .colab-df-convert:hover {\n",
              "      background-color: #434B5C;\n",
              "      box-shadow: 0px 1px 3px 1px rgba(0, 0, 0, 0.15);\n",
              "      filter: drop-shadow(0px 1px 2px rgba(0, 0, 0, 0.3));\n",
              "      fill: #FFFFFF;\n",
              "    }\n",
              "  </style>\n",
              "\n",
              "      <script>\n",
              "        const buttonEl =\n",
              "          document.querySelector('#df-766ebd63-6897-4aae-bb7f-b99cf342b8cd button.colab-df-convert');\n",
              "        buttonEl.style.display =\n",
              "          google.colab.kernel.accessAllowed ? 'block' : 'none';\n",
              "\n",
              "        async function convertToInteractive(key) {\n",
              "          const element = document.querySelector('#df-766ebd63-6897-4aae-bb7f-b99cf342b8cd');\n",
              "          const dataTable =\n",
              "            await google.colab.kernel.invokeFunction('convertToInteractive',\n",
              "                                                     [key], {});\n",
              "          if (!dataTable) return;\n",
              "\n",
              "          const docLinkHtml = 'Like what you see? Visit the ' +\n",
              "            '<a target=\"_blank\" href=https://colab.research.google.com/notebooks/data_table.ipynb>data table notebook</a>'\n",
              "            + ' to learn more about interactive tables.';\n",
              "          element.innerHTML = '';\n",
              "          dataTable['output_type'] = 'display_data';\n",
              "          await google.colab.output.renderOutput(dataTable, element);\n",
              "          const docLink = document.createElement('div');\n",
              "          docLink.innerHTML = docLinkHtml;\n",
              "          element.appendChild(docLink);\n",
              "        }\n",
              "      </script>\n",
              "    </div>\n",
              "  </div>\n",
              "  "
            ]
          },
          "metadata": {},
          "execution_count": 37
        }
      ]
    },
    {
      "cell_type": "markdown",
      "source": [
        "We can confirm that these records are new input data. Based on format we observed in database, we take 'E Company' and 'B Company' as corrected values."
      ],
      "metadata": {
        "id": "67CyLeD6mfRi"
      }
    },
    {
      "cell_type": "code",
      "source": [
        "ID_problem_corrected = ID_problem.sort_values(by='Company Name').groupby('Company ID').first().reset_index()"
      ],
      "metadata": {
        "id": "eUulxVagmdI4"
      },
      "execution_count": 38,
      "outputs": []
    },
    {
      "cell_type": "code",
      "source": [
        "ID_problem_corrected "
      ],
      "metadata": {
        "colab": {
          "base_uri": "https://localhost:8080/",
          "height": 112
        },
        "id": "m5ajNFrkxhK7",
        "outputId": "73bbf564-4c7b-49b5-e7e1-f9d07a3199f6"
      },
      "execution_count": 39,
      "outputs": [
        {
          "output_type": "execute_result",
          "data": {
            "text/plain": [
              "  Company ID Company Name         Industry\n",
              "0    4976235    E Company        Machinery\n",
              "1    4991368    B Company  Auto Components"
            ],
            "text/html": [
              "\n",
              "  <div id=\"df-1a5c33c5-6ee3-4c0f-896c-4881d7e9a6e3\">\n",
              "    <div class=\"colab-df-container\">\n",
              "      <div>\n",
              "<style scoped>\n",
              "    .dataframe tbody tr th:only-of-type {\n",
              "        vertical-align: middle;\n",
              "    }\n",
              "\n",
              "    .dataframe tbody tr th {\n",
              "        vertical-align: top;\n",
              "    }\n",
              "\n",
              "    .dataframe thead th {\n",
              "        text-align: right;\n",
              "    }\n",
              "</style>\n",
              "<table border=\"1\" class=\"dataframe\">\n",
              "  <thead>\n",
              "    <tr style=\"text-align: right;\">\n",
              "      <th></th>\n",
              "      <th>Company ID</th>\n",
              "      <th>Company Name</th>\n",
              "      <th>Industry</th>\n",
              "    </tr>\n",
              "  </thead>\n",
              "  <tbody>\n",
              "    <tr>\n",
              "      <th>0</th>\n",
              "      <td>4976235</td>\n",
              "      <td>E Company</td>\n",
              "      <td>Machinery</td>\n",
              "    </tr>\n",
              "    <tr>\n",
              "      <th>1</th>\n",
              "      <td>4991368</td>\n",
              "      <td>B Company</td>\n",
              "      <td>Auto Components</td>\n",
              "    </tr>\n",
              "  </tbody>\n",
              "</table>\n",
              "</div>\n",
              "      <button class=\"colab-df-convert\" onclick=\"convertToInteractive('df-1a5c33c5-6ee3-4c0f-896c-4881d7e9a6e3')\"\n",
              "              title=\"Convert this dataframe to an interactive table.\"\n",
              "              style=\"display:none;\">\n",
              "        \n",
              "  <svg xmlns=\"http://www.w3.org/2000/svg\" height=\"24px\"viewBox=\"0 0 24 24\"\n",
              "       width=\"24px\">\n",
              "    <path d=\"M0 0h24v24H0V0z\" fill=\"none\"/>\n",
              "    <path d=\"M18.56 5.44l.94 2.06.94-2.06 2.06-.94-2.06-.94-.94-2.06-.94 2.06-2.06.94zm-11 1L8.5 8.5l.94-2.06 2.06-.94-2.06-.94L8.5 2.5l-.94 2.06-2.06.94zm10 10l.94 2.06.94-2.06 2.06-.94-2.06-.94-.94-2.06-.94 2.06-2.06.94z\"/><path d=\"M17.41 7.96l-1.37-1.37c-.4-.4-.92-.59-1.43-.59-.52 0-1.04.2-1.43.59L10.3 9.45l-7.72 7.72c-.78.78-.78 2.05 0 2.83L4 21.41c.39.39.9.59 1.41.59.51 0 1.02-.2 1.41-.59l7.78-7.78 2.81-2.81c.8-.78.8-2.07 0-2.86zM5.41 20L4 18.59l7.72-7.72 1.47 1.35L5.41 20z\"/>\n",
              "  </svg>\n",
              "      </button>\n",
              "      \n",
              "  <style>\n",
              "    .colab-df-container {\n",
              "      display:flex;\n",
              "      flex-wrap:wrap;\n",
              "      gap: 12px;\n",
              "    }\n",
              "\n",
              "    .colab-df-convert {\n",
              "      background-color: #E8F0FE;\n",
              "      border: none;\n",
              "      border-radius: 50%;\n",
              "      cursor: pointer;\n",
              "      display: none;\n",
              "      fill: #1967D2;\n",
              "      height: 32px;\n",
              "      padding: 0 0 0 0;\n",
              "      width: 32px;\n",
              "    }\n",
              "\n",
              "    .colab-df-convert:hover {\n",
              "      background-color: #E2EBFA;\n",
              "      box-shadow: 0px 1px 2px rgba(60, 64, 67, 0.3), 0px 1px 3px 1px rgba(60, 64, 67, 0.15);\n",
              "      fill: #174EA6;\n",
              "    }\n",
              "\n",
              "    [theme=dark] .colab-df-convert {\n",
              "      background-color: #3B4455;\n",
              "      fill: #D2E3FC;\n",
              "    }\n",
              "\n",
              "    [theme=dark] .colab-df-convert:hover {\n",
              "      background-color: #434B5C;\n",
              "      box-shadow: 0px 1px 3px 1px rgba(0, 0, 0, 0.15);\n",
              "      filter: drop-shadow(0px 1px 2px rgba(0, 0, 0, 0.3));\n",
              "      fill: #FFFFFF;\n",
              "    }\n",
              "  </style>\n",
              "\n",
              "      <script>\n",
              "        const buttonEl =\n",
              "          document.querySelector('#df-1a5c33c5-6ee3-4c0f-896c-4881d7e9a6e3 button.colab-df-convert');\n",
              "        buttonEl.style.display =\n",
              "          google.colab.kernel.accessAllowed ? 'block' : 'none';\n",
              "\n",
              "        async function convertToInteractive(key) {\n",
              "          const element = document.querySelector('#df-1a5c33c5-6ee3-4c0f-896c-4881d7e9a6e3');\n",
              "          const dataTable =\n",
              "            await google.colab.kernel.invokeFunction('convertToInteractive',\n",
              "                                                     [key], {});\n",
              "          if (!dataTable) return;\n",
              "\n",
              "          const docLinkHtml = 'Like what you see? Visit the ' +\n",
              "            '<a target=\"_blank\" href=https://colab.research.google.com/notebooks/data_table.ipynb>data table notebook</a>'\n",
              "            + ' to learn more about interactive tables.';\n",
              "          element.innerHTML = '';\n",
              "          dataTable['output_type'] = 'display_data';\n",
              "          await google.colab.output.renderOutput(dataTable, element);\n",
              "          const docLink = document.createElement('div');\n",
              "          docLink.innerHTML = docLinkHtml;\n",
              "          element.appendChild(docLink);\n",
              "        }\n",
              "      </script>\n",
              "    </div>\n",
              "  </div>\n",
              "  "
            ]
          },
          "metadata": {},
          "execution_count": 39
        }
      ]
    },
    {
      "cell_type": "markdown",
      "source": [
        "##### Issue 2: Multiple ID to 1 name"
      ],
      "metadata": {
        "id": "RNbzeRxsoIEZ"
      }
    },
    {
      "cell_type": "markdown",
      "source": [
        "This problem needs to take multiple steps to fix. Company D in database as reference actually has 2 IDs associated to it, corresponding to its presentation in 2 industries."
      ],
      "metadata": {
        "id": "8qhahjGep5Kv"
      }
    },
    {
      "cell_type": "code",
      "source": [
        "db_company_id_name_lookup[db_company_id_name_lookup['Company Name'].isin(name_flg)]"
      ],
      "metadata": {
        "colab": {
          "base_uri": "https://localhost:8080/",
          "height": 112
        },
        "id": "tqQ3Aw-MqOt2",
        "outputId": "4f3f5331-cef9-41b4-e61c-eb769badbf3d"
      },
      "execution_count": 40,
      "outputs": [
        {
          "output_type": "execute_result",
          "data": {
            "text/plain": [
              "  Company ID Company Name               Industry\n",
              "2     500295    D Company  Aerospace and Defense\n",
              "8    4994275    D Company              Machinery"
            ],
            "text/html": [
              "\n",
              "  <div id=\"df-100cf530-57e2-406e-b69f-6160ac185031\">\n",
              "    <div class=\"colab-df-container\">\n",
              "      <div>\n",
              "<style scoped>\n",
              "    .dataframe tbody tr th:only-of-type {\n",
              "        vertical-align: middle;\n",
              "    }\n",
              "\n",
              "    .dataframe tbody tr th {\n",
              "        vertical-align: top;\n",
              "    }\n",
              "\n",
              "    .dataframe thead th {\n",
              "        text-align: right;\n",
              "    }\n",
              "</style>\n",
              "<table border=\"1\" class=\"dataframe\">\n",
              "  <thead>\n",
              "    <tr style=\"text-align: right;\">\n",
              "      <th></th>\n",
              "      <th>Company ID</th>\n",
              "      <th>Company Name</th>\n",
              "      <th>Industry</th>\n",
              "    </tr>\n",
              "  </thead>\n",
              "  <tbody>\n",
              "    <tr>\n",
              "      <th>2</th>\n",
              "      <td>500295</td>\n",
              "      <td>D Company</td>\n",
              "      <td>Aerospace and Defense</td>\n",
              "    </tr>\n",
              "    <tr>\n",
              "      <th>8</th>\n",
              "      <td>4994275</td>\n",
              "      <td>D Company</td>\n",
              "      <td>Machinery</td>\n",
              "    </tr>\n",
              "  </tbody>\n",
              "</table>\n",
              "</div>\n",
              "      <button class=\"colab-df-convert\" onclick=\"convertToInteractive('df-100cf530-57e2-406e-b69f-6160ac185031')\"\n",
              "              title=\"Convert this dataframe to an interactive table.\"\n",
              "              style=\"display:none;\">\n",
              "        \n",
              "  <svg xmlns=\"http://www.w3.org/2000/svg\" height=\"24px\"viewBox=\"0 0 24 24\"\n",
              "       width=\"24px\">\n",
              "    <path d=\"M0 0h24v24H0V0z\" fill=\"none\"/>\n",
              "    <path d=\"M18.56 5.44l.94 2.06.94-2.06 2.06-.94-2.06-.94-.94-2.06-.94 2.06-2.06.94zm-11 1L8.5 8.5l.94-2.06 2.06-.94-2.06-.94L8.5 2.5l-.94 2.06-2.06.94zm10 10l.94 2.06.94-2.06 2.06-.94-2.06-.94-.94-2.06-.94 2.06-2.06.94z\"/><path d=\"M17.41 7.96l-1.37-1.37c-.4-.4-.92-.59-1.43-.59-.52 0-1.04.2-1.43.59L10.3 9.45l-7.72 7.72c-.78.78-.78 2.05 0 2.83L4 21.41c.39.39.9.59 1.41.59.51 0 1.02-.2 1.41-.59l7.78-7.78 2.81-2.81c.8-.78.8-2.07 0-2.86zM5.41 20L4 18.59l7.72-7.72 1.47 1.35L5.41 20z\"/>\n",
              "  </svg>\n",
              "      </button>\n",
              "      \n",
              "  <style>\n",
              "    .colab-df-container {\n",
              "      display:flex;\n",
              "      flex-wrap:wrap;\n",
              "      gap: 12px;\n",
              "    }\n",
              "\n",
              "    .colab-df-convert {\n",
              "      background-color: #E8F0FE;\n",
              "      border: none;\n",
              "      border-radius: 50%;\n",
              "      cursor: pointer;\n",
              "      display: none;\n",
              "      fill: #1967D2;\n",
              "      height: 32px;\n",
              "      padding: 0 0 0 0;\n",
              "      width: 32px;\n",
              "    }\n",
              "\n",
              "    .colab-df-convert:hover {\n",
              "      background-color: #E2EBFA;\n",
              "      box-shadow: 0px 1px 2px rgba(60, 64, 67, 0.3), 0px 1px 3px 1px rgba(60, 64, 67, 0.15);\n",
              "      fill: #174EA6;\n",
              "    }\n",
              "\n",
              "    [theme=dark] .colab-df-convert {\n",
              "      background-color: #3B4455;\n",
              "      fill: #D2E3FC;\n",
              "    }\n",
              "\n",
              "    [theme=dark] .colab-df-convert:hover {\n",
              "      background-color: #434B5C;\n",
              "      box-shadow: 0px 1px 3px 1px rgba(0, 0, 0, 0.15);\n",
              "      filter: drop-shadow(0px 1px 2px rgba(0, 0, 0, 0.3));\n",
              "      fill: #FFFFFF;\n",
              "    }\n",
              "  </style>\n",
              "\n",
              "      <script>\n",
              "        const buttonEl =\n",
              "          document.querySelector('#df-100cf530-57e2-406e-b69f-6160ac185031 button.colab-df-convert');\n",
              "        buttonEl.style.display =\n",
              "          google.colab.kernel.accessAllowed ? 'block' : 'none';\n",
              "\n",
              "        async function convertToInteractive(key) {\n",
              "          const element = document.querySelector('#df-100cf530-57e2-406e-b69f-6160ac185031');\n",
              "          const dataTable =\n",
              "            await google.colab.kernel.invokeFunction('convertToInteractive',\n",
              "                                                     [key], {});\n",
              "          if (!dataTable) return;\n",
              "\n",
              "          const docLinkHtml = 'Like what you see? Visit the ' +\n",
              "            '<a target=\"_blank\" href=https://colab.research.google.com/notebooks/data_table.ipynb>data table notebook</a>'\n",
              "            + ' to learn more about interactive tables.';\n",
              "          element.innerHTML = '';\n",
              "          dataTable['output_type'] = 'display_data';\n",
              "          await google.colab.output.renderOutput(dataTable, element);\n",
              "          const docLink = document.createElement('div');\n",
              "          docLink.innerHTML = docLinkHtml;\n",
              "          element.appendChild(docLink);\n",
              "        }\n",
              "      </script>\n",
              "    </div>\n",
              "  </div>\n",
              "  "
            ]
          },
          "metadata": {},
          "execution_count": 40
        }
      ]
    },
    {
      "cell_type": "markdown",
      "source": [
        "Based on company name and industry, check if IDs are correct."
      ],
      "metadata": {
        "id": "sKRc6VjNt2_Y"
      }
    },
    {
      "cell_type": "code",
      "source": [
        "check_ids_name = pd.merge(name_problem,db_company_id_name_lookup, on=['Company Name','Industry'],how=\"left\", suffixes=('_data', '_db'))\n",
        "check_ids_name"
      ],
      "metadata": {
        "colab": {
          "base_uri": "https://localhost:8080/",
          "height": 112
        },
        "id": "gDDwP7oznpWU",
        "outputId": "851a0f3c-ead3-4d7f-dcb6-346387684a6d"
      },
      "execution_count": 41,
      "outputs": [
        {
          "output_type": "execute_result",
          "data": {
            "text/plain": [
              "  Company ID_data Company Name               Industry Company ID_db\n",
              "0         4994275    D Company              Machinery       4994275\n",
              "1          500295    D Company  Aerospace and Defense        500295"
            ],
            "text/html": [
              "\n",
              "  <div id=\"df-bc321db7-d016-45f8-8c28-ca9fa8d6d1e6\">\n",
              "    <div class=\"colab-df-container\">\n",
              "      <div>\n",
              "<style scoped>\n",
              "    .dataframe tbody tr th:only-of-type {\n",
              "        vertical-align: middle;\n",
              "    }\n",
              "\n",
              "    .dataframe tbody tr th {\n",
              "        vertical-align: top;\n",
              "    }\n",
              "\n",
              "    .dataframe thead th {\n",
              "        text-align: right;\n",
              "    }\n",
              "</style>\n",
              "<table border=\"1\" class=\"dataframe\">\n",
              "  <thead>\n",
              "    <tr style=\"text-align: right;\">\n",
              "      <th></th>\n",
              "      <th>Company ID_data</th>\n",
              "      <th>Company Name</th>\n",
              "      <th>Industry</th>\n",
              "      <th>Company ID_db</th>\n",
              "    </tr>\n",
              "  </thead>\n",
              "  <tbody>\n",
              "    <tr>\n",
              "      <th>0</th>\n",
              "      <td>4994275</td>\n",
              "      <td>D Company</td>\n",
              "      <td>Machinery</td>\n",
              "      <td>4994275</td>\n",
              "    </tr>\n",
              "    <tr>\n",
              "      <th>1</th>\n",
              "      <td>500295</td>\n",
              "      <td>D Company</td>\n",
              "      <td>Aerospace and Defense</td>\n",
              "      <td>500295</td>\n",
              "    </tr>\n",
              "  </tbody>\n",
              "</table>\n",
              "</div>\n",
              "      <button class=\"colab-df-convert\" onclick=\"convertToInteractive('df-bc321db7-d016-45f8-8c28-ca9fa8d6d1e6')\"\n",
              "              title=\"Convert this dataframe to an interactive table.\"\n",
              "              style=\"display:none;\">\n",
              "        \n",
              "  <svg xmlns=\"http://www.w3.org/2000/svg\" height=\"24px\"viewBox=\"0 0 24 24\"\n",
              "       width=\"24px\">\n",
              "    <path d=\"M0 0h24v24H0V0z\" fill=\"none\"/>\n",
              "    <path d=\"M18.56 5.44l.94 2.06.94-2.06 2.06-.94-2.06-.94-.94-2.06-.94 2.06-2.06.94zm-11 1L8.5 8.5l.94-2.06 2.06-.94-2.06-.94L8.5 2.5l-.94 2.06-2.06.94zm10 10l.94 2.06.94-2.06 2.06-.94-2.06-.94-.94-2.06-.94 2.06-2.06.94z\"/><path d=\"M17.41 7.96l-1.37-1.37c-.4-.4-.92-.59-1.43-.59-.52 0-1.04.2-1.43.59L10.3 9.45l-7.72 7.72c-.78.78-.78 2.05 0 2.83L4 21.41c.39.39.9.59 1.41.59.51 0 1.02-.2 1.41-.59l7.78-7.78 2.81-2.81c.8-.78.8-2.07 0-2.86zM5.41 20L4 18.59l7.72-7.72 1.47 1.35L5.41 20z\"/>\n",
              "  </svg>\n",
              "      </button>\n",
              "      \n",
              "  <style>\n",
              "    .colab-df-container {\n",
              "      display:flex;\n",
              "      flex-wrap:wrap;\n",
              "      gap: 12px;\n",
              "    }\n",
              "\n",
              "    .colab-df-convert {\n",
              "      background-color: #E8F0FE;\n",
              "      border: none;\n",
              "      border-radius: 50%;\n",
              "      cursor: pointer;\n",
              "      display: none;\n",
              "      fill: #1967D2;\n",
              "      height: 32px;\n",
              "      padding: 0 0 0 0;\n",
              "      width: 32px;\n",
              "    }\n",
              "\n",
              "    .colab-df-convert:hover {\n",
              "      background-color: #E2EBFA;\n",
              "      box-shadow: 0px 1px 2px rgba(60, 64, 67, 0.3), 0px 1px 3px 1px rgba(60, 64, 67, 0.15);\n",
              "      fill: #174EA6;\n",
              "    }\n",
              "\n",
              "    [theme=dark] .colab-df-convert {\n",
              "      background-color: #3B4455;\n",
              "      fill: #D2E3FC;\n",
              "    }\n",
              "\n",
              "    [theme=dark] .colab-df-convert:hover {\n",
              "      background-color: #434B5C;\n",
              "      box-shadow: 0px 1px 3px 1px rgba(0, 0, 0, 0.15);\n",
              "      filter: drop-shadow(0px 1px 2px rgba(0, 0, 0, 0.3));\n",
              "      fill: #FFFFFF;\n",
              "    }\n",
              "  </style>\n",
              "\n",
              "      <script>\n",
              "        const buttonEl =\n",
              "          document.querySelector('#df-bc321db7-d016-45f8-8c28-ca9fa8d6d1e6 button.colab-df-convert');\n",
              "        buttonEl.style.display =\n",
              "          google.colab.kernel.accessAllowed ? 'block' : 'none';\n",
              "\n",
              "        async function convertToInteractive(key) {\n",
              "          const element = document.querySelector('#df-bc321db7-d016-45f8-8c28-ca9fa8d6d1e6');\n",
              "          const dataTable =\n",
              "            await google.colab.kernel.invokeFunction('convertToInteractive',\n",
              "                                                     [key], {});\n",
              "          if (!dataTable) return;\n",
              "\n",
              "          const docLinkHtml = 'Like what you see? Visit the ' +\n",
              "            '<a target=\"_blank\" href=https://colab.research.google.com/notebooks/data_table.ipynb>data table notebook</a>'\n",
              "            + ' to learn more about interactive tables.';\n",
              "          element.innerHTML = '';\n",
              "          dataTable['output_type'] = 'display_data';\n",
              "          await google.colab.output.renderOutput(dataTable, element);\n",
              "          const docLink = document.createElement('div');\n",
              "          docLink.innerHTML = docLinkHtml;\n",
              "          element.appendChild(docLink);\n",
              "        }\n",
              "      </script>\n",
              "    </div>\n",
              "  </div>\n",
              "  "
            ]
          },
          "metadata": {},
          "execution_count": 41
        }
      ]
    },
    {
      "cell_type": "code",
      "source": [
        "np.all([check_ids_name['Company ID_data']==check_ids_name['Company ID_db']])"
      ],
      "metadata": {
        "colab": {
          "base_uri": "https://localhost:8080/"
        },
        "id": "BzHPlEDqoW76",
        "outputId": "c8140147-ca00-41c9-855f-56f5fd9bca85"
      },
      "execution_count": 42,
      "outputs": [
        {
          "output_type": "execute_result",
          "data": {
            "text/plain": [
              "True"
            ]
          },
          "metadata": {},
          "execution_count": 42
        }
      ]
    },
    {
      "cell_type": "markdown",
      "source": [
        "IDs are correct, no need to fix IDs for D Company.\n",
        "\n",
        "**Note:**\\\n",
        "Based on request, if there is ID to many names (fixed) or 1 name to many IDs, ID/name is invalid and need to be cleaned up.\n",
        "\n",
        "We have performed checks on example data and applied fixes if accapable. Potentially data related to D Company might have ID issues as well and need further investigation, since DB format is the reference for data cleaning, we assume Company D's situation where it has 2 IDs for 2 industries is correct.\n",
        "\n",
        "Potentially, these records could be dropped."
      ],
      "metadata": {
        "id": "ZrZBR3VeyPrm"
      }
    },
    {
      "cell_type": "markdown",
      "source": [
        "Now perform fixes accordingly to records that has ID problems (1 ID corresponding to more than 1 company name)"
      ],
      "metadata": {
        "id": "DJ0kEyA2zcXM"
      }
    },
    {
      "cell_type": "code",
      "source": [
        "ID_problem_corrected"
      ],
      "metadata": {
        "colab": {
          "base_uri": "https://localhost:8080/",
          "height": 112
        },
        "id": "d1yMMXto0x7f",
        "outputId": "13a7ced9-cb62-4c86-9168-3bd3ce02503b"
      },
      "execution_count": 43,
      "outputs": [
        {
          "output_type": "execute_result",
          "data": {
            "text/plain": [
              "  Company ID Company Name         Industry\n",
              "0    4976235    E Company        Machinery\n",
              "1    4991368    B Company  Auto Components"
            ],
            "text/html": [
              "\n",
              "  <div id=\"df-5982a5d6-e1d2-4ea1-8721-89572cf0eb26\">\n",
              "    <div class=\"colab-df-container\">\n",
              "      <div>\n",
              "<style scoped>\n",
              "    .dataframe tbody tr th:only-of-type {\n",
              "        vertical-align: middle;\n",
              "    }\n",
              "\n",
              "    .dataframe tbody tr th {\n",
              "        vertical-align: top;\n",
              "    }\n",
              "\n",
              "    .dataframe thead th {\n",
              "        text-align: right;\n",
              "    }\n",
              "</style>\n",
              "<table border=\"1\" class=\"dataframe\">\n",
              "  <thead>\n",
              "    <tr style=\"text-align: right;\">\n",
              "      <th></th>\n",
              "      <th>Company ID</th>\n",
              "      <th>Company Name</th>\n",
              "      <th>Industry</th>\n",
              "    </tr>\n",
              "  </thead>\n",
              "  <tbody>\n",
              "    <tr>\n",
              "      <th>0</th>\n",
              "      <td>4976235</td>\n",
              "      <td>E Company</td>\n",
              "      <td>Machinery</td>\n",
              "    </tr>\n",
              "    <tr>\n",
              "      <th>1</th>\n",
              "      <td>4991368</td>\n",
              "      <td>B Company</td>\n",
              "      <td>Auto Components</td>\n",
              "    </tr>\n",
              "  </tbody>\n",
              "</table>\n",
              "</div>\n",
              "      <button class=\"colab-df-convert\" onclick=\"convertToInteractive('df-5982a5d6-e1d2-4ea1-8721-89572cf0eb26')\"\n",
              "              title=\"Convert this dataframe to an interactive table.\"\n",
              "              style=\"display:none;\">\n",
              "        \n",
              "  <svg xmlns=\"http://www.w3.org/2000/svg\" height=\"24px\"viewBox=\"0 0 24 24\"\n",
              "       width=\"24px\">\n",
              "    <path d=\"M0 0h24v24H0V0z\" fill=\"none\"/>\n",
              "    <path d=\"M18.56 5.44l.94 2.06.94-2.06 2.06-.94-2.06-.94-.94-2.06-.94 2.06-2.06.94zm-11 1L8.5 8.5l.94-2.06 2.06-.94-2.06-.94L8.5 2.5l-.94 2.06-2.06.94zm10 10l.94 2.06.94-2.06 2.06-.94-2.06-.94-.94-2.06-.94 2.06-2.06.94z\"/><path d=\"M17.41 7.96l-1.37-1.37c-.4-.4-.92-.59-1.43-.59-.52 0-1.04.2-1.43.59L10.3 9.45l-7.72 7.72c-.78.78-.78 2.05 0 2.83L4 21.41c.39.39.9.59 1.41.59.51 0 1.02-.2 1.41-.59l7.78-7.78 2.81-2.81c.8-.78.8-2.07 0-2.86zM5.41 20L4 18.59l7.72-7.72 1.47 1.35L5.41 20z\"/>\n",
              "  </svg>\n",
              "      </button>\n",
              "      \n",
              "  <style>\n",
              "    .colab-df-container {\n",
              "      display:flex;\n",
              "      flex-wrap:wrap;\n",
              "      gap: 12px;\n",
              "    }\n",
              "\n",
              "    .colab-df-convert {\n",
              "      background-color: #E8F0FE;\n",
              "      border: none;\n",
              "      border-radius: 50%;\n",
              "      cursor: pointer;\n",
              "      display: none;\n",
              "      fill: #1967D2;\n",
              "      height: 32px;\n",
              "      padding: 0 0 0 0;\n",
              "      width: 32px;\n",
              "    }\n",
              "\n",
              "    .colab-df-convert:hover {\n",
              "      background-color: #E2EBFA;\n",
              "      box-shadow: 0px 1px 2px rgba(60, 64, 67, 0.3), 0px 1px 3px 1px rgba(60, 64, 67, 0.15);\n",
              "      fill: #174EA6;\n",
              "    }\n",
              "\n",
              "    [theme=dark] .colab-df-convert {\n",
              "      background-color: #3B4455;\n",
              "      fill: #D2E3FC;\n",
              "    }\n",
              "\n",
              "    [theme=dark] .colab-df-convert:hover {\n",
              "      background-color: #434B5C;\n",
              "      box-shadow: 0px 1px 3px 1px rgba(0, 0, 0, 0.15);\n",
              "      filter: drop-shadow(0px 1px 2px rgba(0, 0, 0, 0.3));\n",
              "      fill: #FFFFFF;\n",
              "    }\n",
              "  </style>\n",
              "\n",
              "      <script>\n",
              "        const buttonEl =\n",
              "          document.querySelector('#df-5982a5d6-e1d2-4ea1-8721-89572cf0eb26 button.colab-df-convert');\n",
              "        buttonEl.style.display =\n",
              "          google.colab.kernel.accessAllowed ? 'block' : 'none';\n",
              "\n",
              "        async function convertToInteractive(key) {\n",
              "          const element = document.querySelector('#df-5982a5d6-e1d2-4ea1-8721-89572cf0eb26');\n",
              "          const dataTable =\n",
              "            await google.colab.kernel.invokeFunction('convertToInteractive',\n",
              "                                                     [key], {});\n",
              "          if (!dataTable) return;\n",
              "\n",
              "          const docLinkHtml = 'Like what you see? Visit the ' +\n",
              "            '<a target=\"_blank\" href=https://colab.research.google.com/notebooks/data_table.ipynb>data table notebook</a>'\n",
              "            + ' to learn more about interactive tables.';\n",
              "          element.innerHTML = '';\n",
              "          dataTable['output_type'] = 'display_data';\n",
              "          await google.colab.output.renderOutput(dataTable, element);\n",
              "          const docLink = document.createElement('div');\n",
              "          docLink.innerHTML = docLinkHtml;\n",
              "          element.appendChild(docLink);\n",
              "        }\n",
              "      </script>\n",
              "    </div>\n",
              "  </div>\n",
              "  "
            ]
          },
          "metadata": {},
          "execution_count": 43
        }
      ]
    },
    {
      "cell_type": "code",
      "source": [
        "cleaned_data = pd.merge(Example_Data,ID_problem_corrected,on=['Company ID','Industry'],how=\"left\") \n",
        "cleaned_data.head()"
      ],
      "metadata": {
        "colab": {
          "base_uri": "https://localhost:8080/",
          "height": 268
        },
        "id": "bsmkWzF3pEL_",
        "outputId": "daba6809-be56-4d81-eaeb-90f89deb88bb"
      },
      "execution_count": 44,
      "outputs": [
        {
          "output_type": "execute_result",
          "data": {
            "text/plain": [
              "  Company ID Company Name_x Fiscal Year   Industry SIC Code Trading Currency  \\\n",
              "0    4993687      A Company        2010  Machinery     6085              USD   \n",
              "1    4993687      A Company        2011  Machinery     6085              USD   \n",
              "2    4993687      A Company        2012  Machinery     6085              USD   \n",
              "3    4993687      A Company        2013  Machinery     6085              USD   \n",
              "4    4993687      A Company        2014  Machinery     6085               3$   \n",
              "\n",
              "   SP   CDS  APD  ARD  ADA Company Name_y  \n",
              "0  75   564  109   44    0            NaN  \n",
              "1  66   721  102   47    0            NaN  \n",
              "2  29  1048   97   45    0            NaN  \n",
              "3  56   914   96   40    0            NaN  \n",
              "4  55   950   91   34    0            NaN  "
            ],
            "text/html": [
              "\n",
              "  <div id=\"df-af87a5ff-67f8-47bd-8a8e-3b457bef841b\">\n",
              "    <div class=\"colab-df-container\">\n",
              "      <div>\n",
              "<style scoped>\n",
              "    .dataframe tbody tr th:only-of-type {\n",
              "        vertical-align: middle;\n",
              "    }\n",
              "\n",
              "    .dataframe tbody tr th {\n",
              "        vertical-align: top;\n",
              "    }\n",
              "\n",
              "    .dataframe thead th {\n",
              "        text-align: right;\n",
              "    }\n",
              "</style>\n",
              "<table border=\"1\" class=\"dataframe\">\n",
              "  <thead>\n",
              "    <tr style=\"text-align: right;\">\n",
              "      <th></th>\n",
              "      <th>Company ID</th>\n",
              "      <th>Company Name_x</th>\n",
              "      <th>Fiscal Year</th>\n",
              "      <th>Industry</th>\n",
              "      <th>SIC Code</th>\n",
              "      <th>Trading Currency</th>\n",
              "      <th>SP</th>\n",
              "      <th>CDS</th>\n",
              "      <th>APD</th>\n",
              "      <th>ARD</th>\n",
              "      <th>ADA</th>\n",
              "      <th>Company Name_y</th>\n",
              "    </tr>\n",
              "  </thead>\n",
              "  <tbody>\n",
              "    <tr>\n",
              "      <th>0</th>\n",
              "      <td>4993687</td>\n",
              "      <td>A Company</td>\n",
              "      <td>2010</td>\n",
              "      <td>Machinery</td>\n",
              "      <td>6085</td>\n",
              "      <td>USD</td>\n",
              "      <td>75</td>\n",
              "      <td>564</td>\n",
              "      <td>109</td>\n",
              "      <td>44</td>\n",
              "      <td>0</td>\n",
              "      <td>NaN</td>\n",
              "    </tr>\n",
              "    <tr>\n",
              "      <th>1</th>\n",
              "      <td>4993687</td>\n",
              "      <td>A Company</td>\n",
              "      <td>2011</td>\n",
              "      <td>Machinery</td>\n",
              "      <td>6085</td>\n",
              "      <td>USD</td>\n",
              "      <td>66</td>\n",
              "      <td>721</td>\n",
              "      <td>102</td>\n",
              "      <td>47</td>\n",
              "      <td>0</td>\n",
              "      <td>NaN</td>\n",
              "    </tr>\n",
              "    <tr>\n",
              "      <th>2</th>\n",
              "      <td>4993687</td>\n",
              "      <td>A Company</td>\n",
              "      <td>2012</td>\n",
              "      <td>Machinery</td>\n",
              "      <td>6085</td>\n",
              "      <td>USD</td>\n",
              "      <td>29</td>\n",
              "      <td>1048</td>\n",
              "      <td>97</td>\n",
              "      <td>45</td>\n",
              "      <td>0</td>\n",
              "      <td>NaN</td>\n",
              "    </tr>\n",
              "    <tr>\n",
              "      <th>3</th>\n",
              "      <td>4993687</td>\n",
              "      <td>A Company</td>\n",
              "      <td>2013</td>\n",
              "      <td>Machinery</td>\n",
              "      <td>6085</td>\n",
              "      <td>USD</td>\n",
              "      <td>56</td>\n",
              "      <td>914</td>\n",
              "      <td>96</td>\n",
              "      <td>40</td>\n",
              "      <td>0</td>\n",
              "      <td>NaN</td>\n",
              "    </tr>\n",
              "    <tr>\n",
              "      <th>4</th>\n",
              "      <td>4993687</td>\n",
              "      <td>A Company</td>\n",
              "      <td>2014</td>\n",
              "      <td>Machinery</td>\n",
              "      <td>6085</td>\n",
              "      <td>3$</td>\n",
              "      <td>55</td>\n",
              "      <td>950</td>\n",
              "      <td>91</td>\n",
              "      <td>34</td>\n",
              "      <td>0</td>\n",
              "      <td>NaN</td>\n",
              "    </tr>\n",
              "  </tbody>\n",
              "</table>\n",
              "</div>\n",
              "      <button class=\"colab-df-convert\" onclick=\"convertToInteractive('df-af87a5ff-67f8-47bd-8a8e-3b457bef841b')\"\n",
              "              title=\"Convert this dataframe to an interactive table.\"\n",
              "              style=\"display:none;\">\n",
              "        \n",
              "  <svg xmlns=\"http://www.w3.org/2000/svg\" height=\"24px\"viewBox=\"0 0 24 24\"\n",
              "       width=\"24px\">\n",
              "    <path d=\"M0 0h24v24H0V0z\" fill=\"none\"/>\n",
              "    <path d=\"M18.56 5.44l.94 2.06.94-2.06 2.06-.94-2.06-.94-.94-2.06-.94 2.06-2.06.94zm-11 1L8.5 8.5l.94-2.06 2.06-.94-2.06-.94L8.5 2.5l-.94 2.06-2.06.94zm10 10l.94 2.06.94-2.06 2.06-.94-2.06-.94-.94-2.06-.94 2.06-2.06.94z\"/><path d=\"M17.41 7.96l-1.37-1.37c-.4-.4-.92-.59-1.43-.59-.52 0-1.04.2-1.43.59L10.3 9.45l-7.72 7.72c-.78.78-.78 2.05 0 2.83L4 21.41c.39.39.9.59 1.41.59.51 0 1.02-.2 1.41-.59l7.78-7.78 2.81-2.81c.8-.78.8-2.07 0-2.86zM5.41 20L4 18.59l7.72-7.72 1.47 1.35L5.41 20z\"/>\n",
              "  </svg>\n",
              "      </button>\n",
              "      \n",
              "  <style>\n",
              "    .colab-df-container {\n",
              "      display:flex;\n",
              "      flex-wrap:wrap;\n",
              "      gap: 12px;\n",
              "    }\n",
              "\n",
              "    .colab-df-convert {\n",
              "      background-color: #E8F0FE;\n",
              "      border: none;\n",
              "      border-radius: 50%;\n",
              "      cursor: pointer;\n",
              "      display: none;\n",
              "      fill: #1967D2;\n",
              "      height: 32px;\n",
              "      padding: 0 0 0 0;\n",
              "      width: 32px;\n",
              "    }\n",
              "\n",
              "    .colab-df-convert:hover {\n",
              "      background-color: #E2EBFA;\n",
              "      box-shadow: 0px 1px 2px rgba(60, 64, 67, 0.3), 0px 1px 3px 1px rgba(60, 64, 67, 0.15);\n",
              "      fill: #174EA6;\n",
              "    }\n",
              "\n",
              "    [theme=dark] .colab-df-convert {\n",
              "      background-color: #3B4455;\n",
              "      fill: #D2E3FC;\n",
              "    }\n",
              "\n",
              "    [theme=dark] .colab-df-convert:hover {\n",
              "      background-color: #434B5C;\n",
              "      box-shadow: 0px 1px 3px 1px rgba(0, 0, 0, 0.15);\n",
              "      filter: drop-shadow(0px 1px 2px rgba(0, 0, 0, 0.3));\n",
              "      fill: #FFFFFF;\n",
              "    }\n",
              "  </style>\n",
              "\n",
              "      <script>\n",
              "        const buttonEl =\n",
              "          document.querySelector('#df-af87a5ff-67f8-47bd-8a8e-3b457bef841b button.colab-df-convert');\n",
              "        buttonEl.style.display =\n",
              "          google.colab.kernel.accessAllowed ? 'block' : 'none';\n",
              "\n",
              "        async function convertToInteractive(key) {\n",
              "          const element = document.querySelector('#df-af87a5ff-67f8-47bd-8a8e-3b457bef841b');\n",
              "          const dataTable =\n",
              "            await google.colab.kernel.invokeFunction('convertToInteractive',\n",
              "                                                     [key], {});\n",
              "          if (!dataTable) return;\n",
              "\n",
              "          const docLinkHtml = 'Like what you see? Visit the ' +\n",
              "            '<a target=\"_blank\" href=https://colab.research.google.com/notebooks/data_table.ipynb>data table notebook</a>'\n",
              "            + ' to learn more about interactive tables.';\n",
              "          element.innerHTML = '';\n",
              "          dataTable['output_type'] = 'display_data';\n",
              "          await google.colab.output.renderOutput(dataTable, element);\n",
              "          const docLink = document.createElement('div');\n",
              "          docLink.innerHTML = docLinkHtml;\n",
              "          element.appendChild(docLink);\n",
              "        }\n",
              "      </script>\n",
              "    </div>\n",
              "  </div>\n",
              "  "
            ]
          },
          "metadata": {},
          "execution_count": 44
        }
      ]
    },
    {
      "cell_type": "code",
      "source": [
        "cleaned_data['Company Name'] = np.where(cleaned_data['Company ID'].isin(ID_flg), cleaned_data['Company Name_y'],cleaned_data['Company Name_x'])"
      ],
      "metadata": {
        "id": "ZE8XaAVr0W0d"
      },
      "execution_count": 45,
      "outputs": []
    },
    {
      "cell_type": "code",
      "source": [
        "cleaned_data = cleaned_data.drop(['Company Name_x','Company Name_y'],axis=1)"
      ],
      "metadata": {
        "id": "YysAEYLs1A5Z"
      },
      "execution_count": 46,
      "outputs": []
    },
    {
      "cell_type": "code",
      "source": [
        "cleaned_data[cleaned_data['Company ID'].isin(ID_flg)]"
      ],
      "metadata": {
        "colab": {
          "base_uri": "https://localhost:8080/",
          "height": 912
        },
        "id": "nKBv74ky1L1L",
        "outputId": "b9e9d963-9621-4031-db26-d5ed3756008d"
      },
      "execution_count": 47,
      "outputs": [
        {
          "output_type": "execute_result",
          "data": {
            "text/plain": [
              "   Company ID Fiscal Year         Industry SIC Code Trading Currency   SP  \\\n",
              "9     4991368        2009  Auto Components       12              USD   22   \n",
              "10    4991368        2010  Auto Components     4937              USD   18   \n",
              "11    4991368        2011  Auto Components     4937              USD   22   \n",
              "12    4991368        2012  Auto Components     4937              USD   21   \n",
              "13    4991368        2013  Auto Components     4937              USD   37   \n",
              "14    4991368        2014  Auto Components     2937              USD   44   \n",
              "15    4991368        2015  Auto Components     4937              USD   51   \n",
              "16    4991368        2016  Auto Components     4937              USD   48   \n",
              "17    4991368        2017  Auto Components     4937              USD   50   \n",
              "18    4991368        2018  Auto Components     4937              USD   32   \n",
              "49    4976235        2009        Machinery     5878              USD   65   \n",
              "50    4976235        2010        Machinery     5878              USD   91   \n",
              "51    4976235        2011        Machinery     5878              USD   91   \n",
              "52    4976235        2012        Machinery     5878              USD  103   \n",
              "53    4976235        2013        Machinery     5878              USD  151   \n",
              "54    4976235        2014        Machinery     5878              USD  112   \n",
              "55    4976235        2015        Machinery     5878              USD   96   \n",
              "56    4976235        2016        Machinery     5878              USD  117   \n",
              "57    4976235        2017        Machinery     5878              USD  158   \n",
              "58    4976235        2018        Machinery     5878              USD  111   \n",
              "\n",
              "    CDS  APD  ARD  ADA Company Name  \n",
              "9   663  110   88    1    B Company  \n",
              "10  862   96   79    0    B Company  \n",
              "11  991   98   69    0    B Company  \n",
              "12  874  119   73    0    B Company  \n",
              "13  376  121   73    0    B Company  \n",
              "14  323  124   71    0    B Company  \n",
              "15  263  135   71    1    B Company  \n",
              "16  247  138   71    1    B Company  \n",
              "17  187  131   70    1    B Company  \n",
              "18  472  135   74    1    B Company  \n",
              "49   55   64  101    1    E Company  \n",
              "50  107   60   89    0    E Company  \n",
              "51  139   59   83    0    E Company  \n",
              "52   93   80  101    0    E Company  \n",
              "53   71   79   92    0    E Company  \n",
              "54   79   66   83    0    E Company  \n",
              "55  116   84   95    0    E Company  \n",
              "56  120  109  113    0    E Company  \n",
              "57   96  120  103    0    E Company  \n",
              "58  104  118   99    0    E Company  "
            ],
            "text/html": [
              "\n",
              "  <div id=\"df-07fe7fe4-47fd-494b-9300-c3c5b26f3220\">\n",
              "    <div class=\"colab-df-container\">\n",
              "      <div>\n",
              "<style scoped>\n",
              "    .dataframe tbody tr th:only-of-type {\n",
              "        vertical-align: middle;\n",
              "    }\n",
              "\n",
              "    .dataframe tbody tr th {\n",
              "        vertical-align: top;\n",
              "    }\n",
              "\n",
              "    .dataframe thead th {\n",
              "        text-align: right;\n",
              "    }\n",
              "</style>\n",
              "<table border=\"1\" class=\"dataframe\">\n",
              "  <thead>\n",
              "    <tr style=\"text-align: right;\">\n",
              "      <th></th>\n",
              "      <th>Company ID</th>\n",
              "      <th>Fiscal Year</th>\n",
              "      <th>Industry</th>\n",
              "      <th>SIC Code</th>\n",
              "      <th>Trading Currency</th>\n",
              "      <th>SP</th>\n",
              "      <th>CDS</th>\n",
              "      <th>APD</th>\n",
              "      <th>ARD</th>\n",
              "      <th>ADA</th>\n",
              "      <th>Company Name</th>\n",
              "    </tr>\n",
              "  </thead>\n",
              "  <tbody>\n",
              "    <tr>\n",
              "      <th>9</th>\n",
              "      <td>4991368</td>\n",
              "      <td>2009</td>\n",
              "      <td>Auto Components</td>\n",
              "      <td>12</td>\n",
              "      <td>USD</td>\n",
              "      <td>22</td>\n",
              "      <td>663</td>\n",
              "      <td>110</td>\n",
              "      <td>88</td>\n",
              "      <td>1</td>\n",
              "      <td>B Company</td>\n",
              "    </tr>\n",
              "    <tr>\n",
              "      <th>10</th>\n",
              "      <td>4991368</td>\n",
              "      <td>2010</td>\n",
              "      <td>Auto Components</td>\n",
              "      <td>4937</td>\n",
              "      <td>USD</td>\n",
              "      <td>18</td>\n",
              "      <td>862</td>\n",
              "      <td>96</td>\n",
              "      <td>79</td>\n",
              "      <td>0</td>\n",
              "      <td>B Company</td>\n",
              "    </tr>\n",
              "    <tr>\n",
              "      <th>11</th>\n",
              "      <td>4991368</td>\n",
              "      <td>2011</td>\n",
              "      <td>Auto Components</td>\n",
              "      <td>4937</td>\n",
              "      <td>USD</td>\n",
              "      <td>22</td>\n",
              "      <td>991</td>\n",
              "      <td>98</td>\n",
              "      <td>69</td>\n",
              "      <td>0</td>\n",
              "      <td>B Company</td>\n",
              "    </tr>\n",
              "    <tr>\n",
              "      <th>12</th>\n",
              "      <td>4991368</td>\n",
              "      <td>2012</td>\n",
              "      <td>Auto Components</td>\n",
              "      <td>4937</td>\n",
              "      <td>USD</td>\n",
              "      <td>21</td>\n",
              "      <td>874</td>\n",
              "      <td>119</td>\n",
              "      <td>73</td>\n",
              "      <td>0</td>\n",
              "      <td>B Company</td>\n",
              "    </tr>\n",
              "    <tr>\n",
              "      <th>13</th>\n",
              "      <td>4991368</td>\n",
              "      <td>2013</td>\n",
              "      <td>Auto Components</td>\n",
              "      <td>4937</td>\n",
              "      <td>USD</td>\n",
              "      <td>37</td>\n",
              "      <td>376</td>\n",
              "      <td>121</td>\n",
              "      <td>73</td>\n",
              "      <td>0</td>\n",
              "      <td>B Company</td>\n",
              "    </tr>\n",
              "    <tr>\n",
              "      <th>14</th>\n",
              "      <td>4991368</td>\n",
              "      <td>2014</td>\n",
              "      <td>Auto Components</td>\n",
              "      <td>2937</td>\n",
              "      <td>USD</td>\n",
              "      <td>44</td>\n",
              "      <td>323</td>\n",
              "      <td>124</td>\n",
              "      <td>71</td>\n",
              "      <td>0</td>\n",
              "      <td>B Company</td>\n",
              "    </tr>\n",
              "    <tr>\n",
              "      <th>15</th>\n",
              "      <td>4991368</td>\n",
              "      <td>2015</td>\n",
              "      <td>Auto Components</td>\n",
              "      <td>4937</td>\n",
              "      <td>USD</td>\n",
              "      <td>51</td>\n",
              "      <td>263</td>\n",
              "      <td>135</td>\n",
              "      <td>71</td>\n",
              "      <td>1</td>\n",
              "      <td>B Company</td>\n",
              "    </tr>\n",
              "    <tr>\n",
              "      <th>16</th>\n",
              "      <td>4991368</td>\n",
              "      <td>2016</td>\n",
              "      <td>Auto Components</td>\n",
              "      <td>4937</td>\n",
              "      <td>USD</td>\n",
              "      <td>48</td>\n",
              "      <td>247</td>\n",
              "      <td>138</td>\n",
              "      <td>71</td>\n",
              "      <td>1</td>\n",
              "      <td>B Company</td>\n",
              "    </tr>\n",
              "    <tr>\n",
              "      <th>17</th>\n",
              "      <td>4991368</td>\n",
              "      <td>2017</td>\n",
              "      <td>Auto Components</td>\n",
              "      <td>4937</td>\n",
              "      <td>USD</td>\n",
              "      <td>50</td>\n",
              "      <td>187</td>\n",
              "      <td>131</td>\n",
              "      <td>70</td>\n",
              "      <td>1</td>\n",
              "      <td>B Company</td>\n",
              "    </tr>\n",
              "    <tr>\n",
              "      <th>18</th>\n",
              "      <td>4991368</td>\n",
              "      <td>2018</td>\n",
              "      <td>Auto Components</td>\n",
              "      <td>4937</td>\n",
              "      <td>USD</td>\n",
              "      <td>32</td>\n",
              "      <td>472</td>\n",
              "      <td>135</td>\n",
              "      <td>74</td>\n",
              "      <td>1</td>\n",
              "      <td>B Company</td>\n",
              "    </tr>\n",
              "    <tr>\n",
              "      <th>49</th>\n",
              "      <td>4976235</td>\n",
              "      <td>2009</td>\n",
              "      <td>Machinery</td>\n",
              "      <td>5878</td>\n",
              "      <td>USD</td>\n",
              "      <td>65</td>\n",
              "      <td>55</td>\n",
              "      <td>64</td>\n",
              "      <td>101</td>\n",
              "      <td>1</td>\n",
              "      <td>E Company</td>\n",
              "    </tr>\n",
              "    <tr>\n",
              "      <th>50</th>\n",
              "      <td>4976235</td>\n",
              "      <td>2010</td>\n",
              "      <td>Machinery</td>\n",
              "      <td>5878</td>\n",
              "      <td>USD</td>\n",
              "      <td>91</td>\n",
              "      <td>107</td>\n",
              "      <td>60</td>\n",
              "      <td>89</td>\n",
              "      <td>0</td>\n",
              "      <td>E Company</td>\n",
              "    </tr>\n",
              "    <tr>\n",
              "      <th>51</th>\n",
              "      <td>4976235</td>\n",
              "      <td>2011</td>\n",
              "      <td>Machinery</td>\n",
              "      <td>5878</td>\n",
              "      <td>USD</td>\n",
              "      <td>91</td>\n",
              "      <td>139</td>\n",
              "      <td>59</td>\n",
              "      <td>83</td>\n",
              "      <td>0</td>\n",
              "      <td>E Company</td>\n",
              "    </tr>\n",
              "    <tr>\n",
              "      <th>52</th>\n",
              "      <td>4976235</td>\n",
              "      <td>2012</td>\n",
              "      <td>Machinery</td>\n",
              "      <td>5878</td>\n",
              "      <td>USD</td>\n",
              "      <td>103</td>\n",
              "      <td>93</td>\n",
              "      <td>80</td>\n",
              "      <td>101</td>\n",
              "      <td>0</td>\n",
              "      <td>E Company</td>\n",
              "    </tr>\n",
              "    <tr>\n",
              "      <th>53</th>\n",
              "      <td>4976235</td>\n",
              "      <td>2013</td>\n",
              "      <td>Machinery</td>\n",
              "      <td>5878</td>\n",
              "      <td>USD</td>\n",
              "      <td>151</td>\n",
              "      <td>71</td>\n",
              "      <td>79</td>\n",
              "      <td>92</td>\n",
              "      <td>0</td>\n",
              "      <td>E Company</td>\n",
              "    </tr>\n",
              "    <tr>\n",
              "      <th>54</th>\n",
              "      <td>4976235</td>\n",
              "      <td>2014</td>\n",
              "      <td>Machinery</td>\n",
              "      <td>5878</td>\n",
              "      <td>USD</td>\n",
              "      <td>112</td>\n",
              "      <td>79</td>\n",
              "      <td>66</td>\n",
              "      <td>83</td>\n",
              "      <td>0</td>\n",
              "      <td>E Company</td>\n",
              "    </tr>\n",
              "    <tr>\n",
              "      <th>55</th>\n",
              "      <td>4976235</td>\n",
              "      <td>2015</td>\n",
              "      <td>Machinery</td>\n",
              "      <td>5878</td>\n",
              "      <td>USD</td>\n",
              "      <td>96</td>\n",
              "      <td>116</td>\n",
              "      <td>84</td>\n",
              "      <td>95</td>\n",
              "      <td>0</td>\n",
              "      <td>E Company</td>\n",
              "    </tr>\n",
              "    <tr>\n",
              "      <th>56</th>\n",
              "      <td>4976235</td>\n",
              "      <td>2016</td>\n",
              "      <td>Machinery</td>\n",
              "      <td>5878</td>\n",
              "      <td>USD</td>\n",
              "      <td>117</td>\n",
              "      <td>120</td>\n",
              "      <td>109</td>\n",
              "      <td>113</td>\n",
              "      <td>0</td>\n",
              "      <td>E Company</td>\n",
              "    </tr>\n",
              "    <tr>\n",
              "      <th>57</th>\n",
              "      <td>4976235</td>\n",
              "      <td>2017</td>\n",
              "      <td>Machinery</td>\n",
              "      <td>5878</td>\n",
              "      <td>USD</td>\n",
              "      <td>158</td>\n",
              "      <td>96</td>\n",
              "      <td>120</td>\n",
              "      <td>103</td>\n",
              "      <td>0</td>\n",
              "      <td>E Company</td>\n",
              "    </tr>\n",
              "    <tr>\n",
              "      <th>58</th>\n",
              "      <td>4976235</td>\n",
              "      <td>2018</td>\n",
              "      <td>Machinery</td>\n",
              "      <td>5878</td>\n",
              "      <td>USD</td>\n",
              "      <td>111</td>\n",
              "      <td>104</td>\n",
              "      <td>118</td>\n",
              "      <td>99</td>\n",
              "      <td>0</td>\n",
              "      <td>E Company</td>\n",
              "    </tr>\n",
              "  </tbody>\n",
              "</table>\n",
              "</div>\n",
              "      <button class=\"colab-df-convert\" onclick=\"convertToInteractive('df-07fe7fe4-47fd-494b-9300-c3c5b26f3220')\"\n",
              "              title=\"Convert this dataframe to an interactive table.\"\n",
              "              style=\"display:none;\">\n",
              "        \n",
              "  <svg xmlns=\"http://www.w3.org/2000/svg\" height=\"24px\"viewBox=\"0 0 24 24\"\n",
              "       width=\"24px\">\n",
              "    <path d=\"M0 0h24v24H0V0z\" fill=\"none\"/>\n",
              "    <path d=\"M18.56 5.44l.94 2.06.94-2.06 2.06-.94-2.06-.94-.94-2.06-.94 2.06-2.06.94zm-11 1L8.5 8.5l.94-2.06 2.06-.94-2.06-.94L8.5 2.5l-.94 2.06-2.06.94zm10 10l.94 2.06.94-2.06 2.06-.94-2.06-.94-.94-2.06-.94 2.06-2.06.94z\"/><path d=\"M17.41 7.96l-1.37-1.37c-.4-.4-.92-.59-1.43-.59-.52 0-1.04.2-1.43.59L10.3 9.45l-7.72 7.72c-.78.78-.78 2.05 0 2.83L4 21.41c.39.39.9.59 1.41.59.51 0 1.02-.2 1.41-.59l7.78-7.78 2.81-2.81c.8-.78.8-2.07 0-2.86zM5.41 20L4 18.59l7.72-7.72 1.47 1.35L5.41 20z\"/>\n",
              "  </svg>\n",
              "      </button>\n",
              "      \n",
              "  <style>\n",
              "    .colab-df-container {\n",
              "      display:flex;\n",
              "      flex-wrap:wrap;\n",
              "      gap: 12px;\n",
              "    }\n",
              "\n",
              "    .colab-df-convert {\n",
              "      background-color: #E8F0FE;\n",
              "      border: none;\n",
              "      border-radius: 50%;\n",
              "      cursor: pointer;\n",
              "      display: none;\n",
              "      fill: #1967D2;\n",
              "      height: 32px;\n",
              "      padding: 0 0 0 0;\n",
              "      width: 32px;\n",
              "    }\n",
              "\n",
              "    .colab-df-convert:hover {\n",
              "      background-color: #E2EBFA;\n",
              "      box-shadow: 0px 1px 2px rgba(60, 64, 67, 0.3), 0px 1px 3px 1px rgba(60, 64, 67, 0.15);\n",
              "      fill: #174EA6;\n",
              "    }\n",
              "\n",
              "    [theme=dark] .colab-df-convert {\n",
              "      background-color: #3B4455;\n",
              "      fill: #D2E3FC;\n",
              "    }\n",
              "\n",
              "    [theme=dark] .colab-df-convert:hover {\n",
              "      background-color: #434B5C;\n",
              "      box-shadow: 0px 1px 3px 1px rgba(0, 0, 0, 0.15);\n",
              "      filter: drop-shadow(0px 1px 2px rgba(0, 0, 0, 0.3));\n",
              "      fill: #FFFFFF;\n",
              "    }\n",
              "  </style>\n",
              "\n",
              "      <script>\n",
              "        const buttonEl =\n",
              "          document.querySelector('#df-07fe7fe4-47fd-494b-9300-c3c5b26f3220 button.colab-df-convert');\n",
              "        buttonEl.style.display =\n",
              "          google.colab.kernel.accessAllowed ? 'block' : 'none';\n",
              "\n",
              "        async function convertToInteractive(key) {\n",
              "          const element = document.querySelector('#df-07fe7fe4-47fd-494b-9300-c3c5b26f3220');\n",
              "          const dataTable =\n",
              "            await google.colab.kernel.invokeFunction('convertToInteractive',\n",
              "                                                     [key], {});\n",
              "          if (!dataTable) return;\n",
              "\n",
              "          const docLinkHtml = 'Like what you see? Visit the ' +\n",
              "            '<a target=\"_blank\" href=https://colab.research.google.com/notebooks/data_table.ipynb>data table notebook</a>'\n",
              "            + ' to learn more about interactive tables.';\n",
              "          element.innerHTML = '';\n",
              "          dataTable['output_type'] = 'display_data';\n",
              "          await google.colab.output.renderOutput(dataTable, element);\n",
              "          const docLink = document.createElement('div');\n",
              "          docLink.innerHTML = docLinkHtml;\n",
              "          element.appendChild(docLink);\n",
              "        }\n",
              "      </script>\n",
              "    </div>\n",
              "  </div>\n",
              "  "
            ]
          },
          "metadata": {},
          "execution_count": 47
        }
      ]
    },
    {
      "cell_type": "code",
      "source": [
        "cleaned_data.dtypes"
      ],
      "metadata": {
        "colab": {
          "base_uri": "https://localhost:8080/"
        },
        "id": "eQk4i4kPBOuj",
        "outputId": "0ce61a35-1e4c-432d-d177-2933b22bb297"
      },
      "execution_count": 48,
      "outputs": [
        {
          "output_type": "execute_result",
          "data": {
            "text/plain": [
              "Company ID          object\n",
              "Fiscal Year         object\n",
              "Industry            object\n",
              "SIC Code            object\n",
              "Trading Currency    object\n",
              "SP                   Int64\n",
              "CDS                  Int64\n",
              "APD                  Int64\n",
              "ARD                  Int64\n",
              "ADA                  Int64\n",
              "Company Name        object\n",
              "dtype: object"
            ]
          },
          "metadata": {},
          "execution_count": 48
        }
      ]
    },
    {
      "cell_type": "markdown",
      "source": [
        "#### Fiscal Year Clean Up"
      ],
      "metadata": {
        "id": "FfzhbFeN1oP9"
      }
    },
    {
      "cell_type": "markdown",
      "source": [
        "Check if strings are digital values."
      ],
      "metadata": {
        "id": "wCH7-Euk3uDK"
      }
    },
    {
      "cell_type": "code",
      "source": [
        "cleaned_data['Fiscal Year'][~cleaned_data['Fiscal Year'].str.isdigit()]"
      ],
      "metadata": {
        "colab": {
          "base_uri": "https://localhost:8080/"
        },
        "id": "2BlWbMIt2jdy",
        "outputId": "fd7a8995-a272-4c46-99f2-80cfe443dec9"
      },
      "execution_count": 49,
      "outputs": [
        {
          "output_type": "execute_result",
          "data": {
            "text/plain": [
              "46    2Q16\n",
              "Name: Fiscal Year, dtype: object"
            ]
          },
          "metadata": {},
          "execution_count": 49
        }
      ]
    },
    {
      "cell_type": "markdown",
      "source": [
        "In year '2Q16', Q should be replaced by 0."
      ],
      "metadata": {
        "id": "Hk4h0rim3RTQ"
      }
    },
    {
      "cell_type": "markdown",
      "source": [
        "Check if any fiscal year value falls out of the expected range."
      ],
      "metadata": {
        "id": "4p-Mca0J3xEu"
      }
    },
    {
      "cell_type": "code",
      "source": [
        "cleaned_data['Fiscal Year'] = np.where(cleaned_data['Fiscal Year']=='2Q16','2016',cleaned_data['Fiscal Year']).astype(int)"
      ],
      "metadata": {
        "id": "lcayDbha3Tvo"
      },
      "execution_count": 50,
      "outputs": []
    },
    {
      "cell_type": "code",
      "source": [
        "years = np.unique(cleaned_data['Fiscal Year']).astype('int')\n",
        "print(years[~((years>=1999)&(years<=2021))])"
      ],
      "metadata": {
        "colab": {
          "base_uri": "https://localhost:8080/"
        },
        "id": "E4DmuMOq1YMp",
        "outputId": "9fd2d982-1bdc-414c-d1b6-3ecd474edb69"
      },
      "execution_count": 51,
      "outputs": [
        {
          "output_type": "stream",
          "name": "stdout",
          "text": [
            "[213]\n"
          ]
        }
      ]
    },
    {
      "cell_type": "markdown",
      "source": [
        "There is a missing 0 in year '213'.  "
      ],
      "metadata": {
        "id": "eL4iGVvi3i8P"
      }
    },
    {
      "cell_type": "code",
      "source": [
        "cleaned_data['Fiscal Year'] = np.where(cleaned_data['Fiscal Year']==213,\n",
        "                                       2013,\n",
        "                                       cleaned_data['Fiscal Year'])"
      ],
      "metadata": {
        "id": "HPJtXZvI1zuP"
      },
      "execution_count": 52,
      "outputs": []
    },
    {
      "cell_type": "code",
      "source": [
        "print(len(cleaned_data['Fiscal Year'][~((cleaned_data['Fiscal Year']>=1999)&(cleaned_data['Fiscal Year']<=2021))]))"
      ],
      "metadata": {
        "colab": {
          "base_uri": "https://localhost:8080/"
        },
        "id": "IvhxdnkS36ey",
        "outputId": "9a6ec6e4-5910-4937-d8e4-42e0908c79b9"
      },
      "execution_count": 53,
      "outputs": [
        {
          "output_type": "stream",
          "name": "stdout",
          "text": [
            "0\n"
          ]
        }
      ]
    },
    {
      "cell_type": "code",
      "source": [
        "np.unique(cleaned_data['Fiscal Year'])"
      ],
      "metadata": {
        "colab": {
          "base_uri": "https://localhost:8080/"
        },
        "id": "qRRUroI94AH-",
        "outputId": "67fe815e-52ad-4915-cc45-9091b9414a9f"
      },
      "execution_count": 54,
      "outputs": [
        {
          "output_type": "execute_result",
          "data": {
            "text/plain": [
              "array([2009, 2010, 2011, 2012, 2013, 2014, 2015, 2016, 2017, 2018, 2019])"
            ]
          },
          "metadata": {},
          "execution_count": 54
        }
      ]
    },
    {
      "cell_type": "markdown",
      "source": [
        "#### Check SIC Code"
      ],
      "metadata": {
        "id": "P1Fecxr-4dPl"
      }
    },
    {
      "cell_type": "code",
      "source": [
        "SICCode = cleaned_data['SIC Code']"
      ],
      "metadata": {
        "id": "leS-Rh2q4bob"
      },
      "execution_count": 55,
      "outputs": []
    },
    {
      "cell_type": "markdown",
      "source": [
        "Check if there's any non-4-digit entries "
      ],
      "metadata": {
        "id": "M5wRNyqGFRBk"
      }
    },
    {
      "cell_type": "code",
      "source": [
        "SIC_flg = SICCode[(SICCode.str.len()!=4)|(~SICCode.str.isdigit())]"
      ],
      "metadata": {
        "id": "2nM9XRmW7O9N"
      },
      "execution_count": 56,
      "outputs": []
    },
    {
      "cell_type": "code",
      "source": [
        "cleaned_data[cleaned_data['SIC Code'].isin(SIC_flg)]"
      ],
      "metadata": {
        "colab": {
          "base_uri": "https://localhost:8080/",
          "height": 240
        },
        "id": "hQSUJ86577s2",
        "outputId": "d03d6bea-f9f7-4657-910c-a3a7f683145e"
      },
      "execution_count": 57,
      "outputs": [
        {
          "output_type": "execute_result",
          "data": {
            "text/plain": [
              "   Company ID  Fiscal Year           Industry SIC Code Trading Currency  SP  \\\n",
              "9     4991368         2009    Auto Components       12              USD  22   \n",
              "79    4977221         2018  Building Products       Y8              USD  45   \n",
              "87    4996197         2015          Machinery     578B              USD  29   \n",
              "\n",
              "     CDS  APD  ARD  ADA Company Name  \n",
              "9    663  110   88    1    B Company  \n",
              "79   133   86   76    0    I Company  \n",
              "87  <NA>  101  102    0    K Company  "
            ],
            "text/html": [
              "\n",
              "  <div id=\"df-229d87a5-1544-4b08-a346-9e67492edeae\">\n",
              "    <div class=\"colab-df-container\">\n",
              "      <div>\n",
              "<style scoped>\n",
              "    .dataframe tbody tr th:only-of-type {\n",
              "        vertical-align: middle;\n",
              "    }\n",
              "\n",
              "    .dataframe tbody tr th {\n",
              "        vertical-align: top;\n",
              "    }\n",
              "\n",
              "    .dataframe thead th {\n",
              "        text-align: right;\n",
              "    }\n",
              "</style>\n",
              "<table border=\"1\" class=\"dataframe\">\n",
              "  <thead>\n",
              "    <tr style=\"text-align: right;\">\n",
              "      <th></th>\n",
              "      <th>Company ID</th>\n",
              "      <th>Fiscal Year</th>\n",
              "      <th>Industry</th>\n",
              "      <th>SIC Code</th>\n",
              "      <th>Trading Currency</th>\n",
              "      <th>SP</th>\n",
              "      <th>CDS</th>\n",
              "      <th>APD</th>\n",
              "      <th>ARD</th>\n",
              "      <th>ADA</th>\n",
              "      <th>Company Name</th>\n",
              "    </tr>\n",
              "  </thead>\n",
              "  <tbody>\n",
              "    <tr>\n",
              "      <th>9</th>\n",
              "      <td>4991368</td>\n",
              "      <td>2009</td>\n",
              "      <td>Auto Components</td>\n",
              "      <td>12</td>\n",
              "      <td>USD</td>\n",
              "      <td>22</td>\n",
              "      <td>663</td>\n",
              "      <td>110</td>\n",
              "      <td>88</td>\n",
              "      <td>1</td>\n",
              "      <td>B Company</td>\n",
              "    </tr>\n",
              "    <tr>\n",
              "      <th>79</th>\n",
              "      <td>4977221</td>\n",
              "      <td>2018</td>\n",
              "      <td>Building Products</td>\n",
              "      <td>Y8</td>\n",
              "      <td>USD</td>\n",
              "      <td>45</td>\n",
              "      <td>133</td>\n",
              "      <td>86</td>\n",
              "      <td>76</td>\n",
              "      <td>0</td>\n",
              "      <td>I Company</td>\n",
              "    </tr>\n",
              "    <tr>\n",
              "      <th>87</th>\n",
              "      <td>4996197</td>\n",
              "      <td>2015</td>\n",
              "      <td>Machinery</td>\n",
              "      <td>578B</td>\n",
              "      <td>USD</td>\n",
              "      <td>29</td>\n",
              "      <td>&lt;NA&gt;</td>\n",
              "      <td>101</td>\n",
              "      <td>102</td>\n",
              "      <td>0</td>\n",
              "      <td>K Company</td>\n",
              "    </tr>\n",
              "  </tbody>\n",
              "</table>\n",
              "</div>\n",
              "      <button class=\"colab-df-convert\" onclick=\"convertToInteractive('df-229d87a5-1544-4b08-a346-9e67492edeae')\"\n",
              "              title=\"Convert this dataframe to an interactive table.\"\n",
              "              style=\"display:none;\">\n",
              "        \n",
              "  <svg xmlns=\"http://www.w3.org/2000/svg\" height=\"24px\"viewBox=\"0 0 24 24\"\n",
              "       width=\"24px\">\n",
              "    <path d=\"M0 0h24v24H0V0z\" fill=\"none\"/>\n",
              "    <path d=\"M18.56 5.44l.94 2.06.94-2.06 2.06-.94-2.06-.94-.94-2.06-.94 2.06-2.06.94zm-11 1L8.5 8.5l.94-2.06 2.06-.94-2.06-.94L8.5 2.5l-.94 2.06-2.06.94zm10 10l.94 2.06.94-2.06 2.06-.94-2.06-.94-.94-2.06-.94 2.06-2.06.94z\"/><path d=\"M17.41 7.96l-1.37-1.37c-.4-.4-.92-.59-1.43-.59-.52 0-1.04.2-1.43.59L10.3 9.45l-7.72 7.72c-.78.78-.78 2.05 0 2.83L4 21.41c.39.39.9.59 1.41.59.51 0 1.02-.2 1.41-.59l7.78-7.78 2.81-2.81c.8-.78.8-2.07 0-2.86zM5.41 20L4 18.59l7.72-7.72 1.47 1.35L5.41 20z\"/>\n",
              "  </svg>\n",
              "      </button>\n",
              "      \n",
              "  <style>\n",
              "    .colab-df-container {\n",
              "      display:flex;\n",
              "      flex-wrap:wrap;\n",
              "      gap: 12px;\n",
              "    }\n",
              "\n",
              "    .colab-df-convert {\n",
              "      background-color: #E8F0FE;\n",
              "      border: none;\n",
              "      border-radius: 50%;\n",
              "      cursor: pointer;\n",
              "      display: none;\n",
              "      fill: #1967D2;\n",
              "      height: 32px;\n",
              "      padding: 0 0 0 0;\n",
              "      width: 32px;\n",
              "    }\n",
              "\n",
              "    .colab-df-convert:hover {\n",
              "      background-color: #E2EBFA;\n",
              "      box-shadow: 0px 1px 2px rgba(60, 64, 67, 0.3), 0px 1px 3px 1px rgba(60, 64, 67, 0.15);\n",
              "      fill: #174EA6;\n",
              "    }\n",
              "\n",
              "    [theme=dark] .colab-df-convert {\n",
              "      background-color: #3B4455;\n",
              "      fill: #D2E3FC;\n",
              "    }\n",
              "\n",
              "    [theme=dark] .colab-df-convert:hover {\n",
              "      background-color: #434B5C;\n",
              "      box-shadow: 0px 1px 3px 1px rgba(0, 0, 0, 0.15);\n",
              "      filter: drop-shadow(0px 1px 2px rgba(0, 0, 0, 0.3));\n",
              "      fill: #FFFFFF;\n",
              "    }\n",
              "  </style>\n",
              "\n",
              "      <script>\n",
              "        const buttonEl =\n",
              "          document.querySelector('#df-229d87a5-1544-4b08-a346-9e67492edeae button.colab-df-convert');\n",
              "        buttonEl.style.display =\n",
              "          google.colab.kernel.accessAllowed ? 'block' : 'none';\n",
              "\n",
              "        async function convertToInteractive(key) {\n",
              "          const element = document.querySelector('#df-229d87a5-1544-4b08-a346-9e67492edeae');\n",
              "          const dataTable =\n",
              "            await google.colab.kernel.invokeFunction('convertToInteractive',\n",
              "                                                     [key], {});\n",
              "          if (!dataTable) return;\n",
              "\n",
              "          const docLinkHtml = 'Like what you see? Visit the ' +\n",
              "            '<a target=\"_blank\" href=https://colab.research.google.com/notebooks/data_table.ipynb>data table notebook</a>'\n",
              "            + ' to learn more about interactive tables.';\n",
              "          element.innerHTML = '';\n",
              "          dataTable['output_type'] = 'display_data';\n",
              "          await google.colab.output.renderOutput(dataTable, element);\n",
              "          const docLink = document.createElement('div');\n",
              "          docLink.innerHTML = docLinkHtml;\n",
              "          element.appendChild(docLink);\n",
              "        }\n",
              "      </script>\n",
              "    </div>\n",
              "  </div>\n",
              "  "
            ]
          },
          "metadata": {},
          "execution_count": 57
        }
      ]
    },
    {
      "cell_type": "code",
      "source": [
        "db_lookup_sic = (Example_DB\n",
        " .groupby(['Company ID','Company Name','Industry','SIC Code'])\n",
        " .size()\n",
        " .reset_index()[['Company ID','Company Name','Industry','SIC Code']]\n",
        " .astype(\"str\"))\n",
        "\n",
        "db_lookup_sic.sort_values(by='SIC Code')"
      ],
      "metadata": {
        "colab": {
          "base_uri": "https://localhost:8080/",
          "height": 426
        },
        "id": "kHJExAR-8cLC",
        "outputId": "4a2e9516-8634-47fd-fdec-cf12a596990b"
      },
      "execution_count": 58,
      "outputs": [
        {
          "output_type": "execute_result",
          "data": {
            "text/plain": [
              "   Company ID Company Name               Industry SIC Code\n",
              "1      499609    G Company        Auto Components     4150\n",
              "3     4977221    I Company      Building Products     5624\n",
              "8     4994275    D Company              Machinery     5722\n",
              "5     4989787    C Company              Machinery     5755\n",
              "10    4997627    H Company              Machinery     5776\n",
              "9     4996197    K Company              Machinery     5788\n",
              "11    5081187    M Company              Machinery     5886\n",
              "6     4993687    A Company              Machinery     6085\n",
              "7     4994208    F Company              Machinery     6085\n",
              "0      498856    J Company        Auto Components     6090\n",
              "4     4986826    L Company        Auto Components     6090\n",
              "2      500295    D Company  Aerospace and Defense     6101"
            ],
            "text/html": [
              "\n",
              "  <div id=\"df-8c451a24-9d78-48de-88ba-e05a217a9db0\">\n",
              "    <div class=\"colab-df-container\">\n",
              "      <div>\n",
              "<style scoped>\n",
              "    .dataframe tbody tr th:only-of-type {\n",
              "        vertical-align: middle;\n",
              "    }\n",
              "\n",
              "    .dataframe tbody tr th {\n",
              "        vertical-align: top;\n",
              "    }\n",
              "\n",
              "    .dataframe thead th {\n",
              "        text-align: right;\n",
              "    }\n",
              "</style>\n",
              "<table border=\"1\" class=\"dataframe\">\n",
              "  <thead>\n",
              "    <tr style=\"text-align: right;\">\n",
              "      <th></th>\n",
              "      <th>Company ID</th>\n",
              "      <th>Company Name</th>\n",
              "      <th>Industry</th>\n",
              "      <th>SIC Code</th>\n",
              "    </tr>\n",
              "  </thead>\n",
              "  <tbody>\n",
              "    <tr>\n",
              "      <th>1</th>\n",
              "      <td>499609</td>\n",
              "      <td>G Company</td>\n",
              "      <td>Auto Components</td>\n",
              "      <td>4150</td>\n",
              "    </tr>\n",
              "    <tr>\n",
              "      <th>3</th>\n",
              "      <td>4977221</td>\n",
              "      <td>I Company</td>\n",
              "      <td>Building Products</td>\n",
              "      <td>5624</td>\n",
              "    </tr>\n",
              "    <tr>\n",
              "      <th>8</th>\n",
              "      <td>4994275</td>\n",
              "      <td>D Company</td>\n",
              "      <td>Machinery</td>\n",
              "      <td>5722</td>\n",
              "    </tr>\n",
              "    <tr>\n",
              "      <th>5</th>\n",
              "      <td>4989787</td>\n",
              "      <td>C Company</td>\n",
              "      <td>Machinery</td>\n",
              "      <td>5755</td>\n",
              "    </tr>\n",
              "    <tr>\n",
              "      <th>10</th>\n",
              "      <td>4997627</td>\n",
              "      <td>H Company</td>\n",
              "      <td>Machinery</td>\n",
              "      <td>5776</td>\n",
              "    </tr>\n",
              "    <tr>\n",
              "      <th>9</th>\n",
              "      <td>4996197</td>\n",
              "      <td>K Company</td>\n",
              "      <td>Machinery</td>\n",
              "      <td>5788</td>\n",
              "    </tr>\n",
              "    <tr>\n",
              "      <th>11</th>\n",
              "      <td>5081187</td>\n",
              "      <td>M Company</td>\n",
              "      <td>Machinery</td>\n",
              "      <td>5886</td>\n",
              "    </tr>\n",
              "    <tr>\n",
              "      <th>6</th>\n",
              "      <td>4993687</td>\n",
              "      <td>A Company</td>\n",
              "      <td>Machinery</td>\n",
              "      <td>6085</td>\n",
              "    </tr>\n",
              "    <tr>\n",
              "      <th>7</th>\n",
              "      <td>4994208</td>\n",
              "      <td>F Company</td>\n",
              "      <td>Machinery</td>\n",
              "      <td>6085</td>\n",
              "    </tr>\n",
              "    <tr>\n",
              "      <th>0</th>\n",
              "      <td>498856</td>\n",
              "      <td>J Company</td>\n",
              "      <td>Auto Components</td>\n",
              "      <td>6090</td>\n",
              "    </tr>\n",
              "    <tr>\n",
              "      <th>4</th>\n",
              "      <td>4986826</td>\n",
              "      <td>L Company</td>\n",
              "      <td>Auto Components</td>\n",
              "      <td>6090</td>\n",
              "    </tr>\n",
              "    <tr>\n",
              "      <th>2</th>\n",
              "      <td>500295</td>\n",
              "      <td>D Company</td>\n",
              "      <td>Aerospace and Defense</td>\n",
              "      <td>6101</td>\n",
              "    </tr>\n",
              "  </tbody>\n",
              "</table>\n",
              "</div>\n",
              "      <button class=\"colab-df-convert\" onclick=\"convertToInteractive('df-8c451a24-9d78-48de-88ba-e05a217a9db0')\"\n",
              "              title=\"Convert this dataframe to an interactive table.\"\n",
              "              style=\"display:none;\">\n",
              "        \n",
              "  <svg xmlns=\"http://www.w3.org/2000/svg\" height=\"24px\"viewBox=\"0 0 24 24\"\n",
              "       width=\"24px\">\n",
              "    <path d=\"M0 0h24v24H0V0z\" fill=\"none\"/>\n",
              "    <path d=\"M18.56 5.44l.94 2.06.94-2.06 2.06-.94-2.06-.94-.94-2.06-.94 2.06-2.06.94zm-11 1L8.5 8.5l.94-2.06 2.06-.94-2.06-.94L8.5 2.5l-.94 2.06-2.06.94zm10 10l.94 2.06.94-2.06 2.06-.94-2.06-.94-.94-2.06-.94 2.06-2.06.94z\"/><path d=\"M17.41 7.96l-1.37-1.37c-.4-.4-.92-.59-1.43-.59-.52 0-1.04.2-1.43.59L10.3 9.45l-7.72 7.72c-.78.78-.78 2.05 0 2.83L4 21.41c.39.39.9.59 1.41.59.51 0 1.02-.2 1.41-.59l7.78-7.78 2.81-2.81c.8-.78.8-2.07 0-2.86zM5.41 20L4 18.59l7.72-7.72 1.47 1.35L5.41 20z\"/>\n",
              "  </svg>\n",
              "      </button>\n",
              "      \n",
              "  <style>\n",
              "    .colab-df-container {\n",
              "      display:flex;\n",
              "      flex-wrap:wrap;\n",
              "      gap: 12px;\n",
              "    }\n",
              "\n",
              "    .colab-df-convert {\n",
              "      background-color: #E8F0FE;\n",
              "      border: none;\n",
              "      border-radius: 50%;\n",
              "      cursor: pointer;\n",
              "      display: none;\n",
              "      fill: #1967D2;\n",
              "      height: 32px;\n",
              "      padding: 0 0 0 0;\n",
              "      width: 32px;\n",
              "    }\n",
              "\n",
              "    .colab-df-convert:hover {\n",
              "      background-color: #E2EBFA;\n",
              "      box-shadow: 0px 1px 2px rgba(60, 64, 67, 0.3), 0px 1px 3px 1px rgba(60, 64, 67, 0.15);\n",
              "      fill: #174EA6;\n",
              "    }\n",
              "\n",
              "    [theme=dark] .colab-df-convert {\n",
              "      background-color: #3B4455;\n",
              "      fill: #D2E3FC;\n",
              "    }\n",
              "\n",
              "    [theme=dark] .colab-df-convert:hover {\n",
              "      background-color: #434B5C;\n",
              "      box-shadow: 0px 1px 3px 1px rgba(0, 0, 0, 0.15);\n",
              "      filter: drop-shadow(0px 1px 2px rgba(0, 0, 0, 0.3));\n",
              "      fill: #FFFFFF;\n",
              "    }\n",
              "  </style>\n",
              "\n",
              "      <script>\n",
              "        const buttonEl =\n",
              "          document.querySelector('#df-8c451a24-9d78-48de-88ba-e05a217a9db0 button.colab-df-convert');\n",
              "        buttonEl.style.display =\n",
              "          google.colab.kernel.accessAllowed ? 'block' : 'none';\n",
              "\n",
              "        async function convertToInteractive(key) {\n",
              "          const element = document.querySelector('#df-8c451a24-9d78-48de-88ba-e05a217a9db0');\n",
              "          const dataTable =\n",
              "            await google.colab.kernel.invokeFunction('convertToInteractive',\n",
              "                                                     [key], {});\n",
              "          if (!dataTable) return;\n",
              "\n",
              "          const docLinkHtml = 'Like what you see? Visit the ' +\n",
              "            '<a target=\"_blank\" href=https://colab.research.google.com/notebooks/data_table.ipynb>data table notebook</a>'\n",
              "            + ' to learn more about interactive tables.';\n",
              "          element.innerHTML = '';\n",
              "          dataTable['output_type'] = 'display_data';\n",
              "          await google.colab.output.renderOutput(dataTable, element);\n",
              "          const docLink = document.createElement('div');\n",
              "          docLink.innerHTML = docLinkHtml;\n",
              "          element.appendChild(docLink);\n",
              "        }\n",
              "      </script>\n",
              "    </div>\n",
              "  </div>\n",
              "  "
            ]
          },
          "metadata": {},
          "execution_count": 58
        }
      ]
    },
    {
      "cell_type": "markdown",
      "source": [
        "From the database, we notice that SIC code has a one-to-many relationship with company ID. Now check example data."
      ],
      "metadata": {
        "id": "Edf9hQDKIn91"
      }
    },
    {
      "cell_type": "code",
      "source": [
        "(cleaned_data\n",
        " .groupby(['Company ID','Company Name','Industry','SIC Code'])\n",
        " .size()\n",
        " .reset_index()[['Company ID','Company Name','Industry','SIC Code']]\n",
        " .astype(\"str\"))"
      ],
      "metadata": {
        "colab": {
          "base_uri": "https://localhost:8080/",
          "height": 614
        },
        "id": "TloilM69IYha",
        "outputId": "196fb421-0825-47fb-f082-c22badd4728d"
      },
      "execution_count": 59,
      "outputs": [
        {
          "output_type": "execute_result",
          "data": {
            "text/plain": [
              "   Company ID Company Name               Industry SIC Code\n",
              "0     4976235    E Company              Machinery     5878\n",
              "1     4977221    I Company      Building Products     5624\n",
              "2     4977221    I Company      Building Products       Y8\n",
              "3     4986826    L Company        Auto Components     6090\n",
              "4      498856    J Company        Auto Components     6090\n",
              "5     4989787    C Company              Machinery     5755\n",
              "6     4991368    B Company        Auto Components       12\n",
              "7     4991368    B Company        Auto Components     2937\n",
              "8     4991368    B Company        Auto Components     4937\n",
              "9     4993687    A Company              Machinery     6085\n",
              "10    4994208    F Company              Machinery     6085\n",
              "11    4994275    D Company              Machinery     5722\n",
              "12     499609    G Company        Auto Components     4150\n",
              "13    4996197    K Company              Machinery     5788\n",
              "14    4996197    K Company              Machinery     578B\n",
              "15    4997627    H Company              Machinery     5776\n",
              "16     500295    D Company  Aerospace and Defense     6101\n",
              "17    5081187    M Company              Machinery     5886"
            ],
            "text/html": [
              "\n",
              "  <div id=\"df-9abe49a0-e0e3-42af-85a2-3bf8dc2f1141\">\n",
              "    <div class=\"colab-df-container\">\n",
              "      <div>\n",
              "<style scoped>\n",
              "    .dataframe tbody tr th:only-of-type {\n",
              "        vertical-align: middle;\n",
              "    }\n",
              "\n",
              "    .dataframe tbody tr th {\n",
              "        vertical-align: top;\n",
              "    }\n",
              "\n",
              "    .dataframe thead th {\n",
              "        text-align: right;\n",
              "    }\n",
              "</style>\n",
              "<table border=\"1\" class=\"dataframe\">\n",
              "  <thead>\n",
              "    <tr style=\"text-align: right;\">\n",
              "      <th></th>\n",
              "      <th>Company ID</th>\n",
              "      <th>Company Name</th>\n",
              "      <th>Industry</th>\n",
              "      <th>SIC Code</th>\n",
              "    </tr>\n",
              "  </thead>\n",
              "  <tbody>\n",
              "    <tr>\n",
              "      <th>0</th>\n",
              "      <td>4976235</td>\n",
              "      <td>E Company</td>\n",
              "      <td>Machinery</td>\n",
              "      <td>5878</td>\n",
              "    </tr>\n",
              "    <tr>\n",
              "      <th>1</th>\n",
              "      <td>4977221</td>\n",
              "      <td>I Company</td>\n",
              "      <td>Building Products</td>\n",
              "      <td>5624</td>\n",
              "    </tr>\n",
              "    <tr>\n",
              "      <th>2</th>\n",
              "      <td>4977221</td>\n",
              "      <td>I Company</td>\n",
              "      <td>Building Products</td>\n",
              "      <td>Y8</td>\n",
              "    </tr>\n",
              "    <tr>\n",
              "      <th>3</th>\n",
              "      <td>4986826</td>\n",
              "      <td>L Company</td>\n",
              "      <td>Auto Components</td>\n",
              "      <td>6090</td>\n",
              "    </tr>\n",
              "    <tr>\n",
              "      <th>4</th>\n",
              "      <td>498856</td>\n",
              "      <td>J Company</td>\n",
              "      <td>Auto Components</td>\n",
              "      <td>6090</td>\n",
              "    </tr>\n",
              "    <tr>\n",
              "      <th>5</th>\n",
              "      <td>4989787</td>\n",
              "      <td>C Company</td>\n",
              "      <td>Machinery</td>\n",
              "      <td>5755</td>\n",
              "    </tr>\n",
              "    <tr>\n",
              "      <th>6</th>\n",
              "      <td>4991368</td>\n",
              "      <td>B Company</td>\n",
              "      <td>Auto Components</td>\n",
              "      <td>12</td>\n",
              "    </tr>\n",
              "    <tr>\n",
              "      <th>7</th>\n",
              "      <td>4991368</td>\n",
              "      <td>B Company</td>\n",
              "      <td>Auto Components</td>\n",
              "      <td>2937</td>\n",
              "    </tr>\n",
              "    <tr>\n",
              "      <th>8</th>\n",
              "      <td>4991368</td>\n",
              "      <td>B Company</td>\n",
              "      <td>Auto Components</td>\n",
              "      <td>4937</td>\n",
              "    </tr>\n",
              "    <tr>\n",
              "      <th>9</th>\n",
              "      <td>4993687</td>\n",
              "      <td>A Company</td>\n",
              "      <td>Machinery</td>\n",
              "      <td>6085</td>\n",
              "    </tr>\n",
              "    <tr>\n",
              "      <th>10</th>\n",
              "      <td>4994208</td>\n",
              "      <td>F Company</td>\n",
              "      <td>Machinery</td>\n",
              "      <td>6085</td>\n",
              "    </tr>\n",
              "    <tr>\n",
              "      <th>11</th>\n",
              "      <td>4994275</td>\n",
              "      <td>D Company</td>\n",
              "      <td>Machinery</td>\n",
              "      <td>5722</td>\n",
              "    </tr>\n",
              "    <tr>\n",
              "      <th>12</th>\n",
              "      <td>499609</td>\n",
              "      <td>G Company</td>\n",
              "      <td>Auto Components</td>\n",
              "      <td>4150</td>\n",
              "    </tr>\n",
              "    <tr>\n",
              "      <th>13</th>\n",
              "      <td>4996197</td>\n",
              "      <td>K Company</td>\n",
              "      <td>Machinery</td>\n",
              "      <td>5788</td>\n",
              "    </tr>\n",
              "    <tr>\n",
              "      <th>14</th>\n",
              "      <td>4996197</td>\n",
              "      <td>K Company</td>\n",
              "      <td>Machinery</td>\n",
              "      <td>578B</td>\n",
              "    </tr>\n",
              "    <tr>\n",
              "      <th>15</th>\n",
              "      <td>4997627</td>\n",
              "      <td>H Company</td>\n",
              "      <td>Machinery</td>\n",
              "      <td>5776</td>\n",
              "    </tr>\n",
              "    <tr>\n",
              "      <th>16</th>\n",
              "      <td>500295</td>\n",
              "      <td>D Company</td>\n",
              "      <td>Aerospace and Defense</td>\n",
              "      <td>6101</td>\n",
              "    </tr>\n",
              "    <tr>\n",
              "      <th>17</th>\n",
              "      <td>5081187</td>\n",
              "      <td>M Company</td>\n",
              "      <td>Machinery</td>\n",
              "      <td>5886</td>\n",
              "    </tr>\n",
              "  </tbody>\n",
              "</table>\n",
              "</div>\n",
              "      <button class=\"colab-df-convert\" onclick=\"convertToInteractive('df-9abe49a0-e0e3-42af-85a2-3bf8dc2f1141')\"\n",
              "              title=\"Convert this dataframe to an interactive table.\"\n",
              "              style=\"display:none;\">\n",
              "        \n",
              "  <svg xmlns=\"http://www.w3.org/2000/svg\" height=\"24px\"viewBox=\"0 0 24 24\"\n",
              "       width=\"24px\">\n",
              "    <path d=\"M0 0h24v24H0V0z\" fill=\"none\"/>\n",
              "    <path d=\"M18.56 5.44l.94 2.06.94-2.06 2.06-.94-2.06-.94-.94-2.06-.94 2.06-2.06.94zm-11 1L8.5 8.5l.94-2.06 2.06-.94-2.06-.94L8.5 2.5l-.94 2.06-2.06.94zm10 10l.94 2.06.94-2.06 2.06-.94-2.06-.94-.94-2.06-.94 2.06-2.06.94z\"/><path d=\"M17.41 7.96l-1.37-1.37c-.4-.4-.92-.59-1.43-.59-.52 0-1.04.2-1.43.59L10.3 9.45l-7.72 7.72c-.78.78-.78 2.05 0 2.83L4 21.41c.39.39.9.59 1.41.59.51 0 1.02-.2 1.41-.59l7.78-7.78 2.81-2.81c.8-.78.8-2.07 0-2.86zM5.41 20L4 18.59l7.72-7.72 1.47 1.35L5.41 20z\"/>\n",
              "  </svg>\n",
              "      </button>\n",
              "      \n",
              "  <style>\n",
              "    .colab-df-container {\n",
              "      display:flex;\n",
              "      flex-wrap:wrap;\n",
              "      gap: 12px;\n",
              "    }\n",
              "\n",
              "    .colab-df-convert {\n",
              "      background-color: #E8F0FE;\n",
              "      border: none;\n",
              "      border-radius: 50%;\n",
              "      cursor: pointer;\n",
              "      display: none;\n",
              "      fill: #1967D2;\n",
              "      height: 32px;\n",
              "      padding: 0 0 0 0;\n",
              "      width: 32px;\n",
              "    }\n",
              "\n",
              "    .colab-df-convert:hover {\n",
              "      background-color: #E2EBFA;\n",
              "      box-shadow: 0px 1px 2px rgba(60, 64, 67, 0.3), 0px 1px 3px 1px rgba(60, 64, 67, 0.15);\n",
              "      fill: #174EA6;\n",
              "    }\n",
              "\n",
              "    [theme=dark] .colab-df-convert {\n",
              "      background-color: #3B4455;\n",
              "      fill: #D2E3FC;\n",
              "    }\n",
              "\n",
              "    [theme=dark] .colab-df-convert:hover {\n",
              "      background-color: #434B5C;\n",
              "      box-shadow: 0px 1px 3px 1px rgba(0, 0, 0, 0.15);\n",
              "      filter: drop-shadow(0px 1px 2px rgba(0, 0, 0, 0.3));\n",
              "      fill: #FFFFFF;\n",
              "    }\n",
              "  </style>\n",
              "\n",
              "      <script>\n",
              "        const buttonEl =\n",
              "          document.querySelector('#df-9abe49a0-e0e3-42af-85a2-3bf8dc2f1141 button.colab-df-convert');\n",
              "        buttonEl.style.display =\n",
              "          google.colab.kernel.accessAllowed ? 'block' : 'none';\n",
              "\n",
              "        async function convertToInteractive(key) {\n",
              "          const element = document.querySelector('#df-9abe49a0-e0e3-42af-85a2-3bf8dc2f1141');\n",
              "          const dataTable =\n",
              "            await google.colab.kernel.invokeFunction('convertToInteractive',\n",
              "                                                     [key], {});\n",
              "          if (!dataTable) return;\n",
              "\n",
              "          const docLinkHtml = 'Like what you see? Visit the ' +\n",
              "            '<a target=\"_blank\" href=https://colab.research.google.com/notebooks/data_table.ipynb>data table notebook</a>'\n",
              "            + ' to learn more about interactive tables.';\n",
              "          element.innerHTML = '';\n",
              "          dataTable['output_type'] = 'display_data';\n",
              "          await google.colab.output.renderOutput(dataTable, element);\n",
              "          const docLink = document.createElement('div');\n",
              "          docLink.innerHTML = docLinkHtml;\n",
              "          element.appendChild(docLink);\n",
              "        }\n",
              "      </script>\n",
              "    </div>\n",
              "  </div>\n",
              "  "
            ]
          },
          "metadata": {},
          "execution_count": 59
        }
      ]
    },
    {
      "cell_type": "markdown",
      "source": [
        "There are 3 rows that we flagged previously did not match the formatting requirement."
      ],
      "metadata": {
        "id": "ciMa7FUFJXZa"
      }
    },
    {
      "cell_type": "code",
      "source": [
        "sic_fix = pd.merge(cleaned_data[cleaned_data['SIC Code'].isin(SIC_flg)],\n",
        "                   db_lookup_sic,\n",
        "                   on=['Company ID','Company Name','Industry'],\n",
        "                   how=\"left\")\n",
        "sic_fix['SIC Code'] = sic_fix['SIC Code_y']\n",
        "sic_fix = sic_fix.drop(['SIC Code_x','SIC Code_y'],axis=1)\n",
        "sic_fix"
      ],
      "metadata": {
        "colab": {
          "base_uri": "https://localhost:8080/",
          "height": 240
        },
        "id": "UIOVQR7d99EI",
        "outputId": "8a2be7ec-6870-4b5b-b89a-2d713f484f0e"
      },
      "execution_count": 60,
      "outputs": [
        {
          "output_type": "execute_result",
          "data": {
            "text/plain": [
              "  Company ID  Fiscal Year           Industry Trading Currency  SP   CDS  APD  \\\n",
              "0    4991368         2009    Auto Components              USD  22   663  110   \n",
              "1    4977221         2018  Building Products              USD  45   133   86   \n",
              "2    4996197         2015          Machinery              USD  29  <NA>  101   \n",
              "\n",
              "   ARD  ADA Company Name SIC Code  \n",
              "0   88    1    B Company      NaN  \n",
              "1   76    0    I Company     5624  \n",
              "2  102    0    K Company     5788  "
            ],
            "text/html": [
              "\n",
              "  <div id=\"df-381b1423-dd81-47d2-bb6a-35d30fcdfcb4\">\n",
              "    <div class=\"colab-df-container\">\n",
              "      <div>\n",
              "<style scoped>\n",
              "    .dataframe tbody tr th:only-of-type {\n",
              "        vertical-align: middle;\n",
              "    }\n",
              "\n",
              "    .dataframe tbody tr th {\n",
              "        vertical-align: top;\n",
              "    }\n",
              "\n",
              "    .dataframe thead th {\n",
              "        text-align: right;\n",
              "    }\n",
              "</style>\n",
              "<table border=\"1\" class=\"dataframe\">\n",
              "  <thead>\n",
              "    <tr style=\"text-align: right;\">\n",
              "      <th></th>\n",
              "      <th>Company ID</th>\n",
              "      <th>Fiscal Year</th>\n",
              "      <th>Industry</th>\n",
              "      <th>Trading Currency</th>\n",
              "      <th>SP</th>\n",
              "      <th>CDS</th>\n",
              "      <th>APD</th>\n",
              "      <th>ARD</th>\n",
              "      <th>ADA</th>\n",
              "      <th>Company Name</th>\n",
              "      <th>SIC Code</th>\n",
              "    </tr>\n",
              "  </thead>\n",
              "  <tbody>\n",
              "    <tr>\n",
              "      <th>0</th>\n",
              "      <td>4991368</td>\n",
              "      <td>2009</td>\n",
              "      <td>Auto Components</td>\n",
              "      <td>USD</td>\n",
              "      <td>22</td>\n",
              "      <td>663</td>\n",
              "      <td>110</td>\n",
              "      <td>88</td>\n",
              "      <td>1</td>\n",
              "      <td>B Company</td>\n",
              "      <td>NaN</td>\n",
              "    </tr>\n",
              "    <tr>\n",
              "      <th>1</th>\n",
              "      <td>4977221</td>\n",
              "      <td>2018</td>\n",
              "      <td>Building Products</td>\n",
              "      <td>USD</td>\n",
              "      <td>45</td>\n",
              "      <td>133</td>\n",
              "      <td>86</td>\n",
              "      <td>76</td>\n",
              "      <td>0</td>\n",
              "      <td>I Company</td>\n",
              "      <td>5624</td>\n",
              "    </tr>\n",
              "    <tr>\n",
              "      <th>2</th>\n",
              "      <td>4996197</td>\n",
              "      <td>2015</td>\n",
              "      <td>Machinery</td>\n",
              "      <td>USD</td>\n",
              "      <td>29</td>\n",
              "      <td>&lt;NA&gt;</td>\n",
              "      <td>101</td>\n",
              "      <td>102</td>\n",
              "      <td>0</td>\n",
              "      <td>K Company</td>\n",
              "      <td>5788</td>\n",
              "    </tr>\n",
              "  </tbody>\n",
              "</table>\n",
              "</div>\n",
              "      <button class=\"colab-df-convert\" onclick=\"convertToInteractive('df-381b1423-dd81-47d2-bb6a-35d30fcdfcb4')\"\n",
              "              title=\"Convert this dataframe to an interactive table.\"\n",
              "              style=\"display:none;\">\n",
              "        \n",
              "  <svg xmlns=\"http://www.w3.org/2000/svg\" height=\"24px\"viewBox=\"0 0 24 24\"\n",
              "       width=\"24px\">\n",
              "    <path d=\"M0 0h24v24H0V0z\" fill=\"none\"/>\n",
              "    <path d=\"M18.56 5.44l.94 2.06.94-2.06 2.06-.94-2.06-.94-.94-2.06-.94 2.06-2.06.94zm-11 1L8.5 8.5l.94-2.06 2.06-.94-2.06-.94L8.5 2.5l-.94 2.06-2.06.94zm10 10l.94 2.06.94-2.06 2.06-.94-2.06-.94-.94-2.06-.94 2.06-2.06.94z\"/><path d=\"M17.41 7.96l-1.37-1.37c-.4-.4-.92-.59-1.43-.59-.52 0-1.04.2-1.43.59L10.3 9.45l-7.72 7.72c-.78.78-.78 2.05 0 2.83L4 21.41c.39.39.9.59 1.41.59.51 0 1.02-.2 1.41-.59l7.78-7.78 2.81-2.81c.8-.78.8-2.07 0-2.86zM5.41 20L4 18.59l7.72-7.72 1.47 1.35L5.41 20z\"/>\n",
              "  </svg>\n",
              "      </button>\n",
              "      \n",
              "  <style>\n",
              "    .colab-df-container {\n",
              "      display:flex;\n",
              "      flex-wrap:wrap;\n",
              "      gap: 12px;\n",
              "    }\n",
              "\n",
              "    .colab-df-convert {\n",
              "      background-color: #E8F0FE;\n",
              "      border: none;\n",
              "      border-radius: 50%;\n",
              "      cursor: pointer;\n",
              "      display: none;\n",
              "      fill: #1967D2;\n",
              "      height: 32px;\n",
              "      padding: 0 0 0 0;\n",
              "      width: 32px;\n",
              "    }\n",
              "\n",
              "    .colab-df-convert:hover {\n",
              "      background-color: #E2EBFA;\n",
              "      box-shadow: 0px 1px 2px rgba(60, 64, 67, 0.3), 0px 1px 3px 1px rgba(60, 64, 67, 0.15);\n",
              "      fill: #174EA6;\n",
              "    }\n",
              "\n",
              "    [theme=dark] .colab-df-convert {\n",
              "      background-color: #3B4455;\n",
              "      fill: #D2E3FC;\n",
              "    }\n",
              "\n",
              "    [theme=dark] .colab-df-convert:hover {\n",
              "      background-color: #434B5C;\n",
              "      box-shadow: 0px 1px 3px 1px rgba(0, 0, 0, 0.15);\n",
              "      filter: drop-shadow(0px 1px 2px rgba(0, 0, 0, 0.3));\n",
              "      fill: #FFFFFF;\n",
              "    }\n",
              "  </style>\n",
              "\n",
              "      <script>\n",
              "        const buttonEl =\n",
              "          document.querySelector('#df-381b1423-dd81-47d2-bb6a-35d30fcdfcb4 button.colab-df-convert');\n",
              "        buttonEl.style.display =\n",
              "          google.colab.kernel.accessAllowed ? 'block' : 'none';\n",
              "\n",
              "        async function convertToInteractive(key) {\n",
              "          const element = document.querySelector('#df-381b1423-dd81-47d2-bb6a-35d30fcdfcb4');\n",
              "          const dataTable =\n",
              "            await google.colab.kernel.invokeFunction('convertToInteractive',\n",
              "                                                     [key], {});\n",
              "          if (!dataTable) return;\n",
              "\n",
              "          const docLinkHtml = 'Like what you see? Visit the ' +\n",
              "            '<a target=\"_blank\" href=https://colab.research.google.com/notebooks/data_table.ipynb>data table notebook</a>'\n",
              "            + ' to learn more about interactive tables.';\n",
              "          element.innerHTML = '';\n",
              "          dataTable['output_type'] = 'display_data';\n",
              "          await google.colab.output.renderOutput(dataTable, element);\n",
              "          const docLink = document.createElement('div');\n",
              "          docLink.innerHTML = docLinkHtml;\n",
              "          element.appendChild(docLink);\n",
              "        }\n",
              "      </script>\n",
              "    </div>\n",
              "  </div>\n",
              "  "
            ]
          },
          "metadata": {},
          "execution_count": 60
        }
      ]
    },
    {
      "cell_type": "markdown",
      "source": [
        "We can find corresponding correct SIC code for I and K Company in database, but as new input data B Company, we need to figure out which SIC code to use.\n",
        "\n",
        "Usually confirmation on SIC code would go back to the data source provider. Here we assume the SIC code that appears the most is the correct SIC code for B Company."
      ],
      "metadata": {
        "id": "YjZbpUyR9Wob"
      }
    },
    {
      "cell_type": "code",
      "source": [
        "cleaned_data[cleaned_data['Company Name']=='B Company'].groupby('SIC Code').size()"
      ],
      "metadata": {
        "colab": {
          "base_uri": "https://localhost:8080/"
        },
        "id": "jrxIMjPE8p_R",
        "outputId": "9910f291-7742-4a0d-db89-9d778f921c34"
      },
      "execution_count": 61,
      "outputs": [
        {
          "output_type": "execute_result",
          "data": {
            "text/plain": [
              "SIC Code\n",
              "12      1\n",
              "2937    1\n",
              "4937    8\n",
              "dtype: int64"
            ]
          },
          "metadata": {},
          "execution_count": 61
        }
      ]
    },
    {
      "cell_type": "markdown",
      "source": [
        "Based on our previous assumption, in order to fill in irregular values, we choose the SIC code that:\n",
        "- match with the 4-digit requirement\n",
        "- the most common value used\n"
      ],
      "metadata": {
        "id": "8XTBJz2k_-xh"
      }
    },
    {
      "cell_type": "code",
      "source": [
        "BCompanySIC = (cleaned_data[cleaned_data['Company Name']=='B Company']\n",
        "               .groupby('SIC Code')\n",
        "               .size().reset_index()\n",
        "               .sort_values(by=0,ascending=False)\n",
        "               .iloc[0,0])"
      ],
      "metadata": {
        "id": "v_E0t1GWBbdP"
      },
      "execution_count": 62,
      "outputs": []
    },
    {
      "cell_type": "code",
      "source": [
        "print(BCompanySIC)"
      ],
      "metadata": {
        "colab": {
          "base_uri": "https://localhost:8080/"
        },
        "id": "AXc-7FHEB7N_",
        "outputId": "6764075d-222c-4ab8-d3e3-8b561b53607d"
      },
      "execution_count": 63,
      "outputs": [
        {
          "output_type": "stream",
          "name": "stdout",
          "text": [
            "4937\n"
          ]
        }
      ]
    },
    {
      "cell_type": "code",
      "source": [
        "sic_fix.loc[sic_fix['Company Name'] == 'B Company', 'SIC Code'] = BCompanySIC"
      ],
      "metadata": {
        "id": "359C36dUDHhc"
      },
      "execution_count": 64,
      "outputs": []
    },
    {
      "cell_type": "code",
      "source": [
        "sic_fix"
      ],
      "metadata": {
        "colab": {
          "base_uri": "https://localhost:8080/",
          "height": 240
        },
        "id": "mitjIeAhBFhv",
        "outputId": "172c5d6b-9dd1-45bd-c56a-4a78631a19a8"
      },
      "execution_count": 65,
      "outputs": [
        {
          "output_type": "execute_result",
          "data": {
            "text/plain": [
              "  Company ID  Fiscal Year           Industry Trading Currency  SP   CDS  APD  \\\n",
              "0    4991368         2009    Auto Components              USD  22   663  110   \n",
              "1    4977221         2018  Building Products              USD  45   133   86   \n",
              "2    4996197         2015          Machinery              USD  29  <NA>  101   \n",
              "\n",
              "   ARD  ADA Company Name SIC Code  \n",
              "0   88    1    B Company     4937  \n",
              "1   76    0    I Company     5624  \n",
              "2  102    0    K Company     5788  "
            ],
            "text/html": [
              "\n",
              "  <div id=\"df-c51235a5-db52-43a5-9582-bf32af0439f0\">\n",
              "    <div class=\"colab-df-container\">\n",
              "      <div>\n",
              "<style scoped>\n",
              "    .dataframe tbody tr th:only-of-type {\n",
              "        vertical-align: middle;\n",
              "    }\n",
              "\n",
              "    .dataframe tbody tr th {\n",
              "        vertical-align: top;\n",
              "    }\n",
              "\n",
              "    .dataframe thead th {\n",
              "        text-align: right;\n",
              "    }\n",
              "</style>\n",
              "<table border=\"1\" class=\"dataframe\">\n",
              "  <thead>\n",
              "    <tr style=\"text-align: right;\">\n",
              "      <th></th>\n",
              "      <th>Company ID</th>\n",
              "      <th>Fiscal Year</th>\n",
              "      <th>Industry</th>\n",
              "      <th>Trading Currency</th>\n",
              "      <th>SP</th>\n",
              "      <th>CDS</th>\n",
              "      <th>APD</th>\n",
              "      <th>ARD</th>\n",
              "      <th>ADA</th>\n",
              "      <th>Company Name</th>\n",
              "      <th>SIC Code</th>\n",
              "    </tr>\n",
              "  </thead>\n",
              "  <tbody>\n",
              "    <tr>\n",
              "      <th>0</th>\n",
              "      <td>4991368</td>\n",
              "      <td>2009</td>\n",
              "      <td>Auto Components</td>\n",
              "      <td>USD</td>\n",
              "      <td>22</td>\n",
              "      <td>663</td>\n",
              "      <td>110</td>\n",
              "      <td>88</td>\n",
              "      <td>1</td>\n",
              "      <td>B Company</td>\n",
              "      <td>4937</td>\n",
              "    </tr>\n",
              "    <tr>\n",
              "      <th>1</th>\n",
              "      <td>4977221</td>\n",
              "      <td>2018</td>\n",
              "      <td>Building Products</td>\n",
              "      <td>USD</td>\n",
              "      <td>45</td>\n",
              "      <td>133</td>\n",
              "      <td>86</td>\n",
              "      <td>76</td>\n",
              "      <td>0</td>\n",
              "      <td>I Company</td>\n",
              "      <td>5624</td>\n",
              "    </tr>\n",
              "    <tr>\n",
              "      <th>2</th>\n",
              "      <td>4996197</td>\n",
              "      <td>2015</td>\n",
              "      <td>Machinery</td>\n",
              "      <td>USD</td>\n",
              "      <td>29</td>\n",
              "      <td>&lt;NA&gt;</td>\n",
              "      <td>101</td>\n",
              "      <td>102</td>\n",
              "      <td>0</td>\n",
              "      <td>K Company</td>\n",
              "      <td>5788</td>\n",
              "    </tr>\n",
              "  </tbody>\n",
              "</table>\n",
              "</div>\n",
              "      <button class=\"colab-df-convert\" onclick=\"convertToInteractive('df-c51235a5-db52-43a5-9582-bf32af0439f0')\"\n",
              "              title=\"Convert this dataframe to an interactive table.\"\n",
              "              style=\"display:none;\">\n",
              "        \n",
              "  <svg xmlns=\"http://www.w3.org/2000/svg\" height=\"24px\"viewBox=\"0 0 24 24\"\n",
              "       width=\"24px\">\n",
              "    <path d=\"M0 0h24v24H0V0z\" fill=\"none\"/>\n",
              "    <path d=\"M18.56 5.44l.94 2.06.94-2.06 2.06-.94-2.06-.94-.94-2.06-.94 2.06-2.06.94zm-11 1L8.5 8.5l.94-2.06 2.06-.94-2.06-.94L8.5 2.5l-.94 2.06-2.06.94zm10 10l.94 2.06.94-2.06 2.06-.94-2.06-.94-.94-2.06-.94 2.06-2.06.94z\"/><path d=\"M17.41 7.96l-1.37-1.37c-.4-.4-.92-.59-1.43-.59-.52 0-1.04.2-1.43.59L10.3 9.45l-7.72 7.72c-.78.78-.78 2.05 0 2.83L4 21.41c.39.39.9.59 1.41.59.51 0 1.02-.2 1.41-.59l7.78-7.78 2.81-2.81c.8-.78.8-2.07 0-2.86zM5.41 20L4 18.59l7.72-7.72 1.47 1.35L5.41 20z\"/>\n",
              "  </svg>\n",
              "      </button>\n",
              "      \n",
              "  <style>\n",
              "    .colab-df-container {\n",
              "      display:flex;\n",
              "      flex-wrap:wrap;\n",
              "      gap: 12px;\n",
              "    }\n",
              "\n",
              "    .colab-df-convert {\n",
              "      background-color: #E8F0FE;\n",
              "      border: none;\n",
              "      border-radius: 50%;\n",
              "      cursor: pointer;\n",
              "      display: none;\n",
              "      fill: #1967D2;\n",
              "      height: 32px;\n",
              "      padding: 0 0 0 0;\n",
              "      width: 32px;\n",
              "    }\n",
              "\n",
              "    .colab-df-convert:hover {\n",
              "      background-color: #E2EBFA;\n",
              "      box-shadow: 0px 1px 2px rgba(60, 64, 67, 0.3), 0px 1px 3px 1px rgba(60, 64, 67, 0.15);\n",
              "      fill: #174EA6;\n",
              "    }\n",
              "\n",
              "    [theme=dark] .colab-df-convert {\n",
              "      background-color: #3B4455;\n",
              "      fill: #D2E3FC;\n",
              "    }\n",
              "\n",
              "    [theme=dark] .colab-df-convert:hover {\n",
              "      background-color: #434B5C;\n",
              "      box-shadow: 0px 1px 3px 1px rgba(0, 0, 0, 0.15);\n",
              "      filter: drop-shadow(0px 1px 2px rgba(0, 0, 0, 0.3));\n",
              "      fill: #FFFFFF;\n",
              "    }\n",
              "  </style>\n",
              "\n",
              "      <script>\n",
              "        const buttonEl =\n",
              "          document.querySelector('#df-c51235a5-db52-43a5-9582-bf32af0439f0 button.colab-df-convert');\n",
              "        buttonEl.style.display =\n",
              "          google.colab.kernel.accessAllowed ? 'block' : 'none';\n",
              "\n",
              "        async function convertToInteractive(key) {\n",
              "          const element = document.querySelector('#df-c51235a5-db52-43a5-9582-bf32af0439f0');\n",
              "          const dataTable =\n",
              "            await google.colab.kernel.invokeFunction('convertToInteractive',\n",
              "                                                     [key], {});\n",
              "          if (!dataTable) return;\n",
              "\n",
              "          const docLinkHtml = 'Like what you see? Visit the ' +\n",
              "            '<a target=\"_blank\" href=https://colab.research.google.com/notebooks/data_table.ipynb>data table notebook</a>'\n",
              "            + ' to learn more about interactive tables.';\n",
              "          element.innerHTML = '';\n",
              "          dataTable['output_type'] = 'display_data';\n",
              "          await google.colab.output.renderOutput(dataTable, element);\n",
              "          const docLink = document.createElement('div');\n",
              "          docLink.innerHTML = docLinkHtml;\n",
              "          element.appendChild(docLink);\n",
              "        }\n",
              "      </script>\n",
              "    </div>\n",
              "  </div>\n",
              "  "
            ]
          },
          "metadata": {},
          "execution_count": 65
        }
      ]
    },
    {
      "cell_type": "markdown",
      "source": [
        "Apply the fix to data. **Assume that 1 company must have the same SIC code, and one SIC code could be corresponding to multiple companies.**\n",
        "\n",
        "i.e. B Company would have 1 SIC code: 4937"
      ],
      "metadata": {
        "id": "3QKNKE0dGCZh"
      }
    },
    {
      "cell_type": "code",
      "source": [
        "cleaned_fix = pd.merge(cleaned_data,\n",
        "                       sic_fix[['Company ID','Company Name','Industry','SIC Code']],\n",
        "                       on=['Company ID','Company Name','Industry'],\n",
        "                       how=\"left\")\n",
        "\n",
        "cleaned_fix['SIC Code'] = np.where(cleaned_fix['SIC Code_y'].isnull(), cleaned_fix['SIC Code_x'],cleaned_fix['SIC Code_y'])"
      ],
      "metadata": {
        "id": "cfvysqG5BVfX"
      },
      "execution_count": 66,
      "outputs": []
    },
    {
      "cell_type": "code",
      "source": [
        "np.unique(cleaned_fix['SIC Code'])"
      ],
      "metadata": {
        "colab": {
          "base_uri": "https://localhost:8080/"
        },
        "id": "rsgUbU1ZE5rh",
        "outputId": "b7b2af9d-caa6-48d8-b68a-d3e28c6dca5b"
      },
      "execution_count": 67,
      "outputs": [
        {
          "output_type": "execute_result",
          "data": {
            "text/plain": [
              "array(['4150', '4937', '5624', '5722', '5755', '5776', '5788', '5878',\n",
              "       '5886', '6085', '6090', '6101'], dtype=object)"
            ]
          },
          "metadata": {},
          "execution_count": 67
        }
      ]
    },
    {
      "cell_type": "code",
      "source": [
        "cleaned_data = cleaned_fix.drop(['SIC Code_x','SIC Code_y'],axis=1).copy()\n",
        "del cleaned_fix"
      ],
      "metadata": {
        "id": "vz9SLHpPE8Br"
      },
      "execution_count": 68,
      "outputs": []
    },
    {
      "cell_type": "markdown",
      "source": [
        "Final check on SIC code"
      ],
      "metadata": {
        "id": "F6DhQ4zHK1mF"
      }
    },
    {
      "cell_type": "code",
      "source": [
        "(cleaned_data\n",
        " .groupby(['Company ID','Company Name','Industry','SIC Code'])\n",
        " .size()\n",
        " .reset_index()[['Company ID','Company Name','Industry','SIC Code']]\n",
        " .sort_values(by='Company ID'))"
      ],
      "metadata": {
        "colab": {
          "base_uri": "https://localhost:8080/",
          "height": 488
        },
        "id": "ZCxWdDTBHKhT",
        "outputId": "3ed42cfb-df13-410b-9b62-6a8471a44a72"
      },
      "execution_count": 69,
      "outputs": [
        {
          "output_type": "execute_result",
          "data": {
            "text/plain": [
              "   Company ID Company Name               Industry SIC Code\n",
              "0     4976235    E Company              Machinery     5878\n",
              "1     4977221    I Company      Building Products     5624\n",
              "2     4986826    L Company        Auto Components     6090\n",
              "3      498856    J Company        Auto Components     6090\n",
              "4     4989787    C Company              Machinery     5755\n",
              "5     4991368    B Company        Auto Components     4937\n",
              "6     4993687    A Company              Machinery     6085\n",
              "7     4994208    F Company              Machinery     6085\n",
              "8     4994275    D Company              Machinery     5722\n",
              "9      499609    G Company        Auto Components     4150\n",
              "10    4996197    K Company              Machinery     5788\n",
              "11    4997627    H Company              Machinery     5776\n",
              "12     500295    D Company  Aerospace and Defense     6101\n",
              "13    5081187    M Company              Machinery     5886"
            ],
            "text/html": [
              "\n",
              "  <div id=\"df-3a974303-3d5d-4304-a059-f92270152b5e\">\n",
              "    <div class=\"colab-df-container\">\n",
              "      <div>\n",
              "<style scoped>\n",
              "    .dataframe tbody tr th:only-of-type {\n",
              "        vertical-align: middle;\n",
              "    }\n",
              "\n",
              "    .dataframe tbody tr th {\n",
              "        vertical-align: top;\n",
              "    }\n",
              "\n",
              "    .dataframe thead th {\n",
              "        text-align: right;\n",
              "    }\n",
              "</style>\n",
              "<table border=\"1\" class=\"dataframe\">\n",
              "  <thead>\n",
              "    <tr style=\"text-align: right;\">\n",
              "      <th></th>\n",
              "      <th>Company ID</th>\n",
              "      <th>Company Name</th>\n",
              "      <th>Industry</th>\n",
              "      <th>SIC Code</th>\n",
              "    </tr>\n",
              "  </thead>\n",
              "  <tbody>\n",
              "    <tr>\n",
              "      <th>0</th>\n",
              "      <td>4976235</td>\n",
              "      <td>E Company</td>\n",
              "      <td>Machinery</td>\n",
              "      <td>5878</td>\n",
              "    </tr>\n",
              "    <tr>\n",
              "      <th>1</th>\n",
              "      <td>4977221</td>\n",
              "      <td>I Company</td>\n",
              "      <td>Building Products</td>\n",
              "      <td>5624</td>\n",
              "    </tr>\n",
              "    <tr>\n",
              "      <th>2</th>\n",
              "      <td>4986826</td>\n",
              "      <td>L Company</td>\n",
              "      <td>Auto Components</td>\n",
              "      <td>6090</td>\n",
              "    </tr>\n",
              "    <tr>\n",
              "      <th>3</th>\n",
              "      <td>498856</td>\n",
              "      <td>J Company</td>\n",
              "      <td>Auto Components</td>\n",
              "      <td>6090</td>\n",
              "    </tr>\n",
              "    <tr>\n",
              "      <th>4</th>\n",
              "      <td>4989787</td>\n",
              "      <td>C Company</td>\n",
              "      <td>Machinery</td>\n",
              "      <td>5755</td>\n",
              "    </tr>\n",
              "    <tr>\n",
              "      <th>5</th>\n",
              "      <td>4991368</td>\n",
              "      <td>B Company</td>\n",
              "      <td>Auto Components</td>\n",
              "      <td>4937</td>\n",
              "    </tr>\n",
              "    <tr>\n",
              "      <th>6</th>\n",
              "      <td>4993687</td>\n",
              "      <td>A Company</td>\n",
              "      <td>Machinery</td>\n",
              "      <td>6085</td>\n",
              "    </tr>\n",
              "    <tr>\n",
              "      <th>7</th>\n",
              "      <td>4994208</td>\n",
              "      <td>F Company</td>\n",
              "      <td>Machinery</td>\n",
              "      <td>6085</td>\n",
              "    </tr>\n",
              "    <tr>\n",
              "      <th>8</th>\n",
              "      <td>4994275</td>\n",
              "      <td>D Company</td>\n",
              "      <td>Machinery</td>\n",
              "      <td>5722</td>\n",
              "    </tr>\n",
              "    <tr>\n",
              "      <th>9</th>\n",
              "      <td>499609</td>\n",
              "      <td>G Company</td>\n",
              "      <td>Auto Components</td>\n",
              "      <td>4150</td>\n",
              "    </tr>\n",
              "    <tr>\n",
              "      <th>10</th>\n",
              "      <td>4996197</td>\n",
              "      <td>K Company</td>\n",
              "      <td>Machinery</td>\n",
              "      <td>5788</td>\n",
              "    </tr>\n",
              "    <tr>\n",
              "      <th>11</th>\n",
              "      <td>4997627</td>\n",
              "      <td>H Company</td>\n",
              "      <td>Machinery</td>\n",
              "      <td>5776</td>\n",
              "    </tr>\n",
              "    <tr>\n",
              "      <th>12</th>\n",
              "      <td>500295</td>\n",
              "      <td>D Company</td>\n",
              "      <td>Aerospace and Defense</td>\n",
              "      <td>6101</td>\n",
              "    </tr>\n",
              "    <tr>\n",
              "      <th>13</th>\n",
              "      <td>5081187</td>\n",
              "      <td>M Company</td>\n",
              "      <td>Machinery</td>\n",
              "      <td>5886</td>\n",
              "    </tr>\n",
              "  </tbody>\n",
              "</table>\n",
              "</div>\n",
              "      <button class=\"colab-df-convert\" onclick=\"convertToInteractive('df-3a974303-3d5d-4304-a059-f92270152b5e')\"\n",
              "              title=\"Convert this dataframe to an interactive table.\"\n",
              "              style=\"display:none;\">\n",
              "        \n",
              "  <svg xmlns=\"http://www.w3.org/2000/svg\" height=\"24px\"viewBox=\"0 0 24 24\"\n",
              "       width=\"24px\">\n",
              "    <path d=\"M0 0h24v24H0V0z\" fill=\"none\"/>\n",
              "    <path d=\"M18.56 5.44l.94 2.06.94-2.06 2.06-.94-2.06-.94-.94-2.06-.94 2.06-2.06.94zm-11 1L8.5 8.5l.94-2.06 2.06-.94-2.06-.94L8.5 2.5l-.94 2.06-2.06.94zm10 10l.94 2.06.94-2.06 2.06-.94-2.06-.94-.94-2.06-.94 2.06-2.06.94z\"/><path d=\"M17.41 7.96l-1.37-1.37c-.4-.4-.92-.59-1.43-.59-.52 0-1.04.2-1.43.59L10.3 9.45l-7.72 7.72c-.78.78-.78 2.05 0 2.83L4 21.41c.39.39.9.59 1.41.59.51 0 1.02-.2 1.41-.59l7.78-7.78 2.81-2.81c.8-.78.8-2.07 0-2.86zM5.41 20L4 18.59l7.72-7.72 1.47 1.35L5.41 20z\"/>\n",
              "  </svg>\n",
              "      </button>\n",
              "      \n",
              "  <style>\n",
              "    .colab-df-container {\n",
              "      display:flex;\n",
              "      flex-wrap:wrap;\n",
              "      gap: 12px;\n",
              "    }\n",
              "\n",
              "    .colab-df-convert {\n",
              "      background-color: #E8F0FE;\n",
              "      border: none;\n",
              "      border-radius: 50%;\n",
              "      cursor: pointer;\n",
              "      display: none;\n",
              "      fill: #1967D2;\n",
              "      height: 32px;\n",
              "      padding: 0 0 0 0;\n",
              "      width: 32px;\n",
              "    }\n",
              "\n",
              "    .colab-df-convert:hover {\n",
              "      background-color: #E2EBFA;\n",
              "      box-shadow: 0px 1px 2px rgba(60, 64, 67, 0.3), 0px 1px 3px 1px rgba(60, 64, 67, 0.15);\n",
              "      fill: #174EA6;\n",
              "    }\n",
              "\n",
              "    [theme=dark] .colab-df-convert {\n",
              "      background-color: #3B4455;\n",
              "      fill: #D2E3FC;\n",
              "    }\n",
              "\n",
              "    [theme=dark] .colab-df-convert:hover {\n",
              "      background-color: #434B5C;\n",
              "      box-shadow: 0px 1px 3px 1px rgba(0, 0, 0, 0.15);\n",
              "      filter: drop-shadow(0px 1px 2px rgba(0, 0, 0, 0.3));\n",
              "      fill: #FFFFFF;\n",
              "    }\n",
              "  </style>\n",
              "\n",
              "      <script>\n",
              "        const buttonEl =\n",
              "          document.querySelector('#df-3a974303-3d5d-4304-a059-f92270152b5e button.colab-df-convert');\n",
              "        buttonEl.style.display =\n",
              "          google.colab.kernel.accessAllowed ? 'block' : 'none';\n",
              "\n",
              "        async function convertToInteractive(key) {\n",
              "          const element = document.querySelector('#df-3a974303-3d5d-4304-a059-f92270152b5e');\n",
              "          const dataTable =\n",
              "            await google.colab.kernel.invokeFunction('convertToInteractive',\n",
              "                                                     [key], {});\n",
              "          if (!dataTable) return;\n",
              "\n",
              "          const docLinkHtml = 'Like what you see? Visit the ' +\n",
              "            '<a target=\"_blank\" href=https://colab.research.google.com/notebooks/data_table.ipynb>data table notebook</a>'\n",
              "            + ' to learn more about interactive tables.';\n",
              "          element.innerHTML = '';\n",
              "          dataTable['output_type'] = 'display_data';\n",
              "          await google.colab.output.renderOutput(dataTable, element);\n",
              "          const docLink = document.createElement('div');\n",
              "          docLink.innerHTML = docLinkHtml;\n",
              "          element.appendChild(docLink);\n",
              "        }\n",
              "      </script>\n",
              "    </div>\n",
              "  </div>\n",
              "  "
            ]
          },
          "metadata": {},
          "execution_count": 69
        }
      ]
    },
    {
      "cell_type": "markdown",
      "source": [
        "#### Check Trading Currency"
      ],
      "metadata": {
        "id": "4kh48nkOF_I7"
      }
    },
    {
      "cell_type": "code",
      "source": [
        "cleaned_data.columns"
      ],
      "metadata": {
        "colab": {
          "base_uri": "https://localhost:8080/"
        },
        "id": "Il6jMJozF-eS",
        "outputId": "04f61d4a-1ef7-4f45-c5e7-20a8aa5120f1"
      },
      "execution_count": 70,
      "outputs": [
        {
          "output_type": "execute_result",
          "data": {
            "text/plain": [
              "Index(['Company ID', 'Fiscal Year', 'Industry', 'Trading Currency', 'SP',\n",
              "       'CDS', 'APD', 'ARD', 'ADA', 'Company Name', 'SIC Code'],\n",
              "      dtype='object')"
            ]
          },
          "metadata": {},
          "execution_count": 70
        }
      ]
    },
    {
      "cell_type": "code",
      "source": [
        "cleaned_data[~cleaned_data['Trading Currency'].isin(['USD','GBP'])]"
      ],
      "metadata": {
        "colab": {
          "base_uri": "https://localhost:8080/",
          "height": 142
        },
        "id": "_JJo4achGLqq",
        "outputId": "ef423335-574c-4c96-e034-db0c1395812c"
      },
      "execution_count": 71,
      "outputs": [
        {
          "output_type": "execute_result",
          "data": {
            "text/plain": [
              "  Company ID  Fiscal Year   Industry Trading Currency  SP  CDS  APD  ARD  ADA  \\\n",
              "4    4993687         2014  Machinery               3$  55  950   91   34    0   \n",
              "\n",
              "  Company Name SIC Code  \n",
              "4    A Company     6085  "
            ],
            "text/html": [
              "\n",
              "  <div id=\"df-d32e6bb6-6319-4c7e-82f2-bc78000cced5\">\n",
              "    <div class=\"colab-df-container\">\n",
              "      <div>\n",
              "<style scoped>\n",
              "    .dataframe tbody tr th:only-of-type {\n",
              "        vertical-align: middle;\n",
              "    }\n",
              "\n",
              "    .dataframe tbody tr th {\n",
              "        vertical-align: top;\n",
              "    }\n",
              "\n",
              "    .dataframe thead th {\n",
              "        text-align: right;\n",
              "    }\n",
              "</style>\n",
              "<table border=\"1\" class=\"dataframe\">\n",
              "  <thead>\n",
              "    <tr style=\"text-align: right;\">\n",
              "      <th></th>\n",
              "      <th>Company ID</th>\n",
              "      <th>Fiscal Year</th>\n",
              "      <th>Industry</th>\n",
              "      <th>Trading Currency</th>\n",
              "      <th>SP</th>\n",
              "      <th>CDS</th>\n",
              "      <th>APD</th>\n",
              "      <th>ARD</th>\n",
              "      <th>ADA</th>\n",
              "      <th>Company Name</th>\n",
              "      <th>SIC Code</th>\n",
              "    </tr>\n",
              "  </thead>\n",
              "  <tbody>\n",
              "    <tr>\n",
              "      <th>4</th>\n",
              "      <td>4993687</td>\n",
              "      <td>2014</td>\n",
              "      <td>Machinery</td>\n",
              "      <td>3$</td>\n",
              "      <td>55</td>\n",
              "      <td>950</td>\n",
              "      <td>91</td>\n",
              "      <td>34</td>\n",
              "      <td>0</td>\n",
              "      <td>A Company</td>\n",
              "      <td>6085</td>\n",
              "    </tr>\n",
              "  </tbody>\n",
              "</table>\n",
              "</div>\n",
              "      <button class=\"colab-df-convert\" onclick=\"convertToInteractive('df-d32e6bb6-6319-4c7e-82f2-bc78000cced5')\"\n",
              "              title=\"Convert this dataframe to an interactive table.\"\n",
              "              style=\"display:none;\">\n",
              "        \n",
              "  <svg xmlns=\"http://www.w3.org/2000/svg\" height=\"24px\"viewBox=\"0 0 24 24\"\n",
              "       width=\"24px\">\n",
              "    <path d=\"M0 0h24v24H0V0z\" fill=\"none\"/>\n",
              "    <path d=\"M18.56 5.44l.94 2.06.94-2.06 2.06-.94-2.06-.94-.94-2.06-.94 2.06-2.06.94zm-11 1L8.5 8.5l.94-2.06 2.06-.94-2.06-.94L8.5 2.5l-.94 2.06-2.06.94zm10 10l.94 2.06.94-2.06 2.06-.94-2.06-.94-.94-2.06-.94 2.06-2.06.94z\"/><path d=\"M17.41 7.96l-1.37-1.37c-.4-.4-.92-.59-1.43-.59-.52 0-1.04.2-1.43.59L10.3 9.45l-7.72 7.72c-.78.78-.78 2.05 0 2.83L4 21.41c.39.39.9.59 1.41.59.51 0 1.02-.2 1.41-.59l7.78-7.78 2.81-2.81c.8-.78.8-2.07 0-2.86zM5.41 20L4 18.59l7.72-7.72 1.47 1.35L5.41 20z\"/>\n",
              "  </svg>\n",
              "      </button>\n",
              "      \n",
              "  <style>\n",
              "    .colab-df-container {\n",
              "      display:flex;\n",
              "      flex-wrap:wrap;\n",
              "      gap: 12px;\n",
              "    }\n",
              "\n",
              "    .colab-df-convert {\n",
              "      background-color: #E8F0FE;\n",
              "      border: none;\n",
              "      border-radius: 50%;\n",
              "      cursor: pointer;\n",
              "      display: none;\n",
              "      fill: #1967D2;\n",
              "      height: 32px;\n",
              "      padding: 0 0 0 0;\n",
              "      width: 32px;\n",
              "    }\n",
              "\n",
              "    .colab-df-convert:hover {\n",
              "      background-color: #E2EBFA;\n",
              "      box-shadow: 0px 1px 2px rgba(60, 64, 67, 0.3), 0px 1px 3px 1px rgba(60, 64, 67, 0.15);\n",
              "      fill: #174EA6;\n",
              "    }\n",
              "\n",
              "    [theme=dark] .colab-df-convert {\n",
              "      background-color: #3B4455;\n",
              "      fill: #D2E3FC;\n",
              "    }\n",
              "\n",
              "    [theme=dark] .colab-df-convert:hover {\n",
              "      background-color: #434B5C;\n",
              "      box-shadow: 0px 1px 3px 1px rgba(0, 0, 0, 0.15);\n",
              "      filter: drop-shadow(0px 1px 2px rgba(0, 0, 0, 0.3));\n",
              "      fill: #FFFFFF;\n",
              "    }\n",
              "  </style>\n",
              "\n",
              "      <script>\n",
              "        const buttonEl =\n",
              "          document.querySelector('#df-d32e6bb6-6319-4c7e-82f2-bc78000cced5 button.colab-df-convert');\n",
              "        buttonEl.style.display =\n",
              "          google.colab.kernel.accessAllowed ? 'block' : 'none';\n",
              "\n",
              "        async function convertToInteractive(key) {\n",
              "          const element = document.querySelector('#df-d32e6bb6-6319-4c7e-82f2-bc78000cced5');\n",
              "          const dataTable =\n",
              "            await google.colab.kernel.invokeFunction('convertToInteractive',\n",
              "                                                     [key], {});\n",
              "          if (!dataTable) return;\n",
              "\n",
              "          const docLinkHtml = 'Like what you see? Visit the ' +\n",
              "            '<a target=\"_blank\" href=https://colab.research.google.com/notebooks/data_table.ipynb>data table notebook</a>'\n",
              "            + ' to learn more about interactive tables.';\n",
              "          element.innerHTML = '';\n",
              "          dataTable['output_type'] = 'display_data';\n",
              "          await google.colab.output.renderOutput(dataTable, element);\n",
              "          const docLink = document.createElement('div');\n",
              "          docLink.innerHTML = docLinkHtml;\n",
              "          element.appendChild(docLink);\n",
              "        }\n",
              "      </script>\n",
              "    </div>\n",
              "  </div>\n",
              "  "
            ]
          },
          "metadata": {},
          "execution_count": 71
        }
      ]
    },
    {
      "cell_type": "markdown",
      "source": [
        "One record under A Company has issues under currency column. We expect this to be either USD or GBP."
      ],
      "metadata": {
        "id": "VZVC4vX5L5-Z"
      }
    },
    {
      "cell_type": "code",
      "source": [
        "np.unique(cleaned_data[cleaned_data['Company Name']==\"A Company\"]['Trading Currency'])"
      ],
      "metadata": {
        "colab": {
          "base_uri": "https://localhost:8080/"
        },
        "id": "BJs54z9fGjXx",
        "outputId": "d21e7461-7ef6-4766-bf2c-fe6a7ddca7e3"
      },
      "execution_count": 72,
      "outputs": [
        {
          "output_type": "execute_result",
          "data": {
            "text/plain": [
              "array(['3$', 'USD'], dtype=object)"
            ]
          },
          "metadata": {},
          "execution_count": 72
        }
      ]
    },
    {
      "cell_type": "markdown",
      "source": [
        "From data, currency associated with A Company is USD. Check in database."
      ],
      "metadata": {
        "id": "rYhWtHMGMZDt"
      }
    },
    {
      "cell_type": "code",
      "source": [
        "np.unique(Example_DB[Example_DB['Company Name']==\"A Company\"]['Trading Currency'])"
      ],
      "metadata": {
        "colab": {
          "base_uri": "https://localhost:8080/"
        },
        "id": "tjv__9tIMRtK",
        "outputId": "24b3d0a4-4980-4e43-86d3-940f15c1951e"
      },
      "execution_count": 73,
      "outputs": [
        {
          "output_type": "execute_result",
          "data": {
            "text/plain": [
              "array(['USD'], dtype=object)"
            ]
          },
          "metadata": {},
          "execution_count": 73
        }
      ]
    },
    {
      "cell_type": "markdown",
      "source": [
        "All searches pointed at USD, thus the fix we will be applying here is transforming '3$' into 'USD'."
      ],
      "metadata": {
        "id": "5wSWmiQdMo2u"
      }
    },
    {
      "cell_type": "code",
      "source": [
        "currency_array = cleaned_data['Trading Currency']\n",
        "currency_array = np.where(currency_array=='3$','USD',currency_array)"
      ],
      "metadata": {
        "id": "QgDNd4NKMnKu"
      },
      "execution_count": 74,
      "outputs": []
    },
    {
      "cell_type": "code",
      "source": [
        "cleaned_data['Trading Currency'] = currency_array"
      ],
      "metadata": {
        "id": "Rxlilf-1M9FE"
      },
      "execution_count": 75,
      "outputs": []
    },
    {
      "cell_type": "code",
      "source": [
        "np.unique(cleaned_data['Trading Currency'])"
      ],
      "metadata": {
        "colab": {
          "base_uri": "https://localhost:8080/"
        },
        "id": "prij18HBNCUf",
        "outputId": "3ad43b2e-2df2-4416-cc16-87ddd31efbff"
      },
      "execution_count": 76,
      "outputs": [
        {
          "output_type": "execute_result",
          "data": {
            "text/plain": [
              "array(['GBP', 'USD'], dtype=object)"
            ]
          },
          "metadata": {},
          "execution_count": 76
        }
      ]
    },
    {
      "cell_type": "markdown",
      "source": [
        "Checkpoint: save cleaned Example Data in csv"
      ],
      "metadata": {
        "id": "L_yd1YEn1cCJ"
      }
    },
    {
      "cell_type": "code",
      "source": [
        "cleaned_data.to_csv('example_data_clean.csv',index=False)"
      ],
      "metadata": {
        "id": "_-tAElbe1a1u"
      },
      "execution_count": 77,
      "outputs": []
    },
    {
      "cell_type": "code",
      "source": [
        "cleaned_data.shape"
      ],
      "metadata": {
        "colab": {
          "base_uri": "https://localhost:8080/"
        },
        "id": "eOSpXCWHKVEw",
        "outputId": "4983bf5c-5ce7-40bd-ac11-04b7239bf9ea"
      },
      "execution_count": 108,
      "outputs": [
        {
          "output_type": "execute_result",
          "data": {
            "text/plain": [
              "(111, 11)"
            ]
          },
          "metadata": {},
          "execution_count": 108
        }
      ]
    },
    {
      "cell_type": "markdown",
      "source": [
        "### Formatting Data to Match with Database"
      ],
      "metadata": {
        "id": "UzMgmGpINGxP"
      }
    },
    {
      "cell_type": "code",
      "source": [
        "cleaned_data.columns"
      ],
      "metadata": {
        "colab": {
          "base_uri": "https://localhost:8080/"
        },
        "id": "xF4Y4f78NFcN",
        "outputId": "017a835f-500c-4153-e07f-072f74e2600a"
      },
      "execution_count": 78,
      "outputs": [
        {
          "output_type": "execute_result",
          "data": {
            "text/plain": [
              "Index(['Company ID', 'Fiscal Year', 'Industry', 'Trading Currency', 'SP',\n",
              "       'CDS', 'APD', 'ARD', 'ADA', 'Company Name', 'SIC Code'],\n",
              "      dtype='object')"
            ]
          },
          "metadata": {},
          "execution_count": 78
        }
      ]
    },
    {
      "cell_type": "code",
      "source": [
        "cleaned_data_format = cleaned_data.set_index(['Company ID', 'Company Name', 'Fiscal Year', 'Industry', 'SIC Code','Trading Currency'])\n",
        "cleaned_data_format = cleaned_data_format.stack(dropna=False).reset_index()\n",
        "cleaned_data_format.columns = ['Company ID', 'Company Name', 'Fiscal Year', 'Industry', 'SIC Code','Trading Currency', 'Metric Name', 'Value']"
      ],
      "metadata": {
        "id": "JLY9WA82NSoX"
      },
      "execution_count": 79,
      "outputs": []
    },
    {
      "cell_type": "code",
      "source": [
        "cleaned_data_format.columns"
      ],
      "metadata": {
        "colab": {
          "base_uri": "https://localhost:8080/"
        },
        "id": "Wd1ZrvJVcS2c",
        "outputId": "e3e47771-36f7-4024-bee2-995c6cf5ed20"
      },
      "execution_count": 80,
      "outputs": [
        {
          "output_type": "execute_result",
          "data": {
            "text/plain": [
              "Index(['Company ID', 'Company Name', 'Fiscal Year', 'Industry', 'SIC Code',\n",
              "       'Trading Currency', 'Metric Name', 'Value'],\n",
              "      dtype='object')"
            ]
          },
          "metadata": {},
          "execution_count": 80
        }
      ]
    },
    {
      "cell_type": "code",
      "source": [
        "cleaned_data_format = cleaned_data_format.sort_values(by = ['Metric Name','Company Name','Company ID','Industry','Fiscal Year'],ascending=[False,True,True,True,True])"
      ],
      "metadata": {
        "id": "vjc1G5xcOeJ9"
      },
      "execution_count": 81,
      "outputs": []
    },
    {
      "cell_type": "code",
      "source": [
        "cleaned_data_format.head(10)"
      ],
      "metadata": {
        "colab": {
          "base_uri": "https://localhost:8080/",
          "height": 442
        },
        "id": "-noEkM8qN3ib",
        "outputId": "8863a10b-854c-46ae-c517-93d7763d66a4"
      },
      "execution_count": 82,
      "outputs": [
        {
          "output_type": "execute_result",
          "data": {
            "text/plain": [
              "   Company ID Company Name  Fiscal Year         Industry SIC Code  \\\n",
              "0     4993687    A Company         2010        Machinery     6085   \n",
              "5     4993687    A Company         2011        Machinery     6085   \n",
              "10    4993687    A Company         2012        Machinery     6085   \n",
              "15    4993687    A Company         2013        Machinery     6085   \n",
              "20    4993687    A Company         2014        Machinery     6085   \n",
              "25    4993687    A Company         2015        Machinery     6085   \n",
              "30    4993687    A Company         2016        Machinery     6085   \n",
              "35    4993687    A Company         2017        Machinery     6085   \n",
              "40    4993687    A Company         2018        Machinery     6085   \n",
              "45    4991368    B Company         2009  Auto Components     4937   \n",
              "\n",
              "   Trading Currency Metric Name  Value  \n",
              "0               USD          SP     75  \n",
              "5               USD          SP     66  \n",
              "10              USD          SP     29  \n",
              "15              USD          SP     56  \n",
              "20              USD          SP     55  \n",
              "25              USD          SP     19  \n",
              "30              USD          SP     35  \n",
              "35              USD          SP     66  \n",
              "40              USD          SP     52  \n",
              "45              USD          SP     22  "
            ],
            "text/html": [
              "\n",
              "  <div id=\"df-ef5fd95f-a7f1-40c8-8a94-a7252d38f43c\">\n",
              "    <div class=\"colab-df-container\">\n",
              "      <div>\n",
              "<style scoped>\n",
              "    .dataframe tbody tr th:only-of-type {\n",
              "        vertical-align: middle;\n",
              "    }\n",
              "\n",
              "    .dataframe tbody tr th {\n",
              "        vertical-align: top;\n",
              "    }\n",
              "\n",
              "    .dataframe thead th {\n",
              "        text-align: right;\n",
              "    }\n",
              "</style>\n",
              "<table border=\"1\" class=\"dataframe\">\n",
              "  <thead>\n",
              "    <tr style=\"text-align: right;\">\n",
              "      <th></th>\n",
              "      <th>Company ID</th>\n",
              "      <th>Company Name</th>\n",
              "      <th>Fiscal Year</th>\n",
              "      <th>Industry</th>\n",
              "      <th>SIC Code</th>\n",
              "      <th>Trading Currency</th>\n",
              "      <th>Metric Name</th>\n",
              "      <th>Value</th>\n",
              "    </tr>\n",
              "  </thead>\n",
              "  <tbody>\n",
              "    <tr>\n",
              "      <th>0</th>\n",
              "      <td>4993687</td>\n",
              "      <td>A Company</td>\n",
              "      <td>2010</td>\n",
              "      <td>Machinery</td>\n",
              "      <td>6085</td>\n",
              "      <td>USD</td>\n",
              "      <td>SP</td>\n",
              "      <td>75</td>\n",
              "    </tr>\n",
              "    <tr>\n",
              "      <th>5</th>\n",
              "      <td>4993687</td>\n",
              "      <td>A Company</td>\n",
              "      <td>2011</td>\n",
              "      <td>Machinery</td>\n",
              "      <td>6085</td>\n",
              "      <td>USD</td>\n",
              "      <td>SP</td>\n",
              "      <td>66</td>\n",
              "    </tr>\n",
              "    <tr>\n",
              "      <th>10</th>\n",
              "      <td>4993687</td>\n",
              "      <td>A Company</td>\n",
              "      <td>2012</td>\n",
              "      <td>Machinery</td>\n",
              "      <td>6085</td>\n",
              "      <td>USD</td>\n",
              "      <td>SP</td>\n",
              "      <td>29</td>\n",
              "    </tr>\n",
              "    <tr>\n",
              "      <th>15</th>\n",
              "      <td>4993687</td>\n",
              "      <td>A Company</td>\n",
              "      <td>2013</td>\n",
              "      <td>Machinery</td>\n",
              "      <td>6085</td>\n",
              "      <td>USD</td>\n",
              "      <td>SP</td>\n",
              "      <td>56</td>\n",
              "    </tr>\n",
              "    <tr>\n",
              "      <th>20</th>\n",
              "      <td>4993687</td>\n",
              "      <td>A Company</td>\n",
              "      <td>2014</td>\n",
              "      <td>Machinery</td>\n",
              "      <td>6085</td>\n",
              "      <td>USD</td>\n",
              "      <td>SP</td>\n",
              "      <td>55</td>\n",
              "    </tr>\n",
              "    <tr>\n",
              "      <th>25</th>\n",
              "      <td>4993687</td>\n",
              "      <td>A Company</td>\n",
              "      <td>2015</td>\n",
              "      <td>Machinery</td>\n",
              "      <td>6085</td>\n",
              "      <td>USD</td>\n",
              "      <td>SP</td>\n",
              "      <td>19</td>\n",
              "    </tr>\n",
              "    <tr>\n",
              "      <th>30</th>\n",
              "      <td>4993687</td>\n",
              "      <td>A Company</td>\n",
              "      <td>2016</td>\n",
              "      <td>Machinery</td>\n",
              "      <td>6085</td>\n",
              "      <td>USD</td>\n",
              "      <td>SP</td>\n",
              "      <td>35</td>\n",
              "    </tr>\n",
              "    <tr>\n",
              "      <th>35</th>\n",
              "      <td>4993687</td>\n",
              "      <td>A Company</td>\n",
              "      <td>2017</td>\n",
              "      <td>Machinery</td>\n",
              "      <td>6085</td>\n",
              "      <td>USD</td>\n",
              "      <td>SP</td>\n",
              "      <td>66</td>\n",
              "    </tr>\n",
              "    <tr>\n",
              "      <th>40</th>\n",
              "      <td>4993687</td>\n",
              "      <td>A Company</td>\n",
              "      <td>2018</td>\n",
              "      <td>Machinery</td>\n",
              "      <td>6085</td>\n",
              "      <td>USD</td>\n",
              "      <td>SP</td>\n",
              "      <td>52</td>\n",
              "    </tr>\n",
              "    <tr>\n",
              "      <th>45</th>\n",
              "      <td>4991368</td>\n",
              "      <td>B Company</td>\n",
              "      <td>2009</td>\n",
              "      <td>Auto Components</td>\n",
              "      <td>4937</td>\n",
              "      <td>USD</td>\n",
              "      <td>SP</td>\n",
              "      <td>22</td>\n",
              "    </tr>\n",
              "  </tbody>\n",
              "</table>\n",
              "</div>\n",
              "      <button class=\"colab-df-convert\" onclick=\"convertToInteractive('df-ef5fd95f-a7f1-40c8-8a94-a7252d38f43c')\"\n",
              "              title=\"Convert this dataframe to an interactive table.\"\n",
              "              style=\"display:none;\">\n",
              "        \n",
              "  <svg xmlns=\"http://www.w3.org/2000/svg\" height=\"24px\"viewBox=\"0 0 24 24\"\n",
              "       width=\"24px\">\n",
              "    <path d=\"M0 0h24v24H0V0z\" fill=\"none\"/>\n",
              "    <path d=\"M18.56 5.44l.94 2.06.94-2.06 2.06-.94-2.06-.94-.94-2.06-.94 2.06-2.06.94zm-11 1L8.5 8.5l.94-2.06 2.06-.94-2.06-.94L8.5 2.5l-.94 2.06-2.06.94zm10 10l.94 2.06.94-2.06 2.06-.94-2.06-.94-.94-2.06-.94 2.06-2.06.94z\"/><path d=\"M17.41 7.96l-1.37-1.37c-.4-.4-.92-.59-1.43-.59-.52 0-1.04.2-1.43.59L10.3 9.45l-7.72 7.72c-.78.78-.78 2.05 0 2.83L4 21.41c.39.39.9.59 1.41.59.51 0 1.02-.2 1.41-.59l7.78-7.78 2.81-2.81c.8-.78.8-2.07 0-2.86zM5.41 20L4 18.59l7.72-7.72 1.47 1.35L5.41 20z\"/>\n",
              "  </svg>\n",
              "      </button>\n",
              "      \n",
              "  <style>\n",
              "    .colab-df-container {\n",
              "      display:flex;\n",
              "      flex-wrap:wrap;\n",
              "      gap: 12px;\n",
              "    }\n",
              "\n",
              "    .colab-df-convert {\n",
              "      background-color: #E8F0FE;\n",
              "      border: none;\n",
              "      border-radius: 50%;\n",
              "      cursor: pointer;\n",
              "      display: none;\n",
              "      fill: #1967D2;\n",
              "      height: 32px;\n",
              "      padding: 0 0 0 0;\n",
              "      width: 32px;\n",
              "    }\n",
              "\n",
              "    .colab-df-convert:hover {\n",
              "      background-color: #E2EBFA;\n",
              "      box-shadow: 0px 1px 2px rgba(60, 64, 67, 0.3), 0px 1px 3px 1px rgba(60, 64, 67, 0.15);\n",
              "      fill: #174EA6;\n",
              "    }\n",
              "\n",
              "    [theme=dark] .colab-df-convert {\n",
              "      background-color: #3B4455;\n",
              "      fill: #D2E3FC;\n",
              "    }\n",
              "\n",
              "    [theme=dark] .colab-df-convert:hover {\n",
              "      background-color: #434B5C;\n",
              "      box-shadow: 0px 1px 3px 1px rgba(0, 0, 0, 0.15);\n",
              "      filter: drop-shadow(0px 1px 2px rgba(0, 0, 0, 0.3));\n",
              "      fill: #FFFFFF;\n",
              "    }\n",
              "  </style>\n",
              "\n",
              "      <script>\n",
              "        const buttonEl =\n",
              "          document.querySelector('#df-ef5fd95f-a7f1-40c8-8a94-a7252d38f43c button.colab-df-convert');\n",
              "        buttonEl.style.display =\n",
              "          google.colab.kernel.accessAllowed ? 'block' : 'none';\n",
              "\n",
              "        async function convertToInteractive(key) {\n",
              "          const element = document.querySelector('#df-ef5fd95f-a7f1-40c8-8a94-a7252d38f43c');\n",
              "          const dataTable =\n",
              "            await google.colab.kernel.invokeFunction('convertToInteractive',\n",
              "                                                     [key], {});\n",
              "          if (!dataTable) return;\n",
              "\n",
              "          const docLinkHtml = 'Like what you see? Visit the ' +\n",
              "            '<a target=\"_blank\" href=https://colab.research.google.com/notebooks/data_table.ipynb>data table notebook</a>'\n",
              "            + ' to learn more about interactive tables.';\n",
              "          element.innerHTML = '';\n",
              "          dataTable['output_type'] = 'display_data';\n",
              "          await google.colab.output.renderOutput(dataTable, element);\n",
              "          const docLink = document.createElement('div');\n",
              "          docLink.innerHTML = docLinkHtml;\n",
              "          element.appendChild(docLink);\n",
              "        }\n",
              "      </script>\n",
              "    </div>\n",
              "  </div>\n",
              "  "
            ]
          },
          "metadata": {},
          "execution_count": 82
        }
      ]
    },
    {
      "cell_type": "code",
      "source": [
        "cleaned_data_format.shape"
      ],
      "metadata": {
        "colab": {
          "base_uri": "https://localhost:8080/"
        },
        "id": "RO48UO_6HkRe",
        "outputId": "154e06b3-ed6e-4a6c-fc0d-beb1d53f7e09"
      },
      "execution_count": 107,
      "outputs": [
        {
          "output_type": "execute_result",
          "data": {
            "text/plain": [
              "(555, 9)"
            ]
          },
          "metadata": {},
          "execution_count": 107
        }
      ]
    },
    {
      "cell_type": "markdown",
      "source": [
        "Checkpoint: Formatted clean data"
      ],
      "metadata": {
        "id": "XgeJrrg61tL8"
      }
    },
    {
      "cell_type": "code",
      "source": [
        "cleaned_data_format.to_csv('example_data_clean_formatted.csv',index=False)"
      ],
      "metadata": {
        "id": "VW2nQKWI1scP"
      },
      "execution_count": 83,
      "outputs": []
    },
    {
      "cell_type": "markdown",
      "source": [
        "### Comparison"
      ],
      "metadata": {
        "id": "pIXIscjEP6hI"
      }
    },
    {
      "cell_type": "markdown",
      "source": [
        "Check consistency of data types before comparison."
      ],
      "metadata": {
        "id": "-5thKYeiRJI8"
      }
    },
    {
      "cell_type": "code",
      "source": [
        "Example_DB[['Company ID','Company Name','Industry','SIC Code','Trading Currency','Metric Name']] = Example_DB[['Company ID','Company Name','Industry','SIC Code','Trading Currency','Metric Name']].astype(str)\n",
        "Example_DB[['Fiscal Year','Value']] = Example_DB[['Fiscal Year','Value']].astype('Int64')"
      ],
      "metadata": {
        "id": "iqoyj5C3RHcn"
      },
      "execution_count": 84,
      "outputs": []
    },
    {
      "cell_type": "code",
      "source": [
        "Example_DB.dtypes"
      ],
      "metadata": {
        "colab": {
          "base_uri": "https://localhost:8080/"
        },
        "id": "HfWL6nbkR02-",
        "outputId": "edaf5c8e-3e0d-4045-e8b4-afeaf20573fd"
      },
      "execution_count": 85,
      "outputs": [
        {
          "output_type": "execute_result",
          "data": {
            "text/plain": [
              "Company ID          object\n",
              "Company Name        object\n",
              "Fiscal Year          Int64\n",
              "Industry            object\n",
              "SIC Code            object\n",
              "Trading Currency    object\n",
              "Metric Name         object\n",
              "Value                Int64\n",
              "dtype: object"
            ]
          },
          "metadata": {},
          "execution_count": 85
        }
      ]
    },
    {
      "cell_type": "code",
      "source": [
        "cleaned_data_format.dtypes"
      ],
      "metadata": {
        "colab": {
          "base_uri": "https://localhost:8080/"
        },
        "id": "fHctE9zyQWTV",
        "outputId": "5bf3a73c-1e1e-46f0-c5d4-c8111c16c9e1"
      },
      "execution_count": 86,
      "outputs": [
        {
          "output_type": "execute_result",
          "data": {
            "text/plain": [
              "Company ID          object\n",
              "Company Name        object\n",
              "Fiscal Year          int64\n",
              "Industry            object\n",
              "SIC Code            object\n",
              "Trading Currency    object\n",
              "Metric Name         object\n",
              "Value                Int64\n",
              "dtype: object"
            ]
          },
          "metadata": {},
          "execution_count": 86
        }
      ]
    },
    {
      "cell_type": "markdown",
      "source": [
        "Save the columns names for comparison"
      ],
      "metadata": {
        "id": "HPnQ5u3qTWj_"
      }
    },
    {
      "cell_type": "code",
      "source": [
        "col_names = list(Example_DB.columns)\n",
        "col_names"
      ],
      "metadata": {
        "colab": {
          "base_uri": "https://localhost:8080/"
        },
        "id": "gLumbRmGTVqd",
        "outputId": "6cb886c4-9212-4163-e5d0-73b227b79090"
      },
      "execution_count": 87,
      "outputs": [
        {
          "output_type": "execute_result",
          "data": {
            "text/plain": [
              "['Company ID',\n",
              " 'Company Name',\n",
              " 'Fiscal Year',\n",
              " 'Industry',\n",
              " 'SIC Code',\n",
              " 'Trading Currency',\n",
              " 'Metric Name',\n",
              " 'Value']"
            ]
          },
          "metadata": {},
          "execution_count": 87
        }
      ]
    },
    {
      "cell_type": "code",
      "source": [
        "Example_DB['data_source'] = 'DB'\n",
        "cleaned_data_format['data_source'] = 'data'"
      ],
      "metadata": {
        "id": "1aUyU2B3SbBe"
      },
      "execution_count": 88,
      "outputs": []
    },
    {
      "cell_type": "code",
      "source": [
        "compare = pd.merge(cleaned_data_format,Example_DB,how=\"outer\",on=col_names[:-1], suffixes=('_data', '_db'))"
      ],
      "metadata": {
        "id": "W7PJ7vtETl6M"
      },
      "execution_count": 89,
      "outputs": []
    },
    {
      "cell_type": "code",
      "source": [
        "compare.columns"
      ],
      "metadata": {
        "colab": {
          "base_uri": "https://localhost:8080/"
        },
        "id": "csAMrkPyUWb7",
        "outputId": "8afb12b2-8bd8-406e-a492-8724d4e4d113"
      },
      "execution_count": 90,
      "outputs": [
        {
          "output_type": "execute_result",
          "data": {
            "text/plain": [
              "Index(['Company ID', 'Company Name', 'Fiscal Year', 'Industry', 'SIC Code',\n",
              "       'Trading Currency', 'Metric Name', 'Value_data', 'data_source_data',\n",
              "       'Value_db', 'data_source_db'],\n",
              "      dtype='object')"
            ]
          },
          "metadata": {},
          "execution_count": 90
        }
      ]
    },
    {
      "cell_type": "code",
      "source": [
        "compare.head(10)"
      ],
      "metadata": {
        "colab": {
          "base_uri": "https://localhost:8080/",
          "height": 618
        },
        "id": "1Q7cqEVnUqAL",
        "outputId": "06cfd56b-a278-4d82-d9dc-f4b721e8192d"
      },
      "execution_count": 91,
      "outputs": [
        {
          "output_type": "execute_result",
          "data": {
            "text/plain": [
              "  Company ID Company Name  Fiscal Year         Industry SIC Code  \\\n",
              "0    4993687    A Company         2010        Machinery     6085   \n",
              "1    4993687    A Company         2011        Machinery     6085   \n",
              "2    4993687    A Company         2012        Machinery     6085   \n",
              "3    4993687    A Company         2013        Machinery     6085   \n",
              "4    4993687    A Company         2014        Machinery     6085   \n",
              "5    4993687    A Company         2015        Machinery     6085   \n",
              "6    4993687    A Company         2016        Machinery     6085   \n",
              "7    4993687    A Company         2017        Machinery     6085   \n",
              "8    4993687    A Company         2018        Machinery     6085   \n",
              "9    4991368    B Company         2009  Auto Components     4937   \n",
              "\n",
              "  Trading Currency Metric Name  Value_data data_source_data  Value_db  \\\n",
              "0              USD          SP          75             data        75   \n",
              "1              USD          SP          66             data        66   \n",
              "2              USD          SP          29             data        29   \n",
              "3              USD          SP          56             data        56   \n",
              "4              USD          SP          55             data      <NA>   \n",
              "5              USD          SP          19             data        19   \n",
              "6              USD          SP          35             data        35   \n",
              "7              USD          SP          66             data        66   \n",
              "8              USD          SP          52             data        52   \n",
              "9              USD          SP          22             data      <NA>   \n",
              "\n",
              "  data_source_db  \n",
              "0             DB  \n",
              "1             DB  \n",
              "2             DB  \n",
              "3             DB  \n",
              "4            NaN  \n",
              "5             DB  \n",
              "6             DB  \n",
              "7             DB  \n",
              "8             DB  \n",
              "9            NaN  "
            ],
            "text/html": [
              "\n",
              "  <div id=\"df-31149949-9eb4-4e74-aee8-87993788e1ce\">\n",
              "    <div class=\"colab-df-container\">\n",
              "      <div>\n",
              "<style scoped>\n",
              "    .dataframe tbody tr th:only-of-type {\n",
              "        vertical-align: middle;\n",
              "    }\n",
              "\n",
              "    .dataframe tbody tr th {\n",
              "        vertical-align: top;\n",
              "    }\n",
              "\n",
              "    .dataframe thead th {\n",
              "        text-align: right;\n",
              "    }\n",
              "</style>\n",
              "<table border=\"1\" class=\"dataframe\">\n",
              "  <thead>\n",
              "    <tr style=\"text-align: right;\">\n",
              "      <th></th>\n",
              "      <th>Company ID</th>\n",
              "      <th>Company Name</th>\n",
              "      <th>Fiscal Year</th>\n",
              "      <th>Industry</th>\n",
              "      <th>SIC Code</th>\n",
              "      <th>Trading Currency</th>\n",
              "      <th>Metric Name</th>\n",
              "      <th>Value_data</th>\n",
              "      <th>data_source_data</th>\n",
              "      <th>Value_db</th>\n",
              "      <th>data_source_db</th>\n",
              "    </tr>\n",
              "  </thead>\n",
              "  <tbody>\n",
              "    <tr>\n",
              "      <th>0</th>\n",
              "      <td>4993687</td>\n",
              "      <td>A Company</td>\n",
              "      <td>2010</td>\n",
              "      <td>Machinery</td>\n",
              "      <td>6085</td>\n",
              "      <td>USD</td>\n",
              "      <td>SP</td>\n",
              "      <td>75</td>\n",
              "      <td>data</td>\n",
              "      <td>75</td>\n",
              "      <td>DB</td>\n",
              "    </tr>\n",
              "    <tr>\n",
              "      <th>1</th>\n",
              "      <td>4993687</td>\n",
              "      <td>A Company</td>\n",
              "      <td>2011</td>\n",
              "      <td>Machinery</td>\n",
              "      <td>6085</td>\n",
              "      <td>USD</td>\n",
              "      <td>SP</td>\n",
              "      <td>66</td>\n",
              "      <td>data</td>\n",
              "      <td>66</td>\n",
              "      <td>DB</td>\n",
              "    </tr>\n",
              "    <tr>\n",
              "      <th>2</th>\n",
              "      <td>4993687</td>\n",
              "      <td>A Company</td>\n",
              "      <td>2012</td>\n",
              "      <td>Machinery</td>\n",
              "      <td>6085</td>\n",
              "      <td>USD</td>\n",
              "      <td>SP</td>\n",
              "      <td>29</td>\n",
              "      <td>data</td>\n",
              "      <td>29</td>\n",
              "      <td>DB</td>\n",
              "    </tr>\n",
              "    <tr>\n",
              "      <th>3</th>\n",
              "      <td>4993687</td>\n",
              "      <td>A Company</td>\n",
              "      <td>2013</td>\n",
              "      <td>Machinery</td>\n",
              "      <td>6085</td>\n",
              "      <td>USD</td>\n",
              "      <td>SP</td>\n",
              "      <td>56</td>\n",
              "      <td>data</td>\n",
              "      <td>56</td>\n",
              "      <td>DB</td>\n",
              "    </tr>\n",
              "    <tr>\n",
              "      <th>4</th>\n",
              "      <td>4993687</td>\n",
              "      <td>A Company</td>\n",
              "      <td>2014</td>\n",
              "      <td>Machinery</td>\n",
              "      <td>6085</td>\n",
              "      <td>USD</td>\n",
              "      <td>SP</td>\n",
              "      <td>55</td>\n",
              "      <td>data</td>\n",
              "      <td>&lt;NA&gt;</td>\n",
              "      <td>NaN</td>\n",
              "    </tr>\n",
              "    <tr>\n",
              "      <th>5</th>\n",
              "      <td>4993687</td>\n",
              "      <td>A Company</td>\n",
              "      <td>2015</td>\n",
              "      <td>Machinery</td>\n",
              "      <td>6085</td>\n",
              "      <td>USD</td>\n",
              "      <td>SP</td>\n",
              "      <td>19</td>\n",
              "      <td>data</td>\n",
              "      <td>19</td>\n",
              "      <td>DB</td>\n",
              "    </tr>\n",
              "    <tr>\n",
              "      <th>6</th>\n",
              "      <td>4993687</td>\n",
              "      <td>A Company</td>\n",
              "      <td>2016</td>\n",
              "      <td>Machinery</td>\n",
              "      <td>6085</td>\n",
              "      <td>USD</td>\n",
              "      <td>SP</td>\n",
              "      <td>35</td>\n",
              "      <td>data</td>\n",
              "      <td>35</td>\n",
              "      <td>DB</td>\n",
              "    </tr>\n",
              "    <tr>\n",
              "      <th>7</th>\n",
              "      <td>4993687</td>\n",
              "      <td>A Company</td>\n",
              "      <td>2017</td>\n",
              "      <td>Machinery</td>\n",
              "      <td>6085</td>\n",
              "      <td>USD</td>\n",
              "      <td>SP</td>\n",
              "      <td>66</td>\n",
              "      <td>data</td>\n",
              "      <td>66</td>\n",
              "      <td>DB</td>\n",
              "    </tr>\n",
              "    <tr>\n",
              "      <th>8</th>\n",
              "      <td>4993687</td>\n",
              "      <td>A Company</td>\n",
              "      <td>2018</td>\n",
              "      <td>Machinery</td>\n",
              "      <td>6085</td>\n",
              "      <td>USD</td>\n",
              "      <td>SP</td>\n",
              "      <td>52</td>\n",
              "      <td>data</td>\n",
              "      <td>52</td>\n",
              "      <td>DB</td>\n",
              "    </tr>\n",
              "    <tr>\n",
              "      <th>9</th>\n",
              "      <td>4991368</td>\n",
              "      <td>B Company</td>\n",
              "      <td>2009</td>\n",
              "      <td>Auto Components</td>\n",
              "      <td>4937</td>\n",
              "      <td>USD</td>\n",
              "      <td>SP</td>\n",
              "      <td>22</td>\n",
              "      <td>data</td>\n",
              "      <td>&lt;NA&gt;</td>\n",
              "      <td>NaN</td>\n",
              "    </tr>\n",
              "  </tbody>\n",
              "</table>\n",
              "</div>\n",
              "      <button class=\"colab-df-convert\" onclick=\"convertToInteractive('df-31149949-9eb4-4e74-aee8-87993788e1ce')\"\n",
              "              title=\"Convert this dataframe to an interactive table.\"\n",
              "              style=\"display:none;\">\n",
              "        \n",
              "  <svg xmlns=\"http://www.w3.org/2000/svg\" height=\"24px\"viewBox=\"0 0 24 24\"\n",
              "       width=\"24px\">\n",
              "    <path d=\"M0 0h24v24H0V0z\" fill=\"none\"/>\n",
              "    <path d=\"M18.56 5.44l.94 2.06.94-2.06 2.06-.94-2.06-.94-.94-2.06-.94 2.06-2.06.94zm-11 1L8.5 8.5l.94-2.06 2.06-.94-2.06-.94L8.5 2.5l-.94 2.06-2.06.94zm10 10l.94 2.06.94-2.06 2.06-.94-2.06-.94-.94-2.06-.94 2.06-2.06.94z\"/><path d=\"M17.41 7.96l-1.37-1.37c-.4-.4-.92-.59-1.43-.59-.52 0-1.04.2-1.43.59L10.3 9.45l-7.72 7.72c-.78.78-.78 2.05 0 2.83L4 21.41c.39.39.9.59 1.41.59.51 0 1.02-.2 1.41-.59l7.78-7.78 2.81-2.81c.8-.78.8-2.07 0-2.86zM5.41 20L4 18.59l7.72-7.72 1.47 1.35L5.41 20z\"/>\n",
              "  </svg>\n",
              "      </button>\n",
              "      \n",
              "  <style>\n",
              "    .colab-df-container {\n",
              "      display:flex;\n",
              "      flex-wrap:wrap;\n",
              "      gap: 12px;\n",
              "    }\n",
              "\n",
              "    .colab-df-convert {\n",
              "      background-color: #E8F0FE;\n",
              "      border: none;\n",
              "      border-radius: 50%;\n",
              "      cursor: pointer;\n",
              "      display: none;\n",
              "      fill: #1967D2;\n",
              "      height: 32px;\n",
              "      padding: 0 0 0 0;\n",
              "      width: 32px;\n",
              "    }\n",
              "\n",
              "    .colab-df-convert:hover {\n",
              "      background-color: #E2EBFA;\n",
              "      box-shadow: 0px 1px 2px rgba(60, 64, 67, 0.3), 0px 1px 3px 1px rgba(60, 64, 67, 0.15);\n",
              "      fill: #174EA6;\n",
              "    }\n",
              "\n",
              "    [theme=dark] .colab-df-convert {\n",
              "      background-color: #3B4455;\n",
              "      fill: #D2E3FC;\n",
              "    }\n",
              "\n",
              "    [theme=dark] .colab-df-convert:hover {\n",
              "      background-color: #434B5C;\n",
              "      box-shadow: 0px 1px 3px 1px rgba(0, 0, 0, 0.15);\n",
              "      filter: drop-shadow(0px 1px 2px rgba(0, 0, 0, 0.3));\n",
              "      fill: #FFFFFF;\n",
              "    }\n",
              "  </style>\n",
              "\n",
              "      <script>\n",
              "        const buttonEl =\n",
              "          document.querySelector('#df-31149949-9eb4-4e74-aee8-87993788e1ce button.colab-df-convert');\n",
              "        buttonEl.style.display =\n",
              "          google.colab.kernel.accessAllowed ? 'block' : 'none';\n",
              "\n",
              "        async function convertToInteractive(key) {\n",
              "          const element = document.querySelector('#df-31149949-9eb4-4e74-aee8-87993788e1ce');\n",
              "          const dataTable =\n",
              "            await google.colab.kernel.invokeFunction('convertToInteractive',\n",
              "                                                     [key], {});\n",
              "          if (!dataTable) return;\n",
              "\n",
              "          const docLinkHtml = 'Like what you see? Visit the ' +\n",
              "            '<a target=\"_blank\" href=https://colab.research.google.com/notebooks/data_table.ipynb>data table notebook</a>'\n",
              "            + ' to learn more about interactive tables.';\n",
              "          element.innerHTML = '';\n",
              "          dataTable['output_type'] = 'display_data';\n",
              "          await google.colab.output.renderOutput(dataTable, element);\n",
              "          const docLink = document.createElement('div');\n",
              "          docLink.innerHTML = docLinkHtml;\n",
              "          element.appendChild(docLink);\n",
              "        }\n",
              "      </script>\n",
              "    </div>\n",
              "  </div>\n",
              "  "
            ]
          },
          "metadata": {},
          "execution_count": 91
        }
      ]
    },
    {
      "cell_type": "code",
      "source": [
        "Example_Compare = pd.DataFrame()"
      ],
      "metadata": {
        "id": "1p5fjhXJVCma"
      },
      "execution_count": 92,
      "outputs": []
    },
    {
      "cell_type": "markdown",
      "source": [
        "#### 1. Values not equal\n",
        "Expect records to be found in both data sources, but values of matrics do not match."
      ],
      "metadata": {
        "id": "K1HZjsPoUNvt"
      }
    },
    {
      "cell_type": "code",
      "source": [
        "matched_data = compare[(~compare.data_source_data.isnull())&(~compare.data_source_db.isnull())]"
      ],
      "metadata": {
        "id": "9RCsRjojWIh6"
      },
      "execution_count": 93,
      "outputs": []
    },
    {
      "cell_type": "code",
      "source": [
        "value_not_equal = matched_data[matched_data.Value_data!=matched_data.Value_db][col_names[:-1]+['Value_data','Value_db']]\n",
        "value_not_equal"
      ],
      "metadata": {
        "colab": {
          "base_uri": "https://localhost:8080/",
          "height": 302
        },
        "id": "VODlyzibUSI0",
        "outputId": "41e63f83-5b67-460b-c0f7-674db5a97d42"
      },
      "execution_count": 94,
      "outputs": [
        {
          "output_type": "execute_result",
          "data": {
            "text/plain": [
              "    Company ID Company Name  Fiscal Year         Industry SIC Code  \\\n",
              "22     4989787    C Company         2013        Machinery     5755   \n",
              "97     4986826    L Company         2015  Auto Components     6090   \n",
              "99     4986826    L Company         2017  Auto Components     6090   \n",
              "133    4989787    C Company         2013        Machinery     5755   \n",
              "244    4989787    C Company         2013        Machinery     5755   \n",
              "\n",
              "    Trading Currency Metric Name  Value_data  Value_db  \n",
              "22               USD          SP         172       221  \n",
              "97               USD          SP         179        17  \n",
              "99               USD          SP         196        19  \n",
              "133              USD         CDS          95        52  \n",
              "244              USD         ARD          91        84  "
            ],
            "text/html": [
              "\n",
              "  <div id=\"df-afe300d2-9d7e-4c21-979f-9d820faeea7b\">\n",
              "    <div class=\"colab-df-container\">\n",
              "      <div>\n",
              "<style scoped>\n",
              "    .dataframe tbody tr th:only-of-type {\n",
              "        vertical-align: middle;\n",
              "    }\n",
              "\n",
              "    .dataframe tbody tr th {\n",
              "        vertical-align: top;\n",
              "    }\n",
              "\n",
              "    .dataframe thead th {\n",
              "        text-align: right;\n",
              "    }\n",
              "</style>\n",
              "<table border=\"1\" class=\"dataframe\">\n",
              "  <thead>\n",
              "    <tr style=\"text-align: right;\">\n",
              "      <th></th>\n",
              "      <th>Company ID</th>\n",
              "      <th>Company Name</th>\n",
              "      <th>Fiscal Year</th>\n",
              "      <th>Industry</th>\n",
              "      <th>SIC Code</th>\n",
              "      <th>Trading Currency</th>\n",
              "      <th>Metric Name</th>\n",
              "      <th>Value_data</th>\n",
              "      <th>Value_db</th>\n",
              "    </tr>\n",
              "  </thead>\n",
              "  <tbody>\n",
              "    <tr>\n",
              "      <th>22</th>\n",
              "      <td>4989787</td>\n",
              "      <td>C Company</td>\n",
              "      <td>2013</td>\n",
              "      <td>Machinery</td>\n",
              "      <td>5755</td>\n",
              "      <td>USD</td>\n",
              "      <td>SP</td>\n",
              "      <td>172</td>\n",
              "      <td>221</td>\n",
              "    </tr>\n",
              "    <tr>\n",
              "      <th>97</th>\n",
              "      <td>4986826</td>\n",
              "      <td>L Company</td>\n",
              "      <td>2015</td>\n",
              "      <td>Auto Components</td>\n",
              "      <td>6090</td>\n",
              "      <td>USD</td>\n",
              "      <td>SP</td>\n",
              "      <td>179</td>\n",
              "      <td>17</td>\n",
              "    </tr>\n",
              "    <tr>\n",
              "      <th>99</th>\n",
              "      <td>4986826</td>\n",
              "      <td>L Company</td>\n",
              "      <td>2017</td>\n",
              "      <td>Auto Components</td>\n",
              "      <td>6090</td>\n",
              "      <td>USD</td>\n",
              "      <td>SP</td>\n",
              "      <td>196</td>\n",
              "      <td>19</td>\n",
              "    </tr>\n",
              "    <tr>\n",
              "      <th>133</th>\n",
              "      <td>4989787</td>\n",
              "      <td>C Company</td>\n",
              "      <td>2013</td>\n",
              "      <td>Machinery</td>\n",
              "      <td>5755</td>\n",
              "      <td>USD</td>\n",
              "      <td>CDS</td>\n",
              "      <td>95</td>\n",
              "      <td>52</td>\n",
              "    </tr>\n",
              "    <tr>\n",
              "      <th>244</th>\n",
              "      <td>4989787</td>\n",
              "      <td>C Company</td>\n",
              "      <td>2013</td>\n",
              "      <td>Machinery</td>\n",
              "      <td>5755</td>\n",
              "      <td>USD</td>\n",
              "      <td>ARD</td>\n",
              "      <td>91</td>\n",
              "      <td>84</td>\n",
              "    </tr>\n",
              "  </tbody>\n",
              "</table>\n",
              "</div>\n",
              "      <button class=\"colab-df-convert\" onclick=\"convertToInteractive('df-afe300d2-9d7e-4c21-979f-9d820faeea7b')\"\n",
              "              title=\"Convert this dataframe to an interactive table.\"\n",
              "              style=\"display:none;\">\n",
              "        \n",
              "  <svg xmlns=\"http://www.w3.org/2000/svg\" height=\"24px\"viewBox=\"0 0 24 24\"\n",
              "       width=\"24px\">\n",
              "    <path d=\"M0 0h24v24H0V0z\" fill=\"none\"/>\n",
              "    <path d=\"M18.56 5.44l.94 2.06.94-2.06 2.06-.94-2.06-.94-.94-2.06-.94 2.06-2.06.94zm-11 1L8.5 8.5l.94-2.06 2.06-.94-2.06-.94L8.5 2.5l-.94 2.06-2.06.94zm10 10l.94 2.06.94-2.06 2.06-.94-2.06-.94-.94-2.06-.94 2.06-2.06.94z\"/><path d=\"M17.41 7.96l-1.37-1.37c-.4-.4-.92-.59-1.43-.59-.52 0-1.04.2-1.43.59L10.3 9.45l-7.72 7.72c-.78.78-.78 2.05 0 2.83L4 21.41c.39.39.9.59 1.41.59.51 0 1.02-.2 1.41-.59l7.78-7.78 2.81-2.81c.8-.78.8-2.07 0-2.86zM5.41 20L4 18.59l7.72-7.72 1.47 1.35L5.41 20z\"/>\n",
              "  </svg>\n",
              "      </button>\n",
              "      \n",
              "  <style>\n",
              "    .colab-df-container {\n",
              "      display:flex;\n",
              "      flex-wrap:wrap;\n",
              "      gap: 12px;\n",
              "    }\n",
              "\n",
              "    .colab-df-convert {\n",
              "      background-color: #E8F0FE;\n",
              "      border: none;\n",
              "      border-radius: 50%;\n",
              "      cursor: pointer;\n",
              "      display: none;\n",
              "      fill: #1967D2;\n",
              "      height: 32px;\n",
              "      padding: 0 0 0 0;\n",
              "      width: 32px;\n",
              "    }\n",
              "\n",
              "    .colab-df-convert:hover {\n",
              "      background-color: #E2EBFA;\n",
              "      box-shadow: 0px 1px 2px rgba(60, 64, 67, 0.3), 0px 1px 3px 1px rgba(60, 64, 67, 0.15);\n",
              "      fill: #174EA6;\n",
              "    }\n",
              "\n",
              "    [theme=dark] .colab-df-convert {\n",
              "      background-color: #3B4455;\n",
              "      fill: #D2E3FC;\n",
              "    }\n",
              "\n",
              "    [theme=dark] .colab-df-convert:hover {\n",
              "      background-color: #434B5C;\n",
              "      box-shadow: 0px 1px 3px 1px rgba(0, 0, 0, 0.15);\n",
              "      filter: drop-shadow(0px 1px 2px rgba(0, 0, 0, 0.3));\n",
              "      fill: #FFFFFF;\n",
              "    }\n",
              "  </style>\n",
              "\n",
              "      <script>\n",
              "        const buttonEl =\n",
              "          document.querySelector('#df-afe300d2-9d7e-4c21-979f-9d820faeea7b button.colab-df-convert');\n",
              "        buttonEl.style.display =\n",
              "          google.colab.kernel.accessAllowed ? 'block' : 'none';\n",
              "\n",
              "        async function convertToInteractive(key) {\n",
              "          const element = document.querySelector('#df-afe300d2-9d7e-4c21-979f-9d820faeea7b');\n",
              "          const dataTable =\n",
              "            await google.colab.kernel.invokeFunction('convertToInteractive',\n",
              "                                                     [key], {});\n",
              "          if (!dataTable) return;\n",
              "\n",
              "          const docLinkHtml = 'Like what you see? Visit the ' +\n",
              "            '<a target=\"_blank\" href=https://colab.research.google.com/notebooks/data_table.ipynb>data table notebook</a>'\n",
              "            + ' to learn more about interactive tables.';\n",
              "          element.innerHTML = '';\n",
              "          dataTable['output_type'] = 'display_data';\n",
              "          await google.colab.output.renderOutput(dataTable, element);\n",
              "          const docLink = document.createElement('div');\n",
              "          docLink.innerHTML = docLinkHtml;\n",
              "          element.appendChild(docLink);\n",
              "        }\n",
              "      </script>\n",
              "    </div>\n",
              "  </div>\n",
              "  "
            ]
          },
          "metadata": {},
          "execution_count": 94
        }
      ]
    },
    {
      "cell_type": "code",
      "source": [
        "one_is_null = matched_data[(matched_data.Value_data.isnull()&~matched_data.Value_db.isnull())|(~matched_data.Value_data.isnull()&matched_data.Value_db.isnull())][col_names[:-1]+['Value_data','Value_db']]\n",
        "one_is_null"
      ],
      "metadata": {
        "colab": {
          "base_uri": "https://localhost:8080/",
          "height": 173
        },
        "id": "aL7laojLVVwc",
        "outputId": "604c7a07-f50f-418a-9048-2b6bacae3c1f"
      },
      "execution_count": 95,
      "outputs": [
        {
          "output_type": "execute_result",
          "data": {
            "text/plain": [
              "    Company ID Company Name  Fiscal Year   Industry SIC Code Trading Currency  \\\n",
              "141    4994275    D Company         2011  Machinery     5722              USD   \n",
              "142    4994275    D Company         2012  Machinery     5722              USD   \n",
              "\n",
              "    Metric Name  Value_data  Value_db  \n",
              "141         CDS        <NA>         0  \n",
              "142         CDS        <NA>         0  "
            ],
            "text/html": [
              "\n",
              "  <div id=\"df-44e540aa-e632-43dd-817b-93f56203b99d\">\n",
              "    <div class=\"colab-df-container\">\n",
              "      <div>\n",
              "<style scoped>\n",
              "    .dataframe tbody tr th:only-of-type {\n",
              "        vertical-align: middle;\n",
              "    }\n",
              "\n",
              "    .dataframe tbody tr th {\n",
              "        vertical-align: top;\n",
              "    }\n",
              "\n",
              "    .dataframe thead th {\n",
              "        text-align: right;\n",
              "    }\n",
              "</style>\n",
              "<table border=\"1\" class=\"dataframe\">\n",
              "  <thead>\n",
              "    <tr style=\"text-align: right;\">\n",
              "      <th></th>\n",
              "      <th>Company ID</th>\n",
              "      <th>Company Name</th>\n",
              "      <th>Fiscal Year</th>\n",
              "      <th>Industry</th>\n",
              "      <th>SIC Code</th>\n",
              "      <th>Trading Currency</th>\n",
              "      <th>Metric Name</th>\n",
              "      <th>Value_data</th>\n",
              "      <th>Value_db</th>\n",
              "    </tr>\n",
              "  </thead>\n",
              "  <tbody>\n",
              "    <tr>\n",
              "      <th>141</th>\n",
              "      <td>4994275</td>\n",
              "      <td>D Company</td>\n",
              "      <td>2011</td>\n",
              "      <td>Machinery</td>\n",
              "      <td>5722</td>\n",
              "      <td>USD</td>\n",
              "      <td>CDS</td>\n",
              "      <td>&lt;NA&gt;</td>\n",
              "      <td>0</td>\n",
              "    </tr>\n",
              "    <tr>\n",
              "      <th>142</th>\n",
              "      <td>4994275</td>\n",
              "      <td>D Company</td>\n",
              "      <td>2012</td>\n",
              "      <td>Machinery</td>\n",
              "      <td>5722</td>\n",
              "      <td>USD</td>\n",
              "      <td>CDS</td>\n",
              "      <td>&lt;NA&gt;</td>\n",
              "      <td>0</td>\n",
              "    </tr>\n",
              "  </tbody>\n",
              "</table>\n",
              "</div>\n",
              "      <button class=\"colab-df-convert\" onclick=\"convertToInteractive('df-44e540aa-e632-43dd-817b-93f56203b99d')\"\n",
              "              title=\"Convert this dataframe to an interactive table.\"\n",
              "              style=\"display:none;\">\n",
              "        \n",
              "  <svg xmlns=\"http://www.w3.org/2000/svg\" height=\"24px\"viewBox=\"0 0 24 24\"\n",
              "       width=\"24px\">\n",
              "    <path d=\"M0 0h24v24H0V0z\" fill=\"none\"/>\n",
              "    <path d=\"M18.56 5.44l.94 2.06.94-2.06 2.06-.94-2.06-.94-.94-2.06-.94 2.06-2.06.94zm-11 1L8.5 8.5l.94-2.06 2.06-.94-2.06-.94L8.5 2.5l-.94 2.06-2.06.94zm10 10l.94 2.06.94-2.06 2.06-.94-2.06-.94-.94-2.06-.94 2.06-2.06.94z\"/><path d=\"M17.41 7.96l-1.37-1.37c-.4-.4-.92-.59-1.43-.59-.52 0-1.04.2-1.43.59L10.3 9.45l-7.72 7.72c-.78.78-.78 2.05 0 2.83L4 21.41c.39.39.9.59 1.41.59.51 0 1.02-.2 1.41-.59l7.78-7.78 2.81-2.81c.8-.78.8-2.07 0-2.86zM5.41 20L4 18.59l7.72-7.72 1.47 1.35L5.41 20z\"/>\n",
              "  </svg>\n",
              "      </button>\n",
              "      \n",
              "  <style>\n",
              "    .colab-df-container {\n",
              "      display:flex;\n",
              "      flex-wrap:wrap;\n",
              "      gap: 12px;\n",
              "    }\n",
              "\n",
              "    .colab-df-convert {\n",
              "      background-color: #E8F0FE;\n",
              "      border: none;\n",
              "      border-radius: 50%;\n",
              "      cursor: pointer;\n",
              "      display: none;\n",
              "      fill: #1967D2;\n",
              "      height: 32px;\n",
              "      padding: 0 0 0 0;\n",
              "      width: 32px;\n",
              "    }\n",
              "\n",
              "    .colab-df-convert:hover {\n",
              "      background-color: #E2EBFA;\n",
              "      box-shadow: 0px 1px 2px rgba(60, 64, 67, 0.3), 0px 1px 3px 1px rgba(60, 64, 67, 0.15);\n",
              "      fill: #174EA6;\n",
              "    }\n",
              "\n",
              "    [theme=dark] .colab-df-convert {\n",
              "      background-color: #3B4455;\n",
              "      fill: #D2E3FC;\n",
              "    }\n",
              "\n",
              "    [theme=dark] .colab-df-convert:hover {\n",
              "      background-color: #434B5C;\n",
              "      box-shadow: 0px 1px 3px 1px rgba(0, 0, 0, 0.15);\n",
              "      filter: drop-shadow(0px 1px 2px rgba(0, 0, 0, 0.3));\n",
              "      fill: #FFFFFF;\n",
              "    }\n",
              "  </style>\n",
              "\n",
              "      <script>\n",
              "        const buttonEl =\n",
              "          document.querySelector('#df-44e540aa-e632-43dd-817b-93f56203b99d button.colab-df-convert');\n",
              "        buttonEl.style.display =\n",
              "          google.colab.kernel.accessAllowed ? 'block' : 'none';\n",
              "\n",
              "        async function convertToInteractive(key) {\n",
              "          const element = document.querySelector('#df-44e540aa-e632-43dd-817b-93f56203b99d');\n",
              "          const dataTable =\n",
              "            await google.colab.kernel.invokeFunction('convertToInteractive',\n",
              "                                                     [key], {});\n",
              "          if (!dataTable) return;\n",
              "\n",
              "          const docLinkHtml = 'Like what you see? Visit the ' +\n",
              "            '<a target=\"_blank\" href=https://colab.research.google.com/notebooks/data_table.ipynb>data table notebook</a>'\n",
              "            + ' to learn more about interactive tables.';\n",
              "          element.innerHTML = '';\n",
              "          dataTable['output_type'] = 'display_data';\n",
              "          await google.colab.output.renderOutput(dataTable, element);\n",
              "          const docLink = document.createElement('div');\n",
              "          docLink.innerHTML = docLinkHtml;\n",
              "          element.appendChild(docLink);\n",
              "        }\n",
              "      </script>\n",
              "    </div>\n",
              "  </div>\n",
              "  "
            ]
          },
          "metadata": {},
          "execution_count": 95
        }
      ]
    },
    {
      "cell_type": "markdown",
      "source": [
        "Remaining data here where we can find records on both data file and database are both having null values, which is equal in value."
      ],
      "metadata": {
        "id": "2xgLon6Xo6ze"
      }
    },
    {
      "cell_type": "code",
      "source": [
        "UnEqual = pd.concat([value_not_equal,one_is_null])\n",
        "UnEqual['ERROR Type'] = 'UnEqual'"
      ],
      "metadata": {
        "id": "YlkErSKGVVrg"
      },
      "execution_count": 96,
      "outputs": []
    },
    {
      "cell_type": "code",
      "source": [
        "Example_Compare = pd.concat([Example_Compare,UnEqual])"
      ],
      "metadata": {
        "id": "-P6JKqcX2Zba"
      },
      "execution_count": 97,
      "outputs": []
    },
    {
      "cell_type": "markdown",
      "source": [
        "#### 2. Data in file but not in DB"
      ],
      "metadata": {
        "id": "aUHT-mOvqS-9"
      }
    },
    {
      "cell_type": "code",
      "source": [
        "in_file_not_db = compare[(~compare.data_source_data.isnull())&(compare.data_source_db.isnull())][col_names[:-1]+['Value_data','Value_db']]\n",
        "in_file_not_db['ERROR Type'] = 'Not_in_DB'"
      ],
      "metadata": {
        "id": "bakd97L4VVjg"
      },
      "execution_count": 98,
      "outputs": []
    },
    {
      "cell_type": "code",
      "source": [
        "Example_Compare = pd.concat([Example_Compare,in_file_not_db])"
      ],
      "metadata": {
        "id": "VxViwr9drUne"
      },
      "execution_count": 99,
      "outputs": []
    },
    {
      "cell_type": "code",
      "source": [
        "Example_Compare.shape"
      ],
      "metadata": {
        "colab": {
          "base_uri": "https://localhost:8080/"
        },
        "id": "DtUG2Ink6JBK",
        "outputId": "815d5853-ad23-4d9a-d86a-9dc5d08cc867"
      },
      "execution_count": 100,
      "outputs": [
        {
          "output_type": "execute_result",
          "data": {
            "text/plain": [
              "(128, 10)"
            ]
          },
          "metadata": {},
          "execution_count": 100
        }
      ]
    },
    {
      "cell_type": "markdown",
      "source": [
        "#### 3. Data in DB but not in file"
      ],
      "metadata": {
        "id": "TvHM-rGB2udi"
      }
    },
    {
      "cell_type": "code",
      "source": [
        "in_db_not_file = compare[(compare.data_source_data.isnull())&(~compare.data_source_db.isnull())][col_names[:-1]+['Value_data','Value_db']]\n",
        "in_db_not_file['ERROR Type'] = 'Not_in_File'"
      ],
      "metadata": {
        "id": "TtYAO4Ro2y7o"
      },
      "execution_count": 101,
      "outputs": []
    },
    {
      "cell_type": "code",
      "source": [
        "in_db_not_file"
      ],
      "metadata": {
        "colab": {
          "base_uri": "https://localhost:8080/",
          "height": 111
        },
        "id": "10pUxFyd5qd6",
        "outputId": "fb47333f-7e7f-4b8c-a94d-fdab01dd0518"
      },
      "execution_count": 102,
      "outputs": [
        {
          "output_type": "execute_result",
          "data": {
            "text/plain": [
              "Empty DataFrame\n",
              "Columns: [Company ID, Company Name, Fiscal Year, Industry, SIC Code, Trading Currency, Metric Name, Value_data, Value_db, ERROR Type]\n",
              "Index: []"
            ],
            "text/html": [
              "\n",
              "  <div id=\"df-33fe0759-5676-48dd-b6a1-300c4898bd49\">\n",
              "    <div class=\"colab-df-container\">\n",
              "      <div>\n",
              "<style scoped>\n",
              "    .dataframe tbody tr th:only-of-type {\n",
              "        vertical-align: middle;\n",
              "    }\n",
              "\n",
              "    .dataframe tbody tr th {\n",
              "        vertical-align: top;\n",
              "    }\n",
              "\n",
              "    .dataframe thead th {\n",
              "        text-align: right;\n",
              "    }\n",
              "</style>\n",
              "<table border=\"1\" class=\"dataframe\">\n",
              "  <thead>\n",
              "    <tr style=\"text-align: right;\">\n",
              "      <th></th>\n",
              "      <th>Company ID</th>\n",
              "      <th>Company Name</th>\n",
              "      <th>Fiscal Year</th>\n",
              "      <th>Industry</th>\n",
              "      <th>SIC Code</th>\n",
              "      <th>Trading Currency</th>\n",
              "      <th>Metric Name</th>\n",
              "      <th>Value_data</th>\n",
              "      <th>Value_db</th>\n",
              "      <th>ERROR Type</th>\n",
              "    </tr>\n",
              "  </thead>\n",
              "  <tbody>\n",
              "  </tbody>\n",
              "</table>\n",
              "</div>\n",
              "      <button class=\"colab-df-convert\" onclick=\"convertToInteractive('df-33fe0759-5676-48dd-b6a1-300c4898bd49')\"\n",
              "              title=\"Convert this dataframe to an interactive table.\"\n",
              "              style=\"display:none;\">\n",
              "        \n",
              "  <svg xmlns=\"http://www.w3.org/2000/svg\" height=\"24px\"viewBox=\"0 0 24 24\"\n",
              "       width=\"24px\">\n",
              "    <path d=\"M0 0h24v24H0V0z\" fill=\"none\"/>\n",
              "    <path d=\"M18.56 5.44l.94 2.06.94-2.06 2.06-.94-2.06-.94-.94-2.06-.94 2.06-2.06.94zm-11 1L8.5 8.5l.94-2.06 2.06-.94-2.06-.94L8.5 2.5l-.94 2.06-2.06.94zm10 10l.94 2.06.94-2.06 2.06-.94-2.06-.94-.94-2.06-.94 2.06-2.06.94z\"/><path d=\"M17.41 7.96l-1.37-1.37c-.4-.4-.92-.59-1.43-.59-.52 0-1.04.2-1.43.59L10.3 9.45l-7.72 7.72c-.78.78-.78 2.05 0 2.83L4 21.41c.39.39.9.59 1.41.59.51 0 1.02-.2 1.41-.59l7.78-7.78 2.81-2.81c.8-.78.8-2.07 0-2.86zM5.41 20L4 18.59l7.72-7.72 1.47 1.35L5.41 20z\"/>\n",
              "  </svg>\n",
              "      </button>\n",
              "      \n",
              "  <style>\n",
              "    .colab-df-container {\n",
              "      display:flex;\n",
              "      flex-wrap:wrap;\n",
              "      gap: 12px;\n",
              "    }\n",
              "\n",
              "    .colab-df-convert {\n",
              "      background-color: #E8F0FE;\n",
              "      border: none;\n",
              "      border-radius: 50%;\n",
              "      cursor: pointer;\n",
              "      display: none;\n",
              "      fill: #1967D2;\n",
              "      height: 32px;\n",
              "      padding: 0 0 0 0;\n",
              "      width: 32px;\n",
              "    }\n",
              "\n",
              "    .colab-df-convert:hover {\n",
              "      background-color: #E2EBFA;\n",
              "      box-shadow: 0px 1px 2px rgba(60, 64, 67, 0.3), 0px 1px 3px 1px rgba(60, 64, 67, 0.15);\n",
              "      fill: #174EA6;\n",
              "    }\n",
              "\n",
              "    [theme=dark] .colab-df-convert {\n",
              "      background-color: #3B4455;\n",
              "      fill: #D2E3FC;\n",
              "    }\n",
              "\n",
              "    [theme=dark] .colab-df-convert:hover {\n",
              "      background-color: #434B5C;\n",
              "      box-shadow: 0px 1px 3px 1px rgba(0, 0, 0, 0.15);\n",
              "      filter: drop-shadow(0px 1px 2px rgba(0, 0, 0, 0.3));\n",
              "      fill: #FFFFFF;\n",
              "    }\n",
              "  </style>\n",
              "\n",
              "      <script>\n",
              "        const buttonEl =\n",
              "          document.querySelector('#df-33fe0759-5676-48dd-b6a1-300c4898bd49 button.colab-df-convert');\n",
              "        buttonEl.style.display =\n",
              "          google.colab.kernel.accessAllowed ? 'block' : 'none';\n",
              "\n",
              "        async function convertToInteractive(key) {\n",
              "          const element = document.querySelector('#df-33fe0759-5676-48dd-b6a1-300c4898bd49');\n",
              "          const dataTable =\n",
              "            await google.colab.kernel.invokeFunction('convertToInteractive',\n",
              "                                                     [key], {});\n",
              "          if (!dataTable) return;\n",
              "\n",
              "          const docLinkHtml = 'Like what you see? Visit the ' +\n",
              "            '<a target=\"_blank\" href=https://colab.research.google.com/notebooks/data_table.ipynb>data table notebook</a>'\n",
              "            + ' to learn more about interactive tables.';\n",
              "          element.innerHTML = '';\n",
              "          dataTable['output_type'] = 'display_data';\n",
              "          await google.colab.output.renderOutput(dataTable, element);\n",
              "          const docLink = document.createElement('div');\n",
              "          docLink.innerHTML = docLinkHtml;\n",
              "          element.appendChild(docLink);\n",
              "        }\n",
              "      </script>\n",
              "    </div>\n",
              "  </div>\n",
              "  "
            ]
          },
          "metadata": {},
          "execution_count": 102
        }
      ]
    },
    {
      "cell_type": "markdown",
      "source": [
        "We do not observe any values that's in database but not in file. (The example given in the Excel file for Not_in_File error does not exist under database tab)"
      ],
      "metadata": {
        "id": "YPi7Dw296bSy"
      }
    },
    {
      "cell_type": "code",
      "source": [
        "Example_Compare = pd.concat([Example_Compare,in_db_not_file])"
      ],
      "metadata": {
        "id": "h6jYkWUr5zkm"
      },
      "execution_count": 103,
      "outputs": []
    },
    {
      "cell_type": "code",
      "source": [
        "Example_Compare.shape"
      ],
      "metadata": {
        "colab": {
          "base_uri": "https://localhost:8080/"
        },
        "id": "NKSe7GNe6L-R",
        "outputId": "3901966b-d228-4179-bfd8-40e47cf83e69"
      },
      "execution_count": 104,
      "outputs": [
        {
          "output_type": "execute_result",
          "data": {
            "text/plain": [
              "(128, 10)"
            ]
          },
          "metadata": {},
          "execution_count": 104
        }
      ]
    },
    {
      "cell_type": "code",
      "source": [
        "Example_Compare.head(10)"
      ],
      "metadata": {
        "colab": {
          "base_uri": "https://localhost:8080/",
          "height": 598
        },
        "id": "GcaHLf5IR3e-",
        "outputId": "1a015ac6-fb12-4163-a8d1-60ab17fbb9eb"
      },
      "execution_count": 105,
      "outputs": [
        {
          "output_type": "execute_result",
          "data": {
            "text/plain": [
              "    Company ID Company Name  Fiscal Year         Industry SIC Code  \\\n",
              "22     4989787    C Company         2013        Machinery     5755   \n",
              "97     4986826    L Company         2015  Auto Components     6090   \n",
              "99     4986826    L Company         2017  Auto Components     6090   \n",
              "133    4989787    C Company         2013        Machinery     5755   \n",
              "244    4989787    C Company         2013        Machinery     5755   \n",
              "141    4994275    D Company         2011        Machinery     5722   \n",
              "142    4994275    D Company         2012        Machinery     5722   \n",
              "4      4993687    A Company         2014        Machinery     6085   \n",
              "9      4991368    B Company         2009  Auto Components     4937   \n",
              "10     4991368    B Company         2010  Auto Components     4937   \n",
              "\n",
              "    Trading Currency Metric Name  Value_data  Value_db ERROR Type  \n",
              "22               USD          SP         172       221    UnEqual  \n",
              "97               USD          SP         179        17    UnEqual  \n",
              "99               USD          SP         196        19    UnEqual  \n",
              "133              USD         CDS          95        52    UnEqual  \n",
              "244              USD         ARD          91        84    UnEqual  \n",
              "141              USD         CDS        <NA>         0    UnEqual  \n",
              "142              USD         CDS        <NA>         0    UnEqual  \n",
              "4                USD          SP          55      <NA>  Not_in_DB  \n",
              "9                USD          SP          22      <NA>  Not_in_DB  \n",
              "10               USD          SP          18      <NA>  Not_in_DB  "
            ],
            "text/html": [
              "\n",
              "  <div id=\"df-5badcd45-5c28-4d06-90f0-301f7aa471de\">\n",
              "    <div class=\"colab-df-container\">\n",
              "      <div>\n",
              "<style scoped>\n",
              "    .dataframe tbody tr th:only-of-type {\n",
              "        vertical-align: middle;\n",
              "    }\n",
              "\n",
              "    .dataframe tbody tr th {\n",
              "        vertical-align: top;\n",
              "    }\n",
              "\n",
              "    .dataframe thead th {\n",
              "        text-align: right;\n",
              "    }\n",
              "</style>\n",
              "<table border=\"1\" class=\"dataframe\">\n",
              "  <thead>\n",
              "    <tr style=\"text-align: right;\">\n",
              "      <th></th>\n",
              "      <th>Company ID</th>\n",
              "      <th>Company Name</th>\n",
              "      <th>Fiscal Year</th>\n",
              "      <th>Industry</th>\n",
              "      <th>SIC Code</th>\n",
              "      <th>Trading Currency</th>\n",
              "      <th>Metric Name</th>\n",
              "      <th>Value_data</th>\n",
              "      <th>Value_db</th>\n",
              "      <th>ERROR Type</th>\n",
              "    </tr>\n",
              "  </thead>\n",
              "  <tbody>\n",
              "    <tr>\n",
              "      <th>22</th>\n",
              "      <td>4989787</td>\n",
              "      <td>C Company</td>\n",
              "      <td>2013</td>\n",
              "      <td>Machinery</td>\n",
              "      <td>5755</td>\n",
              "      <td>USD</td>\n",
              "      <td>SP</td>\n",
              "      <td>172</td>\n",
              "      <td>221</td>\n",
              "      <td>UnEqual</td>\n",
              "    </tr>\n",
              "    <tr>\n",
              "      <th>97</th>\n",
              "      <td>4986826</td>\n",
              "      <td>L Company</td>\n",
              "      <td>2015</td>\n",
              "      <td>Auto Components</td>\n",
              "      <td>6090</td>\n",
              "      <td>USD</td>\n",
              "      <td>SP</td>\n",
              "      <td>179</td>\n",
              "      <td>17</td>\n",
              "      <td>UnEqual</td>\n",
              "    </tr>\n",
              "    <tr>\n",
              "      <th>99</th>\n",
              "      <td>4986826</td>\n",
              "      <td>L Company</td>\n",
              "      <td>2017</td>\n",
              "      <td>Auto Components</td>\n",
              "      <td>6090</td>\n",
              "      <td>USD</td>\n",
              "      <td>SP</td>\n",
              "      <td>196</td>\n",
              "      <td>19</td>\n",
              "      <td>UnEqual</td>\n",
              "    </tr>\n",
              "    <tr>\n",
              "      <th>133</th>\n",
              "      <td>4989787</td>\n",
              "      <td>C Company</td>\n",
              "      <td>2013</td>\n",
              "      <td>Machinery</td>\n",
              "      <td>5755</td>\n",
              "      <td>USD</td>\n",
              "      <td>CDS</td>\n",
              "      <td>95</td>\n",
              "      <td>52</td>\n",
              "      <td>UnEqual</td>\n",
              "    </tr>\n",
              "    <tr>\n",
              "      <th>244</th>\n",
              "      <td>4989787</td>\n",
              "      <td>C Company</td>\n",
              "      <td>2013</td>\n",
              "      <td>Machinery</td>\n",
              "      <td>5755</td>\n",
              "      <td>USD</td>\n",
              "      <td>ARD</td>\n",
              "      <td>91</td>\n",
              "      <td>84</td>\n",
              "      <td>UnEqual</td>\n",
              "    </tr>\n",
              "    <tr>\n",
              "      <th>141</th>\n",
              "      <td>4994275</td>\n",
              "      <td>D Company</td>\n",
              "      <td>2011</td>\n",
              "      <td>Machinery</td>\n",
              "      <td>5722</td>\n",
              "      <td>USD</td>\n",
              "      <td>CDS</td>\n",
              "      <td>&lt;NA&gt;</td>\n",
              "      <td>0</td>\n",
              "      <td>UnEqual</td>\n",
              "    </tr>\n",
              "    <tr>\n",
              "      <th>142</th>\n",
              "      <td>4994275</td>\n",
              "      <td>D Company</td>\n",
              "      <td>2012</td>\n",
              "      <td>Machinery</td>\n",
              "      <td>5722</td>\n",
              "      <td>USD</td>\n",
              "      <td>CDS</td>\n",
              "      <td>&lt;NA&gt;</td>\n",
              "      <td>0</td>\n",
              "      <td>UnEqual</td>\n",
              "    </tr>\n",
              "    <tr>\n",
              "      <th>4</th>\n",
              "      <td>4993687</td>\n",
              "      <td>A Company</td>\n",
              "      <td>2014</td>\n",
              "      <td>Machinery</td>\n",
              "      <td>6085</td>\n",
              "      <td>USD</td>\n",
              "      <td>SP</td>\n",
              "      <td>55</td>\n",
              "      <td>&lt;NA&gt;</td>\n",
              "      <td>Not_in_DB</td>\n",
              "    </tr>\n",
              "    <tr>\n",
              "      <th>9</th>\n",
              "      <td>4991368</td>\n",
              "      <td>B Company</td>\n",
              "      <td>2009</td>\n",
              "      <td>Auto Components</td>\n",
              "      <td>4937</td>\n",
              "      <td>USD</td>\n",
              "      <td>SP</td>\n",
              "      <td>22</td>\n",
              "      <td>&lt;NA&gt;</td>\n",
              "      <td>Not_in_DB</td>\n",
              "    </tr>\n",
              "    <tr>\n",
              "      <th>10</th>\n",
              "      <td>4991368</td>\n",
              "      <td>B Company</td>\n",
              "      <td>2010</td>\n",
              "      <td>Auto Components</td>\n",
              "      <td>4937</td>\n",
              "      <td>USD</td>\n",
              "      <td>SP</td>\n",
              "      <td>18</td>\n",
              "      <td>&lt;NA&gt;</td>\n",
              "      <td>Not_in_DB</td>\n",
              "    </tr>\n",
              "  </tbody>\n",
              "</table>\n",
              "</div>\n",
              "      <button class=\"colab-df-convert\" onclick=\"convertToInteractive('df-5badcd45-5c28-4d06-90f0-301f7aa471de')\"\n",
              "              title=\"Convert this dataframe to an interactive table.\"\n",
              "              style=\"display:none;\">\n",
              "        \n",
              "  <svg xmlns=\"http://www.w3.org/2000/svg\" height=\"24px\"viewBox=\"0 0 24 24\"\n",
              "       width=\"24px\">\n",
              "    <path d=\"M0 0h24v24H0V0z\" fill=\"none\"/>\n",
              "    <path d=\"M18.56 5.44l.94 2.06.94-2.06 2.06-.94-2.06-.94-.94-2.06-.94 2.06-2.06.94zm-11 1L8.5 8.5l.94-2.06 2.06-.94-2.06-.94L8.5 2.5l-.94 2.06-2.06.94zm10 10l.94 2.06.94-2.06 2.06-.94-2.06-.94-.94-2.06-.94 2.06-2.06.94z\"/><path d=\"M17.41 7.96l-1.37-1.37c-.4-.4-.92-.59-1.43-.59-.52 0-1.04.2-1.43.59L10.3 9.45l-7.72 7.72c-.78.78-.78 2.05 0 2.83L4 21.41c.39.39.9.59 1.41.59.51 0 1.02-.2 1.41-.59l7.78-7.78 2.81-2.81c.8-.78.8-2.07 0-2.86zM5.41 20L4 18.59l7.72-7.72 1.47 1.35L5.41 20z\"/>\n",
              "  </svg>\n",
              "      </button>\n",
              "      \n",
              "  <style>\n",
              "    .colab-df-container {\n",
              "      display:flex;\n",
              "      flex-wrap:wrap;\n",
              "      gap: 12px;\n",
              "    }\n",
              "\n",
              "    .colab-df-convert {\n",
              "      background-color: #E8F0FE;\n",
              "      border: none;\n",
              "      border-radius: 50%;\n",
              "      cursor: pointer;\n",
              "      display: none;\n",
              "      fill: #1967D2;\n",
              "      height: 32px;\n",
              "      padding: 0 0 0 0;\n",
              "      width: 32px;\n",
              "    }\n",
              "\n",
              "    .colab-df-convert:hover {\n",
              "      background-color: #E2EBFA;\n",
              "      box-shadow: 0px 1px 2px rgba(60, 64, 67, 0.3), 0px 1px 3px 1px rgba(60, 64, 67, 0.15);\n",
              "      fill: #174EA6;\n",
              "    }\n",
              "\n",
              "    [theme=dark] .colab-df-convert {\n",
              "      background-color: #3B4455;\n",
              "      fill: #D2E3FC;\n",
              "    }\n",
              "\n",
              "    [theme=dark] .colab-df-convert:hover {\n",
              "      background-color: #434B5C;\n",
              "      box-shadow: 0px 1px 3px 1px rgba(0, 0, 0, 0.15);\n",
              "      filter: drop-shadow(0px 1px 2px rgba(0, 0, 0, 0.3));\n",
              "      fill: #FFFFFF;\n",
              "    }\n",
              "  </style>\n",
              "\n",
              "      <script>\n",
              "        const buttonEl =\n",
              "          document.querySelector('#df-5badcd45-5c28-4d06-90f0-301f7aa471de button.colab-df-convert');\n",
              "        buttonEl.style.display =\n",
              "          google.colab.kernel.accessAllowed ? 'block' : 'none';\n",
              "\n",
              "        async function convertToInteractive(key) {\n",
              "          const element = document.querySelector('#df-5badcd45-5c28-4d06-90f0-301f7aa471de');\n",
              "          const dataTable =\n",
              "            await google.colab.kernel.invokeFunction('convertToInteractive',\n",
              "                                                     [key], {});\n",
              "          if (!dataTable) return;\n",
              "\n",
              "          const docLinkHtml = 'Like what you see? Visit the ' +\n",
              "            '<a target=\"_blank\" href=https://colab.research.google.com/notebooks/data_table.ipynb>data table notebook</a>'\n",
              "            + ' to learn more about interactive tables.';\n",
              "          element.innerHTML = '';\n",
              "          dataTable['output_type'] = 'display_data';\n",
              "          await google.colab.output.renderOutput(dataTable, element);\n",
              "          const docLink = document.createElement('div');\n",
              "          docLink.innerHTML = docLinkHtml;\n",
              "          element.appendChild(docLink);\n",
              "        }\n",
              "      </script>\n",
              "    </div>\n",
              "  </div>\n",
              "  "
            ]
          },
          "metadata": {},
          "execution_count": 105
        }
      ]
    },
    {
      "cell_type": "code",
      "source": [
        "print(Example_Compare)"
      ],
      "metadata": {
        "colab": {
          "base_uri": "https://localhost:8080/"
        },
        "id": "2O9qhtskPCU7",
        "outputId": "fd027dd1-143c-48ac-c2e2-727f27cc26b7"
      },
      "execution_count": 109,
      "outputs": [
        {
          "output_type": "stream",
          "name": "stdout",
          "text": [
            "    Company ID Company Name  Fiscal Year           Industry SIC Code  \\\n",
            "22     4989787    C Company         2013          Machinery     5755   \n",
            "97     4986826    L Company         2015    Auto Components     6090   \n",
            "99     4986826    L Company         2017    Auto Components     6090   \n",
            "133    4989787    C Company         2013          Machinery     5755   \n",
            "244    4989787    C Company         2013          Machinery     5755   \n",
            "..         ...          ...          ...                ...      ...   \n",
            "500    4976235    E Company         2016          Machinery     5878   \n",
            "501    4976235    E Company         2017          Machinery     5878   \n",
            "502    4976235    E Company         2018          Machinery     5878   \n",
            "523    4977221    I Company         2018  Building Products     5624   \n",
            "531    4996197    K Company         2015          Machinery     5788   \n",
            "\n",
            "    Trading Currency Metric Name  Value_data  Value_db ERROR Type  \n",
            "22               USD          SP         172       221    UnEqual  \n",
            "97               USD          SP         179        17    UnEqual  \n",
            "99               USD          SP         196        19    UnEqual  \n",
            "133              USD         CDS          95        52    UnEqual  \n",
            "244              USD         ARD          91        84    UnEqual  \n",
            "..               ...         ...         ...       ...        ...  \n",
            "500              USD         ADA           0      <NA>  Not_in_DB  \n",
            "501              USD         ADA           0      <NA>  Not_in_DB  \n",
            "502              USD         ADA           0      <NA>  Not_in_DB  \n",
            "523              USD         ADA           0      <NA>  Not_in_DB  \n",
            "531              USD         ADA           0      <NA>  Not_in_DB  \n",
            "\n",
            "[128 rows x 10 columns]\n"
          ]
        }
      ]
    },
    {
      "cell_type": "markdown",
      "source": [
        "Checkpoint: Save the records with errors"
      ],
      "metadata": {
        "id": "8iKcqdg27FQ-"
      }
    },
    {
      "cell_type": "code",
      "source": [
        "Example_Compare.to_csv('example_data_vs_db.csv',index=False)"
      ],
      "metadata": {
        "id": "e67zBtpr6X7u"
      },
      "execution_count": 106,
      "outputs": []
    }
  ]
}